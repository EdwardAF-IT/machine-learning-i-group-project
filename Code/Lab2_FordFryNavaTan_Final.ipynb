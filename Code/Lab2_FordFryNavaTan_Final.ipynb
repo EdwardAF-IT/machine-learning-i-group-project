{
 "cells": [
  {
   "cell_type": "markdown",
   "metadata": {},
   "source": [
    "***\n",
    "# Logistic Regression and Support Vector Machines\n",
    "MSDS 7331-407, Lab 2  \n",
    "*Jenna Ford, Edward Fry, Christian Nava, and Jonathan Tan* \n",
    "***"
   ]
  },
  {
   "cell_type": "markdown",
   "metadata": {},
   "source": [
    "## Table of Contents\n",
    "\n",
    "<a href='#Section_1'> 1. Preparation and Dataset Loading </a>  \n",
    "<a href='#Section_2'> 2. Data Cleansing (Lab 1) </a>  \n",
    "<a href='#Section_3'> 3. Create Models </a>  \n",
    "<a href='#Section_3_a'> &nbsp;&nbsp;&nbsp; a. Logistic Regression </a>  \n",
    "<a href='#Section_3_b'> &nbsp;&nbsp;&nbsp; b. Support Vector Machine </a>  \n",
    "<a href='#Section_4'> 4. Model Advantages </a>  \n",
    "<a href='#Section_5'> 5. Interpret Feature Importance</a>  \n",
    "<a href='#Section_6'> 6. Interpret Support Vectors </a>  \n",
    "\n",
    "<!-- <a href='#Section_4_a'> &nbsp;&nbsp;&nbsp; a. Missing Values </a>  --> \n",
    "<!-- <a href='#Section_4_c_i'> &nbsp;&nbsp;&nbsp;&nbsp;&nbsp;&nbsp; i. Cross Street </a>    --> "
   ]
  },
  {
   "cell_type": "markdown",
   "metadata": {},
   "source": [
    "<a id = 'Section_1'></a>"
   ]
  },
  {
   "cell_type": "markdown",
   "metadata": {},
   "source": [
    "## 1. Preparation and Dataset Loading"
   ]
  },
  {
   "cell_type": "code",
   "execution_count": 1,
   "metadata": {},
   "outputs": [],
   "source": [
    "# Data manipulation\n",
    "import numpy as np\n",
    "import pandas as pd\n",
    "\n",
    "# Creating training and test sets\n",
    "import sklearn\n",
    "\n",
    "# File system management\n",
    "import os.path\n",
    "\n",
    "# Supress Warnings\n",
    "import warnings\n",
    "warnings.filterwarnings('ignore')\n",
    "\n",
    "#training/test split\n",
    "from sklearn.model_selection import ShuffleSplit\n",
    "\n",
    "# run logistic regression and vary some parameters\n",
    "from sklearn.linear_model import LogisticRegression\n",
    "from sklearn import metrics as mt\n",
    "\n",
    "# here we can change some of the parameters interactively\n",
    "from ipywidgets import widgets as wd\n",
    "from sklearn.model_selection import cross_val_score\n",
    "\n",
    "#for weights standardization\n",
    "from sklearn.preprocessing import StandardScaler\n",
    "\n",
    "# Support vector machines\n",
    "from sklearn.svm import SVC"
   ]
  },
  {
   "cell_type": "code",
   "execution_count": 2,
   "metadata": {},
   "outputs": [],
   "source": [
    "# Constants\n",
    "DATAPATH_BASE = 'https://machinelearningi.blob.core.windows.net/group-project/'\n",
    "DATAPATH_SAS_TOKEN = '?sv=2019-02-02&ss=bfqt&srt=sco&sp=rwdlacup&se=2020-04-27T11:12:37Z&st=2020-01-23T04:12:37Z&spr=https&sig=jpIpjrp8dIg9eyUyPpmgTe5yj9i1ZoCSru5kBVHcUO8%3D'\n",
    "DATAPATH_FILENAME = 'Arrest_Data_from_2010_to_Present.csv'\n",
    "DATAPATH_SMALL_FILENAME = 'Arrest_Data_from_2010_to_Present_Small.csv'\n",
    "\n",
    "# Fully qualified paths ready to use\n",
    "DATA_SOURCE = \"\".join([DATAPATH_BASE, DATAPATH_SMALL_FILENAME, DATAPATH_SAS_TOKEN])\n",
    "\n",
    "# Options\n",
    "pd.set_option('float_format', '{:.2f}'.format)  # Reign in the scientific notation for reasonable values\n",
    "\n",
    "# Load data for analysis; only read if needed because the import can take a long time\n",
    "try:\n",
    "    if len(df.index) < 1:\n",
    "        df_raw = pd.read_csv(DATA_SOURCE) # If we get here, the dataframe was empty\n",
    "except:   \n",
    "    df_raw = pd.read_csv(DATA_SOURCE) # If we get here, the dataframe did not exist\n",
    "    "
   ]
  },
  {
   "cell_type": "code",
   "execution_count": 3,
   "metadata": {},
   "outputs": [
    {
     "name": "stdout",
     "output_type": "stream",
     "text": [
      "The dataset has 13,266 rows and 17 columns\n"
     ]
    }
   ],
   "source": [
    "df = df_raw\n",
    "print(\"The dataset has {:,} rows and {:,} columns\".format(*df.shape))"
   ]
  },
  {
   "cell_type": "markdown",
   "metadata": {},
   "source": [
    "<a id = 'Section_2'></a>"
   ]
  },
  {
   "cell_type": "markdown",
   "metadata": {},
   "source": [
    "## 2. Data Cleansing (Lab 1)\n",
    "\n",
    "The data cleansing steps performed below are repeated from Lab 1."
   ]
  },
  {
   "cell_type": "code",
   "execution_count": 4,
   "metadata": {},
   "outputs": [
    {
     "name": "stdout",
     "output_type": "stream",
     "text": [
      "<class 'pandas.core.frame.DataFrame'>\n",
      "Int64Index: 12766 entries, 0 to 13265\n",
      "Data columns (total 12 columns):\n",
      "Area ID               12766 non-null object\n",
      "Reporting District    12766 non-null object\n",
      "Age                   12766 non-null int8\n",
      "Sex Code              12766 non-null object\n",
      "Descent Code          12766 non-null object\n",
      "Charge Group Code     12766 non-null object\n",
      "Arrest Type Code      12766 non-null object\n",
      "Location              12766 non-null object\n",
      "Hour                  12766 non-null object\n",
      "arrest_year           12766 non-null object\n",
      "arrest_month          12766 non-null object\n",
      "arrest_day_of_week    12766 non-null object\n",
      "dtypes: int8(1), object(11)\n",
      "memory usage: 1.2+ MB\n"
     ]
    }
   ],
   "source": [
    "# Time - filter out 0 and missing\n",
    "df = df[df['Time'] != 0]\n",
    "df['Time'] = df['Time'].astype(str) \n",
    "df = df[df['Time'] != 'nan']\n",
    "\n",
    "# Time - Convert float to string. Get rid of decimals. Replace missing or invalid values with '0000'.\n",
    "df['Time'] = df['Time'].astype(str).str.split(\".\", expand = True)[0].replace(to_replace = ['2400','nan'], value = '0000') \n",
    "\n",
    "# Time - Fill time column with leading zeros to have 4 characters total\n",
    "df['Time'] = df['Time'].apply(lambda x: '{0:0>4}'.format(x))\n",
    "\n",
    "# Time - Add colon to Time values by converting attribute to a datetime variable \n",
    "df['Time'] = pd.to_datetime(df['Time'], format = '%H%M').dt.time\n",
    "\n",
    "# Age - Drop the observations where Age is less than 16\n",
    "df.drop(df[df['Age'] < 16].index, inplace = True) \n",
    "\n",
    "# Arrest Type Code - Drop the observations where Arrest Type Code = 'D'\n",
    "df.drop(df[df['Arrest Type Code'] == 'D'].index, inplace = True) \n",
    "\n",
    "# Descent Code - Re-classify any descent not in (B,H,O,W) into 0\n",
    "descent_list = ['B','H','O','W']\n",
    "df['Descent Code'] = np.where(np.isin(df['Descent Code'],descent_list),df['Descent Code'],'O')\n",
    "\n",
    "# Get hour\n",
    "df['Hour'] = pd.to_datetime(df['Time'], format='%H:%M:%S').dt.hour\n",
    "\n",
    "# Convert Arrest Date to datetime\n",
    "df['Arrest Date'] = pd.to_datetime(df['Arrest Date'])\n",
    "\n",
    "# Extract year, month, and day of week and add to dataframe as new attributes\n",
    "df['arrest_year']= df['Arrest Date'].dt.year\n",
    "df['arrest_month']= df['Arrest Date'].dt.month\n",
    "df['arrest_day_of_week'] = df['Arrest Date'].dt.weekday_name\n",
    "\n",
    "# remove unecessary columns\n",
    "df.drop(['Cross Street','Charge Description','Charge','Charge Group Description','Time',\n",
    "         'Arrest Date','Report ID','Address','Area Name'], axis=1, inplace=True)\n",
    "\n",
    "# Change data types\n",
    "df['Age'] = df['Age'].astype(np.int8)\n",
    "df['Reporting District'] = df['Reporting District'].astype(np.str)\n",
    "df['Area ID'] = df['Area ID'].astype(np.str)\n",
    "df['Charge Group Code'] = df['Charge Group Code'].astype(np.str)\n",
    "df['Hour'] = df['Hour'].astype(np.str)\n",
    "df['arrest_year'] = df['arrest_year'].astype(np.str)\n",
    "df['arrest_month'] = df['arrest_month'].astype(np.str)\n",
    "df['arrest_day_of_week'] = df['arrest_day_of_week'].astype(np.str)\n",
    "\n",
    "# print clean dataset\n",
    "df.head()\n",
    "df.info()"
   ]
  },
  {
   "cell_type": "code",
   "execution_count": 5,
   "metadata": {},
   "outputs": [
    {
     "name": "stdout",
     "output_type": "stream",
     "text": [
      "The clean data set has 12,766 rows and 12 columns\n"
     ]
    }
   ],
   "source": [
    "print(\"The clean data set has {:,} rows and {:,} columns\".format(*df.shape))"
   ]
  },
  {
   "cell_type": "markdown",
   "metadata": {},
   "source": [
    "<a id = 'Section_3'></a>"
   ]
  },
  {
   "cell_type": "markdown",
   "metadata": {},
   "source": [
    "## 3. Create Models\n",
    "\n",
    "*(50 points)*  \n",
    "\n",
    "*Create a logistic regression model and a support vector machine model for the classification task involved with your dataset. Assess how well each model performs (use 80/20 training/testing split for your data). Adjust parameters of the models to make them more accurate. If your dataset size requires the use of stochastic gradient descent, then linear kernel only is fine to use. That is, the SGDClassifier is fine to use for optimizing logistic regression and linear support vector machines. For many problems, SGD will be required in order to train the SVM model in a reasonable timeframe.*"
   ]
  },
  {
   "cell_type": "markdown",
   "metadata": {},
   "source": [
    "<a id = 'Section_3_a'></a>"
   ]
  },
  {
   "cell_type": "markdown",
   "metadata": {},
   "source": [
    "### a. Logisitc Regression"
   ]
  },
  {
   "cell_type": "markdown",
   "metadata": {},
   "source": [
    "In order to perform a logistic regression, all categorical variables need to be dummy encoded. For example, if a variable has 3 different categories we need to split this out to 3 different variables. The code below does this for the categorical variables used in the model. The target variable `Arrest Type Code` is transformed to range from 0-3 instead of alphabetical letters representing the arrest type. Also, `Age` was bucketed into 10 year increments."
   ]
  },
  {
   "cell_type": "code",
   "execution_count": 6,
   "metadata": {},
   "outputs": [],
   "source": [
    "# Encode Arrest Type Code as Categorical\n",
    "cleanup_arrest = {\"Arrest Type Code\": {\"F\": 0, \"M\": 1, \"I\": 2, \"O\":3}}\n",
    "df.replace(cleanup_arrest,inplace=True)\n",
    "\n",
    "# Create buckets for Age\n",
    "df['age_range'] = pd.cut(df.Age,[16,25,35,45,55,65,75,1e6],4,labels=[0,1,2,3,4,5,6]) # this creates a new variable\n",
    "df['age_range'] = df.age_range.astype(np.int)\n",
    "\n",
    "# Perform one-hot encoding of the categorical data \"Descent Code\"\n",
    "tmp_df = pd.get_dummies(df['Descent Code'],prefix='Descent')\n",
    "df = pd.concat((df,tmp_df),axis=1) # add back into the dataframe\n",
    "\n",
    "# Replace the current Sex atribute with something slightly more intuitive and readable\n",
    "df['IsMale'] = df['Sex Code']=='M' \n",
    "df.IsMale = df.IsMale.astype(np.int)\n",
    "\n",
    "# Perform one-hot encoding of the categorical data \"DOW\"\n",
    "tmp_df = pd.get_dummies(df['arrest_day_of_week'],prefix='DOW')\n",
    "df = pd.concat((df,tmp_df),axis=1) # add back into the dataframe\n",
    "\n",
    "# Perform one-hot encoding of the categorical data \"Area ID\"\n",
    "tmp_df = pd.get_dummies(df['Area ID'],prefix='Area')\n",
    "df = pd.concat((df,tmp_df),axis=1) # add back into the dataframe\n",
    "\n",
    "# Perform one-hot encoding of the categorical data \"Charge Group Code\"\n",
    "tmp_df = pd.get_dummies(df['Charge Group Code'],prefix='Charge')\n",
    "df = pd.concat((df,tmp_df),axis=1) # add back into the dataframe\n",
    "\n",
    "# Perform one-hot encoding of the categorical data \"Hour\"\n",
    "tmp_df = pd.get_dummies(df['Hour'],prefix='Hour')\n",
    "df = pd.concat((df,tmp_df),axis=1) # add back into the dataframe\n",
    "\n",
    "# Perform one-hot encoding of the categorical data \"Month\"\n",
    "tmp_df = pd.get_dummies(df['arrest_month'],prefix='Month')\n",
    "df = pd.concat((df,tmp_df),axis=1) # add back into the dataframe"
   ]
  },
  {
   "cell_type": "markdown",
   "metadata": {},
   "source": [
    "After properly encoding all variables, we remove the original variables from the dataset. We also remove any variables that will not be used in this model. Information about the resulting dataframe is printed for verification and the first 5 records are printed out.\n",
    "\n",
    "Note that this is just a first pass at the model, other variables will be used in future iterations."
   ]
  },
  {
   "cell_type": "code",
   "execution_count": 7,
   "metadata": {},
   "outputs": [
    {
     "name": "stdout",
     "output_type": "stream",
     "text": [
      "<class 'pandas.core.frame.DataFrame'>\n",
      "Int64Index: 12766 entries, 0 to 13265\n",
      "Data columns (total 99 columns):\n",
      "Arrest Type Code    12766 non-null int64\n",
      "age_range           12766 non-null int64\n",
      "Descent_B           12766 non-null uint8\n",
      "Descent_H           12766 non-null uint8\n",
      "Descent_O           12766 non-null uint8\n",
      "Descent_W           12766 non-null uint8\n",
      "IsMale              12766 non-null int64\n",
      "DOW_Friday          12766 non-null uint8\n",
      "DOW_Monday          12766 non-null uint8\n",
      "DOW_Saturday        12766 non-null uint8\n",
      "DOW_Sunday          12766 non-null uint8\n",
      "DOW_Thursday        12766 non-null uint8\n",
      "DOW_Tuesday         12766 non-null uint8\n",
      "DOW_Wednesday       12766 non-null uint8\n",
      "Area_1              12766 non-null uint8\n",
      "Area_10             12766 non-null uint8\n",
      "Area_11             12766 non-null uint8\n",
      "Area_12             12766 non-null uint8\n",
      "Area_13             12766 non-null uint8\n",
      "Area_14             12766 non-null uint8\n",
      "Area_15             12766 non-null uint8\n",
      "Area_16             12766 non-null uint8\n",
      "Area_17             12766 non-null uint8\n",
      "Area_18             12766 non-null uint8\n",
      "Area_19             12766 non-null uint8\n",
      "Area_2              12766 non-null uint8\n",
      "Area_20             12766 non-null uint8\n",
      "Area_21             12766 non-null uint8\n",
      "Area_3              12766 non-null uint8\n",
      "Area_4              12766 non-null uint8\n",
      "Area_5              12766 non-null uint8\n",
      "Area_6              12766 non-null uint8\n",
      "Area_7              12766 non-null uint8\n",
      "Area_8              12766 non-null uint8\n",
      "Area_9              12766 non-null uint8\n",
      "Charge_1.0          12766 non-null uint8\n",
      "Charge_10.0         12766 non-null uint8\n",
      "Charge_11.0         12766 non-null uint8\n",
      "Charge_12.0         12766 non-null uint8\n",
      "Charge_13.0         12766 non-null uint8\n",
      "Charge_14.0         12766 non-null uint8\n",
      "Charge_15.0         12766 non-null uint8\n",
      "Charge_16.0         12766 non-null uint8\n",
      "Charge_17.0         12766 non-null uint8\n",
      "Charge_18.0         12766 non-null uint8\n",
      "Charge_19.0         12766 non-null uint8\n",
      "Charge_2.0          12766 non-null uint8\n",
      "Charge_20.0         12766 non-null uint8\n",
      "Charge_21.0         12766 non-null uint8\n",
      "Charge_22.0         12766 non-null uint8\n",
      "Charge_23.0         12766 non-null uint8\n",
      "Charge_24.0         12766 non-null uint8\n",
      "Charge_25.0         12766 non-null uint8\n",
      "Charge_27.0         12766 non-null uint8\n",
      "Charge_29.0         12766 non-null uint8\n",
      "Charge_3.0          12766 non-null uint8\n",
      "Charge_4.0          12766 non-null uint8\n",
      "Charge_5.0          12766 non-null uint8\n",
      "Charge_6.0          12766 non-null uint8\n",
      "Charge_7.0          12766 non-null uint8\n",
      "Charge_8.0          12766 non-null uint8\n",
      "Charge_9.0          12766 non-null uint8\n",
      "Charge_nan          12766 non-null uint8\n",
      "Hour_0              12766 non-null uint8\n",
      "Hour_1              12766 non-null uint8\n",
      "Hour_10             12766 non-null uint8\n",
      "Hour_11             12766 non-null uint8\n",
      "Hour_12             12766 non-null uint8\n",
      "Hour_13             12766 non-null uint8\n",
      "Hour_14             12766 non-null uint8\n",
      "Hour_15             12766 non-null uint8\n",
      "Hour_16             12766 non-null uint8\n",
      "Hour_17             12766 non-null uint8\n",
      "Hour_18             12766 non-null uint8\n",
      "Hour_19             12766 non-null uint8\n",
      "Hour_2              12766 non-null uint8\n",
      "Hour_20             12766 non-null uint8\n",
      "Hour_21             12766 non-null uint8\n",
      "Hour_22             12766 non-null uint8\n",
      "Hour_23             12766 non-null uint8\n",
      "Hour_3              12766 non-null uint8\n",
      "Hour_4              12766 non-null uint8\n",
      "Hour_5              12766 non-null uint8\n",
      "Hour_6              12766 non-null uint8\n",
      "Hour_7              12766 non-null uint8\n",
      "Hour_8              12766 non-null uint8\n",
      "Hour_9              12766 non-null uint8\n",
      "Month_1             12766 non-null uint8\n",
      "Month_10            12766 non-null uint8\n",
      "Month_11            12766 non-null uint8\n",
      "Month_12            12766 non-null uint8\n",
      "Month_2             12766 non-null uint8\n",
      "Month_3             12766 non-null uint8\n",
      "Month_4             12766 non-null uint8\n",
      "Month_5             12766 non-null uint8\n",
      "Month_6             12766 non-null uint8\n",
      "Month_7             12766 non-null uint8\n",
      "Month_8             12766 non-null uint8\n",
      "Month_9             12766 non-null uint8\n",
      "dtypes: int64(3), uint8(96)\n",
      "memory usage: 1.6 MB\n"
     ]
    }
   ],
   "source": [
    "df_logreg = df\n",
    "\n",
    "df.drop(['Sex Code','Descent Code','arrest_day_of_week','Area ID','Reporting District','Charge Group Code',\n",
    "         'Location','arrest_year','Age','Hour','arrest_month'], axis=1, inplace=True)\n",
    "    \n",
    "df_logreg.info()"
   ]
  },
  {
   "cell_type": "code",
   "execution_count": 8,
   "metadata": {},
   "outputs": [
    {
     "data": {
      "text/html": [
       "<div>\n",
       "<style scoped>\n",
       "    .dataframe tbody tr th:only-of-type {\n",
       "        vertical-align: middle;\n",
       "    }\n",
       "\n",
       "    .dataframe tbody tr th {\n",
       "        vertical-align: top;\n",
       "    }\n",
       "\n",
       "    .dataframe thead th {\n",
       "        text-align: right;\n",
       "    }\n",
       "</style>\n",
       "<table border=\"1\" class=\"dataframe\">\n",
       "  <thead>\n",
       "    <tr style=\"text-align: right;\">\n",
       "      <th></th>\n",
       "      <th>Arrest Type Code</th>\n",
       "      <th>age_range</th>\n",
       "      <th>Descent_B</th>\n",
       "      <th>Descent_H</th>\n",
       "      <th>Descent_O</th>\n",
       "      <th>Descent_W</th>\n",
       "      <th>IsMale</th>\n",
       "      <th>DOW_Friday</th>\n",
       "      <th>DOW_Monday</th>\n",
       "      <th>DOW_Saturday</th>\n",
       "      <th>...</th>\n",
       "      <th>Month_11</th>\n",
       "      <th>Month_12</th>\n",
       "      <th>Month_2</th>\n",
       "      <th>Month_3</th>\n",
       "      <th>Month_4</th>\n",
       "      <th>Month_5</th>\n",
       "      <th>Month_6</th>\n",
       "      <th>Month_7</th>\n",
       "      <th>Month_8</th>\n",
       "      <th>Month_9</th>\n",
       "    </tr>\n",
       "  </thead>\n",
       "  <tbody>\n",
       "    <tr>\n",
       "      <td>0</td>\n",
       "      <td>1</td>\n",
       "      <td>1</td>\n",
       "      <td>0</td>\n",
       "      <td>1</td>\n",
       "      <td>0</td>\n",
       "      <td>0</td>\n",
       "      <td>1</td>\n",
       "      <td>0</td>\n",
       "      <td>0</td>\n",
       "      <td>0</td>\n",
       "      <td>...</td>\n",
       "      <td>0</td>\n",
       "      <td>0</td>\n",
       "      <td>0</td>\n",
       "      <td>0</td>\n",
       "      <td>0</td>\n",
       "      <td>0</td>\n",
       "      <td>0</td>\n",
       "      <td>0</td>\n",
       "      <td>1</td>\n",
       "      <td>0</td>\n",
       "    </tr>\n",
       "    <tr>\n",
       "      <td>1</td>\n",
       "      <td>1</td>\n",
       "      <td>2</td>\n",
       "      <td>0</td>\n",
       "      <td>0</td>\n",
       "      <td>0</td>\n",
       "      <td>1</td>\n",
       "      <td>1</td>\n",
       "      <td>0</td>\n",
       "      <td>0</td>\n",
       "      <td>0</td>\n",
       "      <td>...</td>\n",
       "      <td>0</td>\n",
       "      <td>0</td>\n",
       "      <td>0</td>\n",
       "      <td>0</td>\n",
       "      <td>0</td>\n",
       "      <td>0</td>\n",
       "      <td>1</td>\n",
       "      <td>0</td>\n",
       "      <td>0</td>\n",
       "      <td>0</td>\n",
       "    </tr>\n",
       "    <tr>\n",
       "      <td>2</td>\n",
       "      <td>1</td>\n",
       "      <td>3</td>\n",
       "      <td>0</td>\n",
       "      <td>1</td>\n",
       "      <td>0</td>\n",
       "      <td>0</td>\n",
       "      <td>1</td>\n",
       "      <td>1</td>\n",
       "      <td>0</td>\n",
       "      <td>0</td>\n",
       "      <td>...</td>\n",
       "      <td>0</td>\n",
       "      <td>0</td>\n",
       "      <td>0</td>\n",
       "      <td>0</td>\n",
       "      <td>0</td>\n",
       "      <td>1</td>\n",
       "      <td>0</td>\n",
       "      <td>0</td>\n",
       "      <td>0</td>\n",
       "      <td>0</td>\n",
       "    </tr>\n",
       "    <tr>\n",
       "      <td>3</td>\n",
       "      <td>1</td>\n",
       "      <td>0</td>\n",
       "      <td>0</td>\n",
       "      <td>1</td>\n",
       "      <td>0</td>\n",
       "      <td>0</td>\n",
       "      <td>1</td>\n",
       "      <td>0</td>\n",
       "      <td>0</td>\n",
       "      <td>0</td>\n",
       "      <td>...</td>\n",
       "      <td>0</td>\n",
       "      <td>0</td>\n",
       "      <td>0</td>\n",
       "      <td>0</td>\n",
       "      <td>0</td>\n",
       "      <td>1</td>\n",
       "      <td>0</td>\n",
       "      <td>0</td>\n",
       "      <td>0</td>\n",
       "      <td>0</td>\n",
       "    </tr>\n",
       "    <tr>\n",
       "      <td>4</td>\n",
       "      <td>1</td>\n",
       "      <td>1</td>\n",
       "      <td>0</td>\n",
       "      <td>1</td>\n",
       "      <td>0</td>\n",
       "      <td>0</td>\n",
       "      <td>1</td>\n",
       "      <td>1</td>\n",
       "      <td>0</td>\n",
       "      <td>0</td>\n",
       "      <td>...</td>\n",
       "      <td>0</td>\n",
       "      <td>0</td>\n",
       "      <td>0</td>\n",
       "      <td>0</td>\n",
       "      <td>0</td>\n",
       "      <td>1</td>\n",
       "      <td>0</td>\n",
       "      <td>0</td>\n",
       "      <td>0</td>\n",
       "      <td>0</td>\n",
       "    </tr>\n",
       "  </tbody>\n",
       "</table>\n",
       "<p>5 rows × 99 columns</p>\n",
       "</div>"
      ],
      "text/plain": [
       "   Arrest Type Code  age_range  Descent_B  Descent_H  Descent_O  Descent_W  \\\n",
       "0                 1          1          0          1          0          0   \n",
       "1                 1          2          0          0          0          1   \n",
       "2                 1          3          0          1          0          0   \n",
       "3                 1          0          0          1          0          0   \n",
       "4                 1          1          0          1          0          0   \n",
       "\n",
       "   IsMale  DOW_Friday  DOW_Monday  DOW_Saturday  ...  Month_11  Month_12  \\\n",
       "0       1           0           0             0  ...         0         0   \n",
       "1       1           0           0             0  ...         0         0   \n",
       "2       1           1           0             0  ...         0         0   \n",
       "3       1           0           0             0  ...         0         0   \n",
       "4       1           1           0             0  ...         0         0   \n",
       "\n",
       "   Month_2  Month_3  Month_4  Month_5  Month_6  Month_7  Month_8  Month_9  \n",
       "0        0        0        0        0        0        0        1        0  \n",
       "1        0        0        0        0        1        0        0        0  \n",
       "2        0        0        0        1        0        0        0        0  \n",
       "3        0        0        0        1        0        0        0        0  \n",
       "4        0        0        0        1        0        0        0        0  \n",
       "\n",
       "[5 rows x 99 columns]"
      ]
     },
     "execution_count": 8,
     "metadata": {},
     "output_type": "execute_result"
    }
   ],
   "source": [
    "df.head()"
   ]
  },
  {
   "cell_type": "markdown",
   "metadata": {},
   "source": [
    "The section of code below sets up the frame for the logistic regression model. The target `Arrest Type Code` is identified and all other variables are assigned as explanatory variables.\n",
    "\n",
    "Also indicated in this section of code is the training/test split of 80%/20%. The model will be built with 80% of the data and tested on the remaining 20%.\n",
    "\n",
    "Note that only one iteration of the model is being run. This is due to the time is takes to run the model with the number of observations and variables we have in the dataset. In future assignments, we will run through more iterations."
   ]
  },
  {
   "cell_type": "code",
   "execution_count": 9,
   "metadata": {},
   "outputs": [
    {
     "name": "stdout",
     "output_type": "stream",
     "text": [
      "ShuffleSplit(n_splits=1, random_state=None, test_size=0.2, train_size=None)\n"
     ]
    }
   ],
   "source": [
    "# we want to predict the X and y data as follows:\n",
    "if 'Arrest Type Code' in df_logreg:\n",
    "    y = df_logreg['Arrest Type Code'].values # get the labels we want\n",
    "    del df_logreg['Arrest Type Code'] # get rid of the class label\n",
    "    X = df_logreg.values # use everything else to predict!\n",
    "\n",
    "    ## X and y are now numpy matrices, by calling 'values' on the pandas data frames we\n",
    "    #    have converted them into simple matrices to use with scikit learn\n",
    "    \n",
    "    \n",
    "# to use the cross validation object in scikit learn, we need to grab an instance\n",
    "#    of the object and set it up. This object will be able to split our data into \n",
    "#    training and testing splits\n",
    "num_cv_iterations = 1\n",
    "num_instances = len(y)\n",
    "cv_object = ShuffleSplit(n_splits=num_cv_iterations,\n",
    "                         test_size  = 0.2)\n",
    "                         \n",
    "print(cv_object)"
   ]
  },
  {
   "cell_type": "markdown",
   "metadata": {},
   "source": [
    "The code below splits the data into the training/test split identified earlier and runs a multi-nomial logistic regression."
   ]
  },
  {
   "cell_type": "code",
   "execution_count": 10,
   "metadata": {},
   "outputs": [
    {
     "name": "stdout",
     "output_type": "stream",
     "text": [
      "====Iteration 0  ====\n",
      "accuracy 0.20164447924823806\n",
      "confusion matrix\n",
      " [[   0  242    0  563]\n",
      " [   0  480    0 1112]\n",
      " [   0   23    0   84]\n",
      " [   0   15    0   35]]\n"
     ]
    }
   ],
   "source": [
    "# first we create a reusable logisitic regression object\n",
    "#   here we can setup the object with different learning parameters and constants\n",
    "lr_clf = LogisticRegression(multi_class='multinomial', solver='newton-cg' ) # get object\n",
    "\n",
    "# now we can use the cv_object that we setup before to iterate through the \n",
    "#    different training and testing sets. Each time we will reuse the logisitic regression \n",
    "#    object, but it gets trained on different data each time we use it.\n",
    "\n",
    "iter_num=0\n",
    "# the indices are the rows used for training and testing in each iteration\n",
    "for iter_num, (train_indices, test_indices) in enumerate(cv_object.split(X,y)):\n",
    "    lr_clf.fit(X[train_indices],y[train_indices])  # train object\n",
    "    y_hat = lr_clf.predict(X[test_indices]) # get test set precitions\n",
    "\n",
    "    # print the accuracy and confusion matrix \n",
    "    print(\"====Iteration\",iter_num,\" ====\")\n",
    "    print(\"accuracy\", mt.accuracy_score(y[test_indices],y_hat)) \n",
    "    print(\"confusion matrix\\n\",mt.confusion_matrix(y[test_indices],y_hat))"
   ]
  },
  {
   "cell_type": "markdown",
   "metadata": {},
   "source": [
    "The accuracy for this iteration of the model is 75.9%. Without adjusting model parameters, we are already very close to our target accuracy of 75%. The various iterations we have run ranged from accuracy of 70% to 78%.\n",
    "\n",
    "It is interesting to note that the model never predicts the arrest type codes I-Infraction and O-Other. In future iterations, we will try to improve this, but it may be difficult due to the limited number of observations available for the arrest types."
   ]
  },
  {
   "cell_type": "code",
   "execution_count": 11,
   "metadata": {},
   "outputs": [
    {
     "data": {
      "application/vnd.jupyter.widget-view+json": {
       "model_id": "09eea77847064a9c91e719b94d46b18f",
       "version_major": 2,
       "version_minor": 0
      },
      "text/plain": [
       "interactive(children=(FloatSlider(value=2.451, description='cost', max=5.0, min=0.001, step=0.05), Output()), …"
      ]
     },
     "metadata": {},
     "output_type": "display_data"
    },
    {
     "data": {
      "text/plain": [
       "<function __main__.lr_explor(cost)>"
      ]
     },
     "execution_count": 11,
     "metadata": {},
     "output_type": "execute_result"
    }
   ],
   "source": [
    "def lr_explor(cost):\n",
    "    lr_clf = LogisticRegression(multi_class='multinomial', C=cost, class_weight=None,solver='newton-cg') # get object\n",
    "    accuracies = cross_val_score(lr_clf,X,y=y,cv=cv_object) # this also can help with parallelism\n",
    "    print(accuracies)\n",
    "\n",
    "wd.interact(lr_explor,cost=(0.001,5.0,0.05),__manual=True)"
   ]
  },
  {
   "cell_type": "code",
   "execution_count": 12,
   "metadata": {},
   "outputs": [
    {
     "name": "stdout",
     "output_type": "stream",
     "text": [
      "accuracy: 0.803054032889585\n",
      "[[ 569  233    0    1]\n",
      " [ 138 1443   29    4]\n",
      " [   1   44   37    0]\n",
      " [   5   47    1    2]]\n"
     ]
    }
   ],
   "source": [
    "iter_num=0\n",
    "# the indices are the rows used for training and testing in each iteration\n",
    "for train_indices, test_indices in cv_object.split(X,y): \n",
    "    # I will create new variables here so that it is more obvious what \n",
    "    # the code is doing (you can compact this syntax and avoid duplicating memory,\n",
    "    # but it makes this code less readable)\n",
    "    X_train = X[train_indices]\n",
    "    y_train = y[train_indices]\n",
    "    \n",
    "    X_test = X[test_indices]\n",
    "    y_test = y[test_indices]\n",
    "    \n",
    "# we want to normalize the features based upon the mean and standard deviation of each column. \n",
    "# However, we do not want to accidentally use the testing data to find out the mean and std (this would be snooping)\n",
    "# to Make things easier, let's start by just using whatever was last stored in the variables:\n",
    "##    X_train , y_train , X_test, y_test (they were set in a for loop above)\n",
    "\n",
    "# scale attributes by the training set\n",
    "scl_obj = StandardScaler()\n",
    "scl_obj.fit(X_train) # find scalings for each column that make this zero mean and unit std\n",
    "# the line of code above only looks at training data to get mean and std and we can use it \n",
    "# to transform new feature data\n",
    "\n",
    "X_train_scaled = scl_obj.transform(X_train) # apply to training\n",
    "X_test_scaled = scl_obj.transform(X_test) # apply those means and std to the test set (without snooping at the test set values)\n",
    "\n",
    "# train the model just as before\n",
    "lr_clf = LogisticRegression(multi_class='multinomial', solver='newton-cg' ) # get object, the 'C' value is less\n",
    "lr_clf.fit(X_train_scaled,y_train)  # train object\n",
    "\n",
    "y_hat = lr_clf.predict(X_test_scaled) # get test set precitions\n",
    "\n",
    "acc = mt.accuracy_score(y_test,y_hat)\n",
    "conf = mt.confusion_matrix(y_test,y_hat)\n",
    "print('accuracy:', acc )\n",
    "print(conf )"
   ]
  },
  {
   "cell_type": "code",
   "execution_count": 13,
   "metadata": {},
   "outputs": [
    {
     "name": "stdout",
     "output_type": "stream",
     "text": [
      "Charge_18.0 has weight of -1.3096479956803257\n",
      "Charge_17.0 has weight of -0.9419448039257801\n",
      "Charge_nan has weight of -0.6086019987630146\n",
      "Charge_20.0 has weight of -0.48836026221743206\n",
      "Charge_24.0 has weight of -0.25506915449111883\n",
      "Charge_19.0 has weight of -0.2188566121513847\n",
      "Area_14 has weight of -0.18148802850002357\n",
      "Charge_27.0 has weight of -0.1732631755994364\n",
      "Charge_13.0 has weight of -0.15084697542890435\n",
      "Charge_23.0 has weight of -0.12815017467424888\n",
      "Charge_21.0 has weight of -0.12796246786098905\n",
      "Area_6 has weight of -0.12009964222192075\n",
      "Area_3 has weight of -0.0955992770565547\n",
      "Month_8 has weight of -0.09504831506526373\n",
      "Hour_8 has weight of -0.08157459983469009\n",
      "DOW_Wednesday has weight of -0.07336272709771388\n",
      "Area_19 has weight of -0.07223077665467052\n",
      "Hour_7 has weight of -0.06964328877379812\n",
      "Area_2 has weight of -0.06398839565910998\n",
      "Hour_15 has weight of -0.06232859157373866\n",
      "Area_8 has weight of -0.05462007226738399\n",
      "Area_9 has weight of -0.05344831380918311\n",
      "Hour_14 has weight of -0.04852365938140655\n",
      "Hour_17 has weight of -0.04609563349263609\n",
      "Charge_29.0 has weight of -0.0428569146414234\n",
      "Descent_H has weight of -0.03177336298420178\n",
      "Month_6 has weight of -0.03172373292047752\n",
      "Charge_15.0 has weight of -0.03111887721626433\n",
      "Hour_11 has weight of -0.03061351342078826\n",
      "Month_12 has weight of -0.030010583811941976\n",
      "Hour_6 has weight of -0.029556698861907028\n",
      "Area_15 has weight of -0.028659393184559397\n",
      "Hour_22 has weight of -0.02082582721523864\n",
      "Area_17 has weight of -0.019076345796246945\n",
      "DOW_Thursday has weight of -0.016946747622369442\n",
      "Descent_O has weight of -0.008067863969043106\n",
      "Hour_21 has weight of -0.007995560273307207\n",
      "Area_1 has weight of -0.005151273599814538\n",
      "Hour_20 has weight of -0.00330493202930402\n",
      "Hour_13 has weight of -0.00328751067223515\n",
      "DOW_Friday has weight of -0.0025952158574913207\n",
      "Hour_18 has weight of -0.001039819912736948\n",
      "Month_11 has weight of -0.00015038348436977178\n",
      "Hour_12 has weight of 0.002252259858688655\n",
      "Hour_9 has weight of 0.002630434501759434\n",
      "Hour_16 has weight of 0.004015414548637766\n",
      "Month_7 has weight of 0.004399098092739186\n",
      "Area_4 has weight of 0.0051991982861567185\n",
      "Hour_10 has weight of 0.006489521174313431\n",
      "Hour_19 has weight of 0.007340542773213584\n",
      "Month_1 has weight of 0.008109440309130599\n",
      "Descent_B has weight of 0.008793319826645708\n",
      "Hour_23 has weight of 0.010424815083416621\n",
      "Month_5 has weight of 0.010663204019673819\n",
      "IsMale has weight of 0.011952354053777033\n",
      "Month_2 has weight of 0.012806880642555727\n",
      "Month_4 has weight of 0.013914525208070816\n",
      "Area_20 has weight of 0.018936788200465564\n",
      "DOW_Saturday has weight of 0.019018127455065346\n",
      "DOW_Tuesday has weight of 0.019658441922443166\n",
      "DOW_Monday has weight of 0.022595584405306884\n",
      "Hour_2 has weight of 0.022859249000524724\n",
      "Area_11 has weight of 0.02406350430130254\n",
      "Area_7 has weight of 0.02587283183268168\n",
      "Month_10 has weight of 0.03300768287266265\n",
      "Descent_W has weight of 0.03460376875277395\n",
      "Month_9 has weight of 0.03562929885769501\n",
      "Area_10 has weight of 0.037159461538506904\n",
      "Month_3 has weight of 0.03945267100682473\n",
      "age_range has weight of 0.04083471045502156\n",
      "Hour_0 has weight of 0.04151324680409113\n",
      "DOW_Sunday has weight of 0.04351212157543605\n",
      "Hour_5 has weight of 0.04694289585875429\n",
      "Area_5 has weight of 0.05752011735960265\n",
      "Area_21 has weight of 0.06355517112869381\n",
      "Hour_1 has weight of 0.07003141563265937\n",
      "Area_18 has weight of 0.08552494778362145\n",
      "Hour_4 has weight of 0.09862308106050852\n",
      "Charge_25.0 has weight of 0.09969386076594448\n",
      "Charge_6.0 has weight of 0.11231666754851861\n",
      "Charge_10.0 has weight of 0.12559579480052657\n",
      "Area_13 has weight of 0.12730790079095886\n",
      "Charge_1.0 has weight of 0.14860649043584334\n",
      "Charge_2.0 has weight of 0.18830946371718368\n",
      "Area_16 has weight of 0.19185127778900202\n",
      "Area_12 has weight of 0.19737583617054255\n",
      "Hour_3 has weight of 0.20425003456536603\n",
      "Charge_11.0 has weight of 0.2103297308730586\n",
      "Charge_14.0 has weight of 0.2132412459193775\n",
      "Charge_9.0 has weight of 0.21672358364139688\n",
      "Charge_22.0 has weight of 0.23463197834484972\n",
      "Charge_8.0 has weight of 0.3376393640439573\n",
      "Charge_12.0 has weight of 0.4709598387347506\n",
      "Charge_7.0 has weight of 0.48300976682962676\n",
      "Charge_5.0 has weight of 0.4858210455314169\n",
      "Charge_16.0 has weight of 0.6285177502505175\n",
      "Charge_3.0 has weight of 0.7368408767277043\n",
      "Charge_4.0 has weight of 0.852483675377942\n"
     ]
    }
   ],
   "source": [
    "# sort these attributes and spit them out\n",
    "zip_vars = zip(lr_clf.coef_.T,df_logreg.columns) # combine attributes\n",
    "zipped = list(zip_vars) \n",
    "zipped = sorted(zipped, key = lambda x: x[0][0])\n",
    "for coef, name in zipped:\n",
    "    print(name, 'has weight of', coef[0]) # now print them out"
   ]
  },
  {
   "cell_type": "markdown",
   "metadata": {},
   "source": [
    "<a id = 'Section_3_b_feature_importance'></a>"
   ]
  },
  {
   "cell_type": "code",
   "execution_count": 27,
   "metadata": {},
   "outputs": [
    {
     "data": {
      "image/png": "[encoded data removed]",
      "text/plain": [
       "<Figure size 1080x2160 with 1 Axes>"
      ]
     },
     "metadata": {},
     "output_type": "display_data"
    }
   ],
   "source": [
    "# now let's make a pandas Series with the names and values, and plot them\n",
    "from matplotlib import pyplot as plt\n",
    "from matplotlib import cm\n",
    "\n",
    "%matplotlib inline\n",
    "plt.style.use('ggplot')\n",
    "plt.figure(figsize=(15,30))\n",
    "plt.title('Logistic Regression Feature Importance', fontsize=24)\n",
    "\n",
    "\n",
    "weights = pd.Series(lr_clf.coef_[0],index=df_logreg.columns).sort_values()\n",
    "weights.plot(kind='barh')\n",
    "plt.show()"
   ]
  },
  {
   "cell_type": "code",
   "execution_count": 15,
   "metadata": {},
   "outputs": [],
   "source": [
    "#want to filter out smaller weights to see larger impacts"
   ]
  },
  {
   "cell_type": "markdown",
   "metadata": {},
   "source": [
    "<a id = 'Section_3_b'></a>"
   ]
  },
  {
   "cell_type": "markdown",
   "metadata": {},
   "source": [
    "### b. Support Vector Machine"
   ]
  },
  {
   "cell_type": "code",
   "execution_count": 45,
   "metadata": {},
   "outputs": [
    {
     "name": "stdout",
     "output_type": "stream",
     "text": [
      "Linear SVM Accuracy: 0.7963978073610023\n",
      "[[ 566  223    0    0]\n",
      " [ 149 1426   23    0]\n",
      " [   2   69   42    0]\n",
      " [   0   54    0    0]]\n",
      "(6545, 98)\n",
      "(6545,)\n",
      "[2329 3580  426  210]\n"
     ]
    }
   ],
   "source": [
    "# lets investigate SVMs on the data and play with the parameters and kernels\n",
    "\n",
    "# train the model with a linear kernal\n",
    "svm_clf = SVC(C=0.5, kernel='linear', degree=3, gamma='auto') # get object\n",
    "svm_clf.fit(X_train_scaled, y_train)  # train object\n",
    "\n",
    "y_hat = svm_clf.predict(X_test_scaled) # get test set precitions\n",
    "\n",
    "acc = mt.accuracy_score(y_test,y_hat)\n",
    "conf = mt.confusion_matrix(y_test,y_hat)\n",
    "print('Linear SVM Accuracy:', acc )\n",
    "print(conf)\n",
    "\n",
    "# look at the support vectors\n",
    "print(svm_clf.support_vectors_.shape)\n",
    "print(svm_clf.support_.shape)\n",
    "print(svm_clf.n_support_ )"
   ]
  },
  {
   "cell_type": "code",
   "execution_count": 51,
   "metadata": {
    "scrolled": true
   },
   "outputs": [
    {
     "name": "stdout",
     "output_type": "stream",
     "text": [
      "[[ 1.53387354e-06 -9.72033192e-07 -1.85170726e-06  9.01577043e-06\n",
      "  -1.96233773e-06 -7.00512913e-07 -3.62603247e-06  3.49320948e-06\n",
      "  -3.87397372e-06 -9.19312001e-07  7.14763190e-06  8.76661139e-06\n",
      "  -1.02066679e-05 -9.24814647e-06  9.39707805e-06  6.35109718e-06\n",
      "   2.20024447e-06 -6.66827042e-06 -6.61906974e-06  1.47829273e-06\n",
      "   3.92885660e-06  1.07417840e-05  1.15307629e-05 -1.07832377e-05\n",
      "  -2.50820101e-06  1.57591167e-06 -4.32190288e-06 -6.23015507e-06\n",
      "   1.35618967e-05  2.53052604e-06 -7.02585315e-06  6.58999423e-06\n",
      "  -7.91020003e-06  8.70876094e-06  7.08251541e-02  1.17578811e-01\n",
      "   9.71197563e-02  2.06719378e-01 -1.08066648e-01 -6.16422611e-02\n",
      "  -4.58398294e-02  4.69147292e-01 -1.14184033e-01 -1.67919380e-01\n",
      "  -3.16549181e-02  6.94706030e-02 -1.03200452e-01 -2.88037371e-02\n",
      "  -1.73826783e-01 -1.25247961e-01 -2.31219164e-01  2.40816779e-02\n",
      "  -3.66656489e-02 -1.01845436e-02  1.90407110e-01  3.45035780e-01\n",
      "   1.92802889e-01 -1.30739979e-01  1.93297222e-01 -1.29198355e-01\n",
      "   9.61170270e-02 -1.44254050e-01 -1.12114516e-05  7.64407339e-07\n",
      "  -9.42311645e-06  3.93047841e-06  7.87893319e-06 -6.95122485e-06\n",
      "   4.26362529e-07 -1.48627747e-05 -3.39581564e-06  1.75189537e-06\n",
      "  -8.01321080e-06 -8.66924246e-07  5.56353861e-06 -7.08622077e-06\n",
      "  -3.26698079e-06  4.30025359e-06 -1.05615681e-06  1.02177827e-05\n",
      "  -3.85012622e-06  1.45765630e-05  1.07915769e-05  1.95184843e-05\n",
      "  -4.37980482e-06  1.94328078e-05 -1.32302129e-05 -6.17174129e-06\n",
      "  -1.32521722e-06  7.93061818e-06  6.11959429e-06  3.24902234e-06\n",
      "  -2.82647672e-06  4.51096783e-06  4.73206439e-06 -8.10274294e-06\n",
      "   6.23703254e-06 -7.94643499e-07]\n",
      " [ 3.34908890e-02  4.19110235e-03 -2.16524509e-03  2.25175228e-02\n",
      "  -1.55892671e-02  1.12141551e-01  5.21567379e-02 -2.44346782e-02\n",
      "   5.66738963e-02 -1.03624200e-02 -4.70195727e-02  5.49261937e-03\n",
      "  -3.31101405e-02  7.93518527e-02  0.00000000e+00 -7.42516788e-02\n",
      "   4.27804408e-01  3.76059183e-01 -1.78505517e-01 -1.77801018e-01\n",
      "  -8.88178420e-16 -2.07535577e-02 -7.88348624e-02 -3.68659706e-02\n",
      "  -8.41639622e-02 -3.10674880e-02 -8.94882486e-02 -3.52288735e-03\n",
      "  -9.92775441e-02  3.06116316e-01 -1.95953026e-01 -1.03774887e-01\n",
      "  -4.72287799e-02  2.26731937e-02  2.05849805e-02  6.50833123e-02\n",
      "   5.39306323e-02  1.56896524e-01  0.00000000e+00  8.96940563e-02\n",
      "  -2.22044605e-16  3.76826525e-01 -7.83794649e-01 -1.08575447e+00\n",
      "  -1.00770374e-01  4.16792993e-02 -8.88178420e-16  2.22044605e-16\n",
      "   2.04025558e-01  1.16454584e-02  3.00032134e-01  1.14661461e-02\n",
      "  -2.22044605e-16 -1.11022302e-16  1.41617853e-01  3.18157358e-01\n",
      "   1.98350893e-01  1.62359864e-01  1.71129555e-01  2.38725396e-01\n",
      "   5.45630820e-02 -5.21697640e-01 -1.44515630e-02 -8.88178420e-16\n",
      "  -1.77461658e-02 -1.11375097e-03  1.50625209e-02 -1.16880975e-02\n",
      "  -2.95380831e-02 -9.79137471e-03  3.72225635e-03 -6.09980477e-02\n",
      "   9.57081512e-03  2.02580153e-02  2.59987044e-02  4.18844246e-02\n",
      "  -6.94614883e-02 -2.76774040e-02  4.78784736e-02  2.33053403e-02\n",
      "   1.55661317e-01 -3.99680289e-15  7.92189376e-02 -1.26751894e-02\n",
      "  -9.68339002e-02  3.16749148e-02  2.80233220e-02 -1.46695943e-02\n",
      "   4.14360884e-03 -1.71215941e-02  9.65551677e-02  9.80416293e-02\n",
      "  -2.65483229e-02 -5.56322885e-02  2.93297592e-02 -6.68307922e-02\n",
      "  -5.41627511e-02 -1.80924768e-02]\n",
      " [-8.76352489e-05 -6.70151564e-05  2.13895421e-05  7.00462008e-05\n",
      "   7.94724182e-06 -4.70217452e-05 -1.78050208e-05  3.87121757e-05\n",
      "   4.82137503e-05  3.22244427e-05 -1.86619422e-05 -1.81595278e-05\n",
      "  -5.27318108e-05  2.90925618e-05  6.32770358e-06 -7.85098750e-06\n",
      "   1.32878630e-06 -2.54358531e-05 -3.42403513e-05  2.94169304e-06\n",
      "   2.67839990e-07  2.76388758e-05  3.37147313e-05 -1.30925723e-05\n",
      "   7.00233329e-05  8.48621302e-05  3.22827785e-05  9.57909523e-06\n",
      "   2.83395707e-05  1.74462862e-05 -2.03558528e-05  2.42448053e-05\n",
      "   1.73326797e-05 -2.24885551e-04  3.04749483e-02  5.05979793e-02\n",
      "   7.99360578e-15  8.90371590e-02 -1.06581410e-14  1.77635684e-14\n",
      "  -2.66453526e-15  2.02119666e-01  3.55271368e-15 -2.13162821e-14\n",
      "   3.55271368e-15  1.77635684e-15 -1.42108547e-14  8.88178420e-16\n",
      "   1.76545085e-01  1.27169901e-01 -5.42414422e-01  1.33226763e-15\n",
      "  -5.32907052e-15  1.33226763e-15  8.18972541e-02  1.48463908e-01\n",
      "   8.31338706e-02  1.32913734e-01  8.31446573e-02  1.31637639e-01\n",
      "   8.88178420e-15 -3.38315855e-01  5.50988528e-03  5.72179849e-03\n",
      "   6.02636735e-03  5.81496757e-03  5.99529716e-03  6.27576430e-03\n",
      "   6.72091995e-03  6.94577611e-03  7.27152724e-03  7.10774486e-03\n",
      "   7.15859315e-03  7.03625225e-03  5.21224926e-03  7.04100163e-03\n",
      "   6.86408017e-03  6.80458584e-03  6.63367258e-03  4.51803676e-03\n",
      "   3.63057146e-03  2.80259455e-03 -2.32254732e-01  5.32907052e-15\n",
      "   5.18602082e-03  5.59192791e-03 -4.61810818e-06  1.25659671e-05\n",
      "   2.78480120e-06 -5.55512376e-05  6.41301603e-06 -1.31541101e-05\n",
      "   5.68521903e-05 -2.52789969e-05 -2.43941462e-05 -3.03964953e-05\n",
      "   1.67819875e-05  5.83078289e-05]\n",
      " [ 1.22233813e-02 -5.28060718e-04  1.58173987e-03  2.04445964e-02\n",
      "  -1.36475226e-02  8.68582645e-02  2.06285799e-02  2.29306830e-02\n",
      "  -2.30239707e-02 -2.17902223e-02  1.24586441e-02  5.63609790e-02\n",
      "  -6.44340867e-02  1.41087717e-01  4.05996384e-02 -1.69524880e-02\n",
      "   1.37081520e-01  1.42427667e-01 -2.75256473e-01 -5.74427353e-02\n",
      "   1.39309417e-01  5.25279151e-02 -7.10542736e-15  6.25180890e-02\n",
      "  -3.11960462e-01 -3.15622730e-02  7.86452723e-02 -1.56912670e-01\n",
      "  -2.94119083e-02  1.13040988e-01 -1.94600981e-02  6.16093360e-02\n",
      "  -1.10996721e-01  9.61280560e-02  3.55271368e-15 -3.12405243e-02\n",
      "   2.80929106e-02  4.14944565e-02  9.33015421e-02  1.72901817e-02\n",
      "   4.49670465e-02  1.60693955e-01 -3.32312101e-01 -1.39626462e-01\n",
      "  -2.85546606e-02 -3.55271368e-15  7.53155043e-02  0.00000000e+00\n",
      "   1.34497760e-01  2.13162821e-14  1.37156871e-01 -1.77635684e-15\n",
      "   1.67576830e-02 -1.77635684e-15  3.55271368e-15 -1.42108547e-14\n",
      "   0.00000000e+00 -2.54888267e-02  7.10542736e-15  9.39710594e-02\n",
      "   3.13760419e-02 -4.13430182e-01  3.66139227e-02  2.26535018e-01\n",
      "  -3.82381772e-02 -3.76339125e-02  1.78679265e-02  2.19092902e-02\n",
      "  -1.47215749e-02 -3.32606319e-02 -6.95534651e-02 -8.87000476e-02\n",
      "  -2.65153341e-02 -8.10402115e-03  4.96041023e-02 -1.25186781e-02\n",
      "  -1.35177991e-02  1.15494377e-01  5.59122545e-02  1.23448982e-01\n",
      "   0.00000000e+00  5.32907052e-15  4.15995173e-02 -9.14503474e-02\n",
      "  -1.17599447e-01 -8.45614928e-02  9.02719954e-02  5.68384830e-02\n",
      "   5.51170876e-03 -3.36441304e-02 -1.24125889e-02  4.52699329e-02\n",
      "  -1.31785126e-02  5.17651456e-02 -2.07093455e-03 -2.24248215e-02\n",
      "  -8.24471857e-02 -8.58642326e-02]\n",
      " [-3.28157433e-06 -1.37790309e-07  1.79989743e-06 -1.37950043e-05\n",
      "   6.16732116e-06 -3.07352555e-05  4.76904738e-06 -7.77066472e-06\n",
      "   1.49682783e-05 -1.84671780e-05 -6.19444767e-06  8.24765342e-06\n",
      "   2.52689214e-06  8.50477379e-06  4.49191600e-05  6.22249047e-07\n",
      "  -5.57104547e-05 -6.19594244e-05  3.76872245e-05  5.84707890e-06\n",
      "  -1.61546771e-05  2.67525121e-05  2.90652442e-05  2.85571943e-05\n",
      "   6.08342302e-06  2.08475432e-05 -2.00969497e-05 -1.44450762e-05\n",
      "  -3.10683701e-05 -2.06999524e-06  2.52287197e-06 -1.75384073e-05\n",
      "  -8.40902800e-06  1.06490215e-05 -5.32907052e-15 -5.32907052e-15\n",
      "   9.76996262e-15  1.59872116e-14  1.35734540e-04  3.19744231e-14\n",
      "  -3.55271368e-15  7.13638994e-05 -1.06581410e-14 -4.97379915e-14\n",
      "   7.10542736e-15  2.66453526e-15  1.35127881e-04  8.88178420e-16\n",
      "   1.99686315e-04  4.26325641e-14 -2.45167007e-04  2.22044605e-15\n",
      "  -9.76996262e-15  2.22044605e-15  2.30926389e-14  4.26325641e-14\n",
      "   1.06581410e-14 -2.48689958e-14 -7.10542736e-15 -3.19744231e-14\n",
      "   1.33226763e-14 -1.44171417e-04 -2.12051298e-05  1.40014606e-05\n",
      "   1.84755285e-06  2.49702024e-06  1.71219654e-05 -5.43151627e-06\n",
      "  -1.70530230e-05 -9.36162450e-06  2.23489845e-05  1.30009141e-05\n",
      "  -1.92198331e-05 -8.95791562e-06  3.21462068e-07 -8.50208461e-06\n",
      "  -1.79703712e-05  3.21152400e-05  4.70066299e-06  7.35481161e-05\n",
      "  -5.59319010e-06 -3.13044918e-05  1.88012754e-05 -2.84059292e-05\n",
      "  -8.98829089e-06 -1.86256837e-05  3.62138328e-06  9.01308312e-07\n",
      "   1.07915282e-05  5.73560310e-06  1.47122463e-05 -1.99558297e-05\n",
      "   2.41099956e-05  2.89577328e-05 -7.80135184e-05  1.79353844e-05\n",
      "  -1.46315498e-06 -5.30847125e-06]\n",
      " [ 1.33238615e-01 -9.43385053e-03 -1.72691869e-01  1.14616050e-01\n",
      "   1.59397809e-01 -6.91950960e-01  3.10274477e-02  7.82105318e-03\n",
      "  -1.35075528e-01 -2.19923167e-02  1.31190187e-01  2.73838448e-03\n",
      "  -2.62008318e-02 -8.51192195e-02 -1.11022302e-16  1.31160244e-01\n",
      "  -2.51813927e-01 -1.11022302e-16  3.10571705e-01  2.23812165e-01\n",
      "  -3.13824389e-01  8.12089730e-02  1.10412264e-01 -2.22044605e-16\n",
      "  -2.81392258e-02  1.18058257e-01  1.11022302e-16 -4.09396160e-01\n",
      "  -5.01921308e-02 -1.87772025e-01  1.59823261e-01  1.44647649e-01\n",
      "  -5.55111512e-17  0.00000000e+00 -2.77555756e-17 -5.55111512e-17\n",
      "   0.00000000e+00  0.00000000e+00 -1.11022302e-16  0.00000000e+00\n",
      "   0.00000000e+00  2.22044605e-16  4.07468699e-01  8.02780104e-01\n",
      "  -2.77555756e-17 -2.77555756e-17  0.00000000e+00  0.00000000e+00\n",
      "   2.22044605e-16  1.18181981e-01 -1.17872095e+00  1.38777878e-17\n",
      "  -5.55111512e-17  1.38777878e-17 -1.11022302e-16  0.00000000e+00\n",
      "  -5.55111512e-17  1.65037393e-01  0.00000000e+00  0.00000000e+00\n",
      "  -8.32667268e-17  3.80666843e-01  0.00000000e+00 -4.03174608e-01\n",
      "  -1.18138313e-01  0.00000000e+00 -2.92581271e-01 -1.07863700e-01\n",
      "   1.05555300e-01  5.02192877e-01  1.31068285e-01 -4.52259172e-02\n",
      "  -7.30303745e-03  2.71610116e-02  5.72134337e-02 -3.31985215e-02\n",
      "  -7.47138204e-02  1.29389755e-01 -1.11022302e-16 -5.55111512e-17\n",
      "  -1.11022302e-16  3.48609972e-02 -5.55111512e-17 -6.71140202e-02\n",
      "   1.41563795e-01 -8.25804726e-02 -5.40129081e-02 -4.60494377e-02\n",
      "   2.27029788e-01 -1.39800662e-01  2.22044605e-16 -1.15245010e-01\n",
      "   8.84079286e-02 -9.10877280e-02 -9.04594899e-02  1.30266901e-01\n",
      "   1.65668876e-01 -7.33321310e-02]]\n"
     ]
    },
    {
     "data": {
      "text/plain": [
       "<matplotlib.axes._subplots.AxesSubplot at 0x14041224a90>"
      ]
     },
     "execution_count": 51,
     "metadata": {},
     "output_type": "execute_result"
    },
    {
     "data": {
      "image/png": "[encoded data removed]",
      "text/plain": [
       "<Figure size 432x288 with 1 Axes>"
      ]
     },
     "metadata": {},
     "output_type": "display_data"
    }
   ],
   "source": [
    "# Look at the weights for linear SVM\n",
    "print(svm_clf.coef_)\n",
    "weights = pd.Series(svm_clf.coef_[0],index=df.columns)\n",
    "weights.plot(kind='bar')"
   ]
  },
  {
   "cell_type": "code",
   "execution_count": 43,
   "metadata": {},
   "outputs": [
    {
     "name": "stdout",
     "output_type": "stream",
     "text": [
      "SVM Accuracy: 0.7975724353954581\n",
      "[[ 565  224    0    0]\n",
      " [ 149 1444    5    0]\n",
      " [   2   83   28    0]\n",
      " [   0   54    0    0]]\n",
      "(6500, 98)\n",
      "(6500,)\n",
      "[2387 3473  430  210]\n"
     ]
    }
   ],
   "source": [
    "# train the model just as before with an rbf kernal\n",
    "svm_clf = SVC(C=0.5, kernel='rbf', degree=3, gamma='auto') # get object\n",
    "svm_clf.fit(X_train_scaled, y_train)  # train object\n",
    "\n",
    "y_hat = svm_clf.predict(X_test_scaled) # get test set precitions\n",
    "\n",
    "acc = mt.accuracy_score(y_test,y_hat)\n",
    "conf = mt.confusion_matrix(y_test,y_hat)\n",
    "print('SVM Accuracy:', acc )\n",
    "print(conf)\n",
    "\n",
    "# look at the support vectors\n",
    "print(svm_clf.support_vectors_.shape)\n",
    "print(svm_clf.support_.shape)\n",
    "print(svm_clf.n_support_ )"
   ]
  },
  {
   "cell_type": "code",
   "execution_count": 19,
   "metadata": {},
   "outputs": [
    {
     "name": "stdout",
     "output_type": "stream",
     "text": [
      "<class 'pandas.core.frame.DataFrame'>\n",
      "Int64Index: 6500 entries, 10451 to 12148\n",
      "Data columns (total 99 columns):\n",
      "age_range           6500 non-null int32\n",
      "Descent_B           6500 non-null uint8\n",
      "Descent_H           6500 non-null uint8\n",
      "Descent_O           6500 non-null uint8\n",
      "Descent_W           6500 non-null uint8\n",
      "IsMale              6500 non-null int32\n",
      "DOW_Friday          6500 non-null uint8\n",
      "DOW_Monday          6500 non-null uint8\n",
      "DOW_Saturday        6500 non-null uint8\n",
      "DOW_Sunday          6500 non-null uint8\n",
      "DOW_Thursday        6500 non-null uint8\n",
      "DOW_Tuesday         6500 non-null uint8\n",
      "DOW_Wednesday       6500 non-null uint8\n",
      "Area_1              6500 non-null uint8\n",
      "Area_10             6500 non-null uint8\n",
      "Area_11             6500 non-null uint8\n",
      "Area_12             6500 non-null uint8\n",
      "Area_13             6500 non-null uint8\n",
      "Area_14             6500 non-null uint8\n",
      "Area_15             6500 non-null uint8\n",
      "Area_16             6500 non-null uint8\n",
      "Area_17             6500 non-null uint8\n",
      "Area_18             6500 non-null uint8\n",
      "Area_19             6500 non-null uint8\n",
      "Area_2              6500 non-null uint8\n",
      "Area_20             6500 non-null uint8\n",
      "Area_21             6500 non-null uint8\n",
      "Area_3              6500 non-null uint8\n",
      "Area_4              6500 non-null uint8\n",
      "Area_5              6500 non-null uint8\n",
      "Area_6              6500 non-null uint8\n",
      "Area_7              6500 non-null uint8\n",
      "Area_8              6500 non-null uint8\n",
      "Area_9              6500 non-null uint8\n",
      "Charge_1.0          6500 non-null uint8\n",
      "Charge_10.0         6500 non-null uint8\n",
      "Charge_11.0         6500 non-null uint8\n",
      "Charge_12.0         6500 non-null uint8\n",
      "Charge_13.0         6500 non-null uint8\n",
      "Charge_14.0         6500 non-null uint8\n",
      "Charge_15.0         6500 non-null uint8\n",
      "Charge_16.0         6500 non-null uint8\n",
      "Charge_17.0         6500 non-null uint8\n",
      "Charge_18.0         6500 non-null uint8\n",
      "Charge_19.0         6500 non-null uint8\n",
      "Charge_2.0          6500 non-null uint8\n",
      "Charge_20.0         6500 non-null uint8\n",
      "Charge_21.0         6500 non-null uint8\n",
      "Charge_22.0         6500 non-null uint8\n",
      "Charge_23.0         6500 non-null uint8\n",
      "Charge_24.0         6500 non-null uint8\n",
      "Charge_25.0         6500 non-null uint8\n",
      "Charge_27.0         6500 non-null uint8\n",
      "Charge_29.0         6500 non-null uint8\n",
      "Charge_3.0          6500 non-null uint8\n",
      "Charge_4.0          6500 non-null uint8\n",
      "Charge_5.0          6500 non-null uint8\n",
      "Charge_6.0          6500 non-null uint8\n",
      "Charge_7.0          6500 non-null uint8\n",
      "Charge_8.0          6500 non-null uint8\n",
      "Charge_9.0          6500 non-null uint8\n",
      "Charge_nan          6500 non-null uint8\n",
      "Hour_0              6500 non-null uint8\n",
      "Hour_1              6500 non-null uint8\n",
      "Hour_10             6500 non-null uint8\n",
      "Hour_11             6500 non-null uint8\n",
      "Hour_12             6500 non-null uint8\n",
      "Hour_13             6500 non-null uint8\n",
      "Hour_14             6500 non-null uint8\n",
      "Hour_15             6500 non-null uint8\n",
      "Hour_16             6500 non-null uint8\n",
      "Hour_17             6500 non-null uint8\n",
      "Hour_18             6500 non-null uint8\n",
      "Hour_19             6500 non-null uint8\n",
      "Hour_2              6500 non-null uint8\n",
      "Hour_20             6500 non-null uint8\n",
      "Hour_21             6500 non-null uint8\n",
      "Hour_22             6500 non-null uint8\n",
      "Hour_23             6500 non-null uint8\n",
      "Hour_3              6500 non-null uint8\n",
      "Hour_4              6500 non-null uint8\n",
      "Hour_5              6500 non-null uint8\n",
      "Hour_6              6500 non-null uint8\n",
      "Hour_7              6500 non-null uint8\n",
      "Hour_8              6500 non-null uint8\n",
      "Hour_9              6500 non-null uint8\n",
      "Month_1             6500 non-null uint8\n",
      "Month_10            6500 non-null uint8\n",
      "Month_11            6500 non-null uint8\n",
      "Month_12            6500 non-null uint8\n",
      "Month_2             6500 non-null uint8\n",
      "Month_3             6500 non-null uint8\n",
      "Month_4             6500 non-null uint8\n",
      "Month_5             6500 non-null uint8\n",
      "Month_6             6500 non-null uint8\n",
      "Month_7             6500 non-null uint8\n",
      "Month_8             6500 non-null uint8\n",
      "Month_9             6500 non-null uint8\n",
      "Arrest Type Code    6500 non-null int64\n",
      "dtypes: int32(2), int64(1), uint8(96)\n",
      "memory usage: 761.7 KB\n"
     ]
    }
   ],
   "source": [
    "# Now let's do some different analysis with the SVM and look at the instances that were chosen as support vectors\n",
    "\n",
    "# now lets look at the support for the vectors and see if we they are indicative of anything\n",
    "# grabe the rows that were selected as support vectors (these are usually instances that are hard to classify)\n",
    "\n",
    "# make a dataframe of the training data\n",
    "df_tested_on = df.iloc[train_indices].copy() # saved from above, the indices chosen for training\n",
    "# now get the support vectors from the trained model\n",
    "df_support = df_tested_on.iloc[svm_clf.support_,:].copy()\n",
    "\n",
    "df_support['Arrest Type Code'] = y[svm_clf.support_] # add back in the 'Arrest Type Code' Column to the pandas dataframe\n",
    "df['Arrest Type Code'] = y # also add it back in for the original data\n",
    "df_support.info()"
   ]
  },
  {
   "cell_type": "code",
   "execution_count": 33,
   "metadata": {},
   "outputs": [
    {
     "data": {
      "image/png": "[encoded data removed]",
      "text/plain": [
       "<Figure size 720x288 with 2 Axes>"
      ]
     },
     "metadata": {},
     "output_type": "display_data"
    }
   ],
   "source": [
    "from pandas.plotting import boxplot\n",
    "\n",
    "# Group the original data and the support vectors\n",
    "df_grouped_support = df_support.groupby(['Arrest Type Code'])\n",
    "df_grouped = df.groupby(['Arrest Type Code'])\n",
    "\n",
    "# Plot KDE of Different variables\n",
    "vars_to_plot = ['IsMale']\n",
    "\n",
    "for v in vars_to_plot:\n",
    "    plt.figure(figsize=(10,4))\n",
    "    # plot support vector stats\n",
    "    plt.subplot(1,2,1)\n",
    "    ax = df_grouped_support[v].plot.kde() \n",
    "    plt.legend(['Felony','Misdemeanor','Infraction','Other'])\n",
    "    plt.title(v+' (Instances chosen as Support Vectors)')\n",
    "    \n",
    "    # plot original distributions\n",
    "    plt.subplot(1,2,2)\n",
    "    ax = df_grouped[v].plot.kde() \n",
    "    plt.legend(['Felony','Misdemeanor','Infraction','Other'])\n",
    "    plt.title(v+' (Original)')"
   ]
  },
  {
   "cell_type": "code",
   "execution_count": 39,
   "metadata": {},
   "outputs": [
    {
     "name": "stdout",
     "output_type": "stream",
     "text": [
      "SVM w/Stochastic Descent: 0.7889584964761159\n",
      "[[ 566  223    0    0]\n",
      " [ 149 1449    0    0]\n",
      " [   2  111    0    0]\n",
      " [   0   54    0    0]]\n",
      "(6500, 98)\n",
      "(6500,)\n",
      "[2387 3473  430  210]\n"
     ]
    }
   ],
   "source": [
    "# Linear SVM classifier with Stochastic Descent\n",
    "from sklearn.linear_model import SGDClassifier\n",
    "\n",
    "regularize_const = 0.1\n",
    "iterations = 5\n",
    "svm_sgd = SGDClassifier(alpha=regularize_const,\n",
    "        fit_intercept=True, l1_ratio=0.0, learning_rate='optimal',\n",
    "        loss='hinge', n_iter_no_change=iterations, n_jobs=-1, penalty='l2')\n",
    "\n",
    "scl = StandardScaler()\n",
    "\n",
    "svm_sgd.fit(scl.fit_transform(X_train_scaled),y_train)\n",
    "yhat = svm_sgd.predict(scl.transform(X_test_scaled))\n",
    "\n",
    "svm_clf = SVC(C=0.5, kernel='rbf', degree=3, gamma='auto') # get object\n",
    "svm_clf.fit(X_train_scaled, y_train)  # train object\n",
    "\n",
    "y_hat = svm_clf.predict(X_test_scaled) # get test set precitions\n",
    "\n",
    "conf = mt.confusion_matrix(y_test,yhat)\n",
    "acc = mt.accuracy_score(y_test,yhat)\n",
    "\n",
    "print('SVM w/Stochastic Descent:', acc)\n",
    "print(conf)\n",
    "\n",
    "# look at the support vectors\n",
    "print(svm_clf.support_vectors_.shape)\n",
    "print(svm_clf.support_.shape)\n",
    "print(svm_clf.n_support_ )"
   ]
  },
  {
   "cell_type": "code",
   "execution_count": 40,
   "metadata": {},
   "outputs": [
    {
     "name": "stdout",
     "output_type": "stream",
     "text": [
      "Linear SVM w/Stochastic Descent: 0.7889584964761159\n",
      "[[ 566  223    0    0]\n",
      " [ 149 1449    0    0]\n",
      " [   2  111    0    0]\n",
      " [   0   54    0    0]]\n",
      "(6545, 98)\n",
      "(6545,)\n",
      "[2329 3580  426  210]\n"
     ]
    }
   ],
   "source": [
    "svm_clf = SVC(C=0.5, kernel='linear', degree=3, gamma='auto') # get object\n",
    "svm_clf.fit(X_train_scaled, y_train)  # train object\n",
    "\n",
    "y_hat = svm_clf.predict(X_test_scaled) # get test set precitions\n",
    "\n",
    "conf = mt.confusion_matrix(y_test,yhat)\n",
    "acc = mt.accuracy_score(y_test,yhat)\n",
    "\n",
    "print('Linear SVM w/Stochastic Descent:', acc)\n",
    "print(conf)\n",
    "\n",
    "# look at the support vectors\n",
    "print(svm_clf.support_vectors_.shape)\n",
    "print(svm_clf.support_.shape)\n",
    "print(svm_clf.n_support_ )"
   ]
  },
  {
   "cell_type": "markdown",
   "metadata": {},
   "source": [
    "<a id = 'Section_4'></a>"
   ]
  },
  {
   "cell_type": "markdown",
   "metadata": {},
   "source": [
    "## 4. Model Advantages\n",
    "\n",
    "*(10 points)*\n",
    "\n",
    "*Discuss the advantages of each model for each classification task. Does one type of model offer superior performance over another in terms of prediction accuracy? In terms of training time or efficiency? Explain in detail.*"
   ]
  },
  {
   "cell_type": "markdown",
   "metadata": {},
   "source": [
    "#### Logistic Regression\n",
    "\n",
    "- **Advantages**: Simple and and interpretable model. Can classify and also give you probabilites. Computationally inexpensive. Good baseline to compare more complex models. Easy to regularize (shrink coeffiicent estimates to zero to avoid overfitting).  \n",
    "\n",
    "\n",
    "- **Disadvantages**: Performace suffers when there are multiple non-linear decision boundaries.  "
   ]
  },
  {
   "cell_type": "markdown",
   "metadata": {},
   "source": [
    "#### Support Vector Machine\n",
    "\n",
    "- **Advantages**: Highly accurate. Can model non-linear decision boundaries. Can work well on smaller datasets (i.e., doesn't need millions of observations). Generalizes well. Tends to avoid overfitting and works well when identifying boundary regions.     \n",
    "\n",
    "\n",
    "- **Disadvantages**: Training time with SVMs can be high. Less effective on noisier datasets with overlapping classes. Requires selection of the kernel function parameters (i.e. you have to provide the true structure of the data as an input). Requires tuning the parameters for the kernels and the C parameter, which can be time consuming and decrease the performance if done improperly.  "
   ]
  },
  {
   "cell_type": "markdown",
   "metadata": {},
   "source": [
    "The SVM model with an RBF kernel had the best prediction accuracy at 0.7975 as shown in Table 1 below; however, an SVM model is more computationally expensive (i.e., less efficient) than a logistic regression model. "
   ]
  },
  {
   "cell_type": "markdown",
   "metadata": {},
   "source": [
    "Table 1: Model Performance\n",
    "\n",
    "| Model | Accuracy |\n",
    "| :--- | :--- |\n",
    "| **Linear SVM (rbf kernel)** | 0.79757 |\n",
    "| **Linear SVM (linear kernel)** | 0.79639 |\n",
    "| **Logistic Regression** | 0.78895 |\n",
    "| **Linear SVM (Stochastic Descent, linear kernel)** | 0.78895 |\n",
    "| **Linear SVM (Stochastic Descent, rbf kernel)** | 0.78895 |\n",
    "\n"
   ]
  },
  {
   "cell_type": "markdown",
   "metadata": {},
   "source": [
    "<a id = 'Section_5'></a>"
   ]
  },
  {
   "cell_type": "markdown",
   "metadata": {},
   "source": [
    "## 5. Interpret Feature Importance\n",
    "\n",
    "*(30 points)*\n",
    "\n",
    "*Use the weights from logistic regression to interpret the importance of different features for the classification task. Explain your interpretation in detail. Why do you think some variables are more important?*"
   ]
  },
  {
   "cell_type": "markdown",
   "metadata": {},
   "source": [
    "Per the Logitstic Regression Feature Importance chart in section [Section 3_b](#Section_3_b_feature_importance) , we can see that the six most important features are Charge_4.0, Charge_3, Charge_16, Charge_nan, Charge_17, and Charge_18. These correspond to..."
   ]
  },
  {
   "cell_type": "markdown",
   "metadata": {},
   "source": [
    "<a id = 'Section_6'></a>"
   ]
  },
  {
   "cell_type": "markdown",
   "metadata": {},
   "source": [
    "## 6. Interpret Support Vectors\n",
    "\n",
    "*(10 points)*\n",
    "\n",
    "*Look at the chosen support vectors for the classification task. Do these provide any insight into the data? Explain. If you used stochastic gradient descent (and therefore did not explicitly solve for support vectors), try subsampling your data to train the SVC model— then analyze the support vectors from the subsampled dataset.*"
   ]
  },
  {
   "cell_type": "code",
   "execution_count": null,
   "metadata": {},
   "outputs": [],
   "source": []
  },
  {
   "cell_type": "code",
   "execution_count": null,
   "metadata": {},
   "outputs": [],
   "source": []
  },
  {
   "cell_type": "code",
   "execution_count": null,
   "metadata": {},
   "outputs": [],
   "source": []
  },
  {
   "cell_type": "code",
   "execution_count": null,
   "metadata": {},
   "outputs": [],
   "source": []
  },
  {
   "cell_type": "code",
   "execution_count": null,
   "metadata": {},
   "outputs": [],
   "source": []
  },
  {
   "cell_type": "code",
   "execution_count": null,
   "metadata": {},
   "outputs": [],
   "source": []
  }
 ],
 "metadata": {
  "kernelspec": {
   "display_name": "Python 3",
   "language": "python",
   "name": "python3"
  },
  "language_info": {
   "codemirror_mode": {
    "name": "ipython",
    "version": 3
   },
   "file_extension": ".py",
   "mimetype": "text/x-python",
   "name": "python",
   "nbconvert_exporter": "python",
   "pygments_lexer": "ipython3",
   "version": "3.7.4"
  }
 },
 "nbformat": 4,
 "nbformat_minor": 2
}
