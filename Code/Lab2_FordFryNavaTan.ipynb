{
 "cells": [
  {
   "cell_type": "markdown",
   "metadata": {},
   "source": [
    "***\n",
    "# Classification\n",
    "MSDS 7331-407, Lab 2 \n",
    "*Jenna Ford, Edward Fry, Christian Nava, and Jonathan Tan* \n",
    "***"
   ]
  },
  {
   "cell_type": "markdown",
   "metadata": {},
   "source": [
    "## Table of Contents\n",
    "\n",
    "<a href='#Section_1'> 1. Introduction </a>  \n",
    "<a href='#Section_2'> 2. Preparation and Dataset Loading </a>  \n",
    "<a href='#Section_3'> 3. Data Preparation Part 1 </a>  \n",
    "<a href='#Section_4'> 4. Data Preparation Part 2 </a>  \n",
    "<a href='#Section_5'> 5. Modeling and Evaluation 1 </a>  \n",
    "<a href='#Section_6'> 6. Modeling and Evaluation 2 </a>  \n",
    "<a href='#Section_7'> 7. Modeling and Evaluation 3 </a>  \n",
    "<a href='#Section_8'> 8. Modeling and Evaluation 4 </a>  \n",
    "<a href='#Section_9'> 9. Modeling and Evaluation 5 </a>  \n",
    "<a href='#Section_10'> 10. Modeling and Evaluation 6 </a>  \n",
    "<a href='#Section_11'> 11. Deployment </a>  \n",
    "<a href='#Section_12'> 12. Exceptional Work </a>  \n",
    "\n",
    "<!-- <a href='#Section_4_a'> &nbsp;&nbsp;&nbsp; a. Missing Values </a>  --> \n",
    "<!-- <a href='#Section_4_c_i'> &nbsp;&nbsp;&nbsp;&nbsp;&nbsp;&nbsp; i. Cross Street </a>    --> "
   ]
  },
  {
   "cell_type": "markdown",
   "metadata": {},
   "source": [
    "<a id = 'Section_1'></a>"
   ]
  },
  {
   "cell_type": "markdown",
   "metadata": {},
   "source": [
    "## 1. Introduction\n",
    "\n",
    "For this project our group will continue to use the Los Angeles arrest incidents dataset with arrest incidents dating back to 2010, which can be found [here](https://data.lacity.org/A-Safe-City/Arrest-Data-from-2010-to-Present/yru6-6re4). This dataset contains information about the date, time and location of the incident, demographic data of the person arrested, and information about the type of incident. \n",
    "\n",
    "We will be classifying the variables `Arrest Type` (Felony, Misdemeanor, Infraction, Other) and `Descent Code` (Black, Hispanic, White, Other). We feel that being able to classify arrest type could help in prioritizing dispatch calls, especially when there are more calls than officers available to respond. We assume that arrest type is an indicator of the severity of the incident. It is also worth noting that most of the data available for the classification would be available to the dispatcher. For example, someone placing a call to 911 would most likely have a basic description of the offender such as gender, approximate age and ethnicity. The caller would also know the location of the incident and have a brief description of the situation. \n",
    "\n",
    "As far as classifying `Descent Code`, we are not trying to make any political statements. However, if this variable can be predicted, what can that tell us? Any information discovered from this could be invetigated further. The information could be used for community outreach programs to help guide and direct efforts where they will make the most impact.\n",
    "\n",
    "We 10-fold cross validation to test a variety of models. We also adjust model parameters to fine-tune our classification models. \n",
    "\n",
    "Model effectiveness will be measured using accuracy. A successful model would ideally exceed the ability of a dispatcher to correctly identify the arrest type. However, we do not have data available for this. To be considered effective, the model should significantly outperform random chance (25%), so we will use accuracy of 75% as the cut-off for identifying if the model is successful.\n",
    "\n",
    "NEED TO WORK ON MORE AFTER MODELS AND EVALUATION METRICS ARE DETERMINED"
   ]
  },
  {
   "cell_type": "markdown",
   "metadata": {},
   "source": [
    "<a id = 'Section_2'></a>"
   ]
  },
  {
   "cell_type": "markdown",
   "metadata": {},
   "source": [
    "## 2. Preparation and Dataset Loading"
   ]
  },
  {
   "cell_type": "code",
   "execution_count": null,
   "metadata": {},
   "outputs": [],
   "source": [
    "# Data manipulation\n",
    "import numpy as np\n",
    "import pandas as pd\n",
    "\n",
    "# Creating training and test sets\n",
    "import sklearn\n",
    "\n",
    "# File system management\n",
    "import os.path\n",
    "\n",
    "# Supress Warnings\n",
    "import warnings\n",
    "warnings.filterwarnings('ignore')\n",
    "\n",
    "#training/test split\n",
    "from sklearn.model_selection import StratifiedShuffleSplit, StratifiedKFold, ShuffleSplit\n",
    "\n",
    "# run logistic regression and vary some parameters\n",
    "from sklearn.linear_model import LogisticRegression\n",
    "from sklearn import metrics as mt\n",
    "\n",
    "# here we can change some of the parameters interactively\n",
    "from ipywidgets import widgets as wd\n",
    "from sklearn.model_selection import cross_val_score, cross_validate\n",
    "\n",
    "#for weights standardization\n",
    "from sklearn.preprocessing import StandardScaler\n",
    "from sklearn.pipeline import Pipeline\n",
    "from sklearn.metrics import confusion_matrix, mean_squared_error, classification_report\n",
    "\n",
    "from matplotlib import pyplot as plt\n",
    "\n",
    "# Support vector machines\n",
    "from sklearn.svm import SVC\n",
    "\n",
    "import plotly\n",
    "plotly.offline.init_notebook_mode() # run at the start of every notebook"
   ]
  },
  {
   "cell_type": "code",
   "execution_count": null,
   "metadata": {},
   "outputs": [],
   "source": [
    "%%html\n",
    "<style>\n",
    "  table {margin-left: 0 !important;}\n",
    "</style>"
   ]
  },
  {
   "cell_type": "code",
   "execution_count": null,
   "metadata": {},
   "outputs": [],
   "source": [
    "# Constants\n",
    "DATAPATH_BASE = 'https://machinelearningi.blob.core.windows.net/group-project/'\n",
    "DATAPATH_SAS_TOKEN = '?sv=2019-02-02&ss=bfqt&srt=sco&sp=rwdlacup&se=2020-04-27T11:12:37Z&st=2020-01-23T04:12:37Z&spr=https&sig=jpIpjrp8dIg9eyUyPpmgTe5yj9i1ZoCSru5kBVHcUO8%3D'\n",
    "DATAPATH_FILENAME = 'Arrest_Data_from_2010_to_Present.csv'\n",
    "DATAPATH_SMALL_FILENAME = 'Arrest_Data_from_2010_to_Present_Small.csv'\n",
    "SUB_SAMPLE_SIZE = 0.01  #subsample of dataframe for svm testing, 1% of data\n",
    "\n",
    "# Fully qualified paths ready to use\n",
    "DATA_SOURCE = \"\".join([DATAPATH_BASE, DATAPATH_FILENAME, DATAPATH_SAS_TOKEN])\n",
    "\n",
    "# Options\n",
    "pd.set_option('float_format', '{:.2f}'.format)  # Reign in the scientific notation for reasonable values\n",
    "\n",
    "# Load data for analysis; only read if needed because the import can take a long time\n",
    "try:\n",
    "    if len(df.index) < 1:\n",
    "        df_raw = pd.read_csv(DATA_SOURCE) # If we get here, the dataframe was empty\n",
    "except:   \n",
    "    df_raw = pd.read_csv(DATA_SOURCE) # If we get here, the dataframe did not exist\n",
    "    "
   ]
  },
  {
   "cell_type": "code",
   "execution_count": null,
   "metadata": {},
   "outputs": [],
   "source": [
    "df = df_raw\n",
    "\n",
    "print(\"The dataset has {:,} rows and {:,} columns\".format(*df.shape))"
   ]
  },
  {
   "cell_type": "markdown",
   "metadata": {},
   "source": [
    "<a id = 'Section_3'></a>"
   ]
  },
  {
   "cell_type": "markdown",
   "metadata": {},
   "source": [
    "## 3. Data Preparation Part 1\n",
    "\n",
    "*(10 points)*  \n",
    "\n",
    "*Define and prepare your class variables. Use proper variable representations (int, float, one-hot, etc.). Use pre-processing methods (as needed) for dimensionality reduction, scaling, etc. Remove variables that are not needed/useful for the analysis.*"
   ]
  },
  {
   "cell_type": "markdown",
   "metadata": {},
   "source": [
    "The code below is from Lab 1 where we prepared the initial dataset. Here is a summary of the steps in the code below:\n",
    "* Convert `Time` to a time format and treat missing values and a value of 24:00 as 00:00.\n",
    "* Drop observations where the age of the individual is under 16. This is due to data issues (probably data entry errors).\n",
    "* Drop observations where the `Arrest Type Code` is Dependent. The majority of these observations are for individuals aged 15 or less (and have already been removed from the dataset). There are, however, some remaining observations that we believe to be data entry errors.\n",
    "* Reduce the `Descent Code` classifications to B-Black, H-Hispanic and W-White. Any other ethnicities are grouped into O-Other.\n",
    "* Create an `Hour` variable because knowing the hour and minute an incident occurred is not critical. A window of time will be more appropriate.\n",
    "* Create variables for the day of week and month an incident occurred on. Knowing the exact date an incident occurred is not helpful for future classification, but day of week and month may be.\n",
    "* Drop variables that are not useful for the analysis such as `Location` which has GIS coordinates and description variables that have an associated code variable."
   ]
  },
  {
   "cell_type": "code",
   "execution_count": null,
   "metadata": {},
   "outputs": [],
   "source": [
    "# Time - filter out 0 and missing\n",
    "df = df[df['Time'] != 0]\n",
    "df['Time'] = df['Time'].astype(str) \n",
    "df = df[df['Time'] != 'nan']\n",
    "\n",
    "# Time - Convert float to string. Get rid of decimals. Replace missing or invalid values with '0000'.\n",
    "df['Time'] = df['Time'].astype(str).str.split(\".\", expand = True)[0].replace(to_replace = ['2400','nan'], value = '0000') \n",
    "\n",
    "# Time - Fill time column with leading zeros to have 4 characters total\n",
    "df['Time'] = df['Time'].apply(lambda x: '{0:0>4}'.format(x))\n",
    "\n",
    "# Time - Add colon to Time values by converting attribute to a datetime variable \n",
    "df['Time'] = pd.to_datetime(df['Time'], format = '%H%M').dt.time\n",
    "\n",
    "# Charge Group Code - filter out missing values\n",
    "df = df.loc[df['Charge Group Code'].notnull()]\n",
    "\n",
    "# Age - Drop the observations where Age is less than 16\n",
    "df.drop(df[df['Age'] < 16].index, inplace = True) \n",
    "\n",
    "# Arrest Type Code - Drop the observations where Arrest Type Code = 'D'\n",
    "df.drop(df[df['Arrest Type Code'] == 'D'].index, inplace = True) \n",
    "\n",
    "# Descent Code - Re-classify any descent not in (B,H,O,W) into 0\n",
    "descent_list = ['B','H','O','W']\n",
    "df['Descent Code'] = np.where(np.isin(df['Descent Code'],descent_list),df['Descent Code'],'O')\n",
    "\n",
    "# Get hour\n",
    "df['Hour'] = pd.to_datetime(df['Time'], format='%H:%M:%S').dt.hour\n",
    "\n",
    "# Convert Arrest Date to datetime\n",
    "df['Arrest Date'] = pd.to_datetime(df['Arrest Date'])\n",
    "\n",
    "# Extract year, month, and day of week and add to dataframe as new attributes\n",
    "#df['arrest_year']= df['Arrest Date'].dt.year\n",
    "df['arrest_month']= df['Arrest Date'].dt.month\n",
    "try:\n",
    "    df['arrest_day_of_week'] = df['Arrest Date'].dt.weekday_name\n",
    "except:\n",
    "    df['arrest_day_of_week'] = 'monday'\n",
    "\n",
    "# remove unecessary columns\n",
    "df.drop(['Cross Street','Charge Description','Charge','Charge Group Description','Time',\n",
    "         'Arrest Date','Report ID','Address','Area Name','Location'], axis=1, inplace=True)\n",
    "\n",
    "# Change data types\n",
    "df['Age'] = df['Age'].astype(np.int8)\n",
    "df['Reporting District'] = df['Reporting District'].astype(np.str)\n",
    "df['Area ID'] = df['Area ID'].astype(np.str)\n",
    "df['Charge Group Code'] = df['Charge Group Code'].astype(np.str)\n",
    "df['Hour'] = df['Hour'].astype(np.str)\n",
    "#df['arrest_year'] = df['arrest_year'].astype(np.str)\n",
    "df['arrest_month'] = df['arrest_month'].astype(np.str)\n",
    "df['arrest_day_of_week'] = df['arrest_day_of_week'].astype(np.str)\n",
    "\n",
    "df_lightgbm = df\n",
    "# print clean dataset\n",
    "df.info()"
   ]
  },
  {
   "cell_type": "markdown",
   "metadata": {},
   "source": [
    "The code below prepares the dataset for classification tasks. First, we group `Age` into bins of 10 years and perform integer encoding, since the data is ordinal. Next, we perform one-hot encoding on all categorical variables. We use one-hot encoding here because no natural ordering exists in the values."
   ]
  },
  {
   "cell_type": "code",
   "execution_count": null,
   "metadata": {},
   "outputs": [],
   "source": [
    "# Create buckets for Age\n",
    "df['age_range'] = pd.cut(df.Age,[15,25,35,45,55,65,75,1e6],4,labels=[0,1,2,3,4,5,6]) # this creates a new variable\n",
    "df['age_range'] = df['age_range'].fillna(0)\n",
    "df['age_range'] = df.age_range.astype(np.int)\n",
    "\n",
    "# Replace the current Sex atribute with something slightly more intuitive and readable\n",
    "df['IsMale'] = df['Sex Code']=='M' \n",
    "df.IsMale = df.IsMale.astype(np.int)\n",
    "\n",
    "# Perform one-hot encoding of the categorical data \"DOW\"\n",
    "tmp_df = pd.get_dummies(df['arrest_day_of_week'],prefix='DOW',drop_first=True)\n",
    "df = pd.concat((df,tmp_df),axis=1) # add back into the dataframe\n",
    "\n",
    "# Perform one-hot encoding of the categorical data \"Area ID\"\n",
    "tmp_df = pd.get_dummies(df['Area ID'],prefix='Area',drop_first=True)\n",
    "df = pd.concat((df,tmp_df),axis=1) # add back into the dataframe\n",
    "\n",
    "# Perform one-hot encoding of the categorical data \"Charge Group Code\"\n",
    "tmp_df = pd.get_dummies(df['Charge Group Code'],prefix='Charge',drop_first=True)\n",
    "df = pd.concat((df,tmp_df),axis=1) # add back into the dataframe\n",
    "\n",
    "# Perform one-hot encoding of the categorical data \"Hour\"\n",
    "tmp_df = pd.get_dummies(df['Hour'],prefix='Hour',drop_first=True)\n",
    "df = pd.concat((df,tmp_df),axis=1) # add back into the dataframe\n",
    "\n",
    "# Perform one-hot encoding of the categorical data \"Month\"\n",
    "tmp_df = pd.get_dummies(df['arrest_month'],prefix='Month',drop_first=True)\n",
    "df = pd.concat((df,tmp_df),axis=1) # add back into the dataframe"
   ]
  },
  {
   "cell_type": "markdown",
   "metadata": {},
   "source": [
    "Since we have 2 classification tasks (`Arrest Type Code` and `Descent Code`), we need 2 datasets. The dataset for classifying `Arrest Type Code` will need to have `Descent Code` one-hot encoded and the dataset for classifying `Descent Code` will need to have `Arrest Type Code` one-hot encoded."
   ]
  },
  {
   "cell_type": "code",
   "execution_count": null,
   "metadata": {},
   "outputs": [],
   "source": [
    "df_arrest = df\n",
    "df_descent = df\n",
    "\n",
    "#Final encoding steps for Arrest Type Code classification dataset\n",
    "# Encode Arrest Type Code as Categorical\n",
    "cleanup_arrest = {\"Arrest Type Code\": {\"F\": 0, \"M\": 1, \"I\": 2, \"O\":3}}\n",
    "df_arrest.replace(cleanup_arrest,inplace=True)\n",
    "\n",
    "# Perform one-hot encoding of the categorical data \"Descent Code\"\n",
    "tmp_df = pd.get_dummies(df_arrest['Descent Code'],prefix='Descent',drop_first=True)\n",
    "df_arrest = pd.concat((df_arrest,tmp_df),axis=1) # add back into the dataframe\n",
    "\n",
    "df_arrest.drop(['Sex Code','Descent Code','arrest_day_of_week','Area ID','Reporting District','Charge Group Code',\n",
    "         'Age','Hour','arrest_month'], axis=1, inplace=True)\n",
    "\n",
    "df_arrest.info()"
   ]
  },
  {
   "cell_type": "code",
   "execution_count": null,
   "metadata": {},
   "outputs": [],
   "source": [
    "#Final encoding steps for Descent Code classification dataset\n",
    "cleanup_descent = {\"Descent Code\": {\"B\": 0, \"H\": 1, \"W\": 2, \"O\":3}}\n",
    "df_descent.replace(cleanup_descent,inplace=True)\n",
    "\n",
    "# Perform one-hot encoding of the categorical data \"Arrest Type Code\"\n",
    "tmp_df = pd.get_dummies(df_descent['Arrest Type Code'],prefix='Arrest',drop_first=True)\n",
    "df_descent = pd.concat((df_descent,tmp_df),axis=1) #add back to the dataframe\n",
    "\n",
    "df_descent.drop(['Sex Code','Arrest Type Code','arrest_day_of_week','Area ID','Reporting District','Charge Group Code',\n",
    "         'Age','Hour','arrest_month'], axis=1, inplace=True)\n",
    "\n",
    "df_descent.info()"
   ]
  },
  {
   "cell_type": "code",
   "execution_count": null,
   "metadata": {},
   "outputs": [],
   "source": [
    "print(\"The Arrest classification dataset set has {:,} rows and {:,} columns\".format(*df_arrest.shape))\n",
    "print(\"The Descent classification dataset set has {:,} rows and {:,} columns\".format(*df_descent.shape))"
   ]
  },
  {
   "cell_type": "code",
   "execution_count": null,
   "metadata": {},
   "outputs": [],
   "source": [
    "# data prep for LightGBM\n",
    "#don't need to one-hot encode variables for LightGBM, but they do need to be numeric\n",
    "#still need to get Charge Group Code converted\n",
    "\n",
    "import lightgbm as lgb\n",
    "\n",
    "df_lightgbm0 = df_lightgbm.sample(n = int(len(df_lightgbm) * SUB_SAMPLE_SIZE))\n",
    "\n",
    "df_lightgbm1=df_lightgbm0\n",
    "\n",
    "cleanup_arrest = {\"Arrest Type Code\": {\"F\": 0, \"M\": 1, \"I\": 2, \"O\":3}}\n",
    "df_lightgbm1.replace(cleanup_arrest,inplace=True)\n",
    "\n",
    "cleanup_descent = {\"Descent Code\": {\"B\": 0, \"H\": 1, \"W\": 2, \"O\":3}}\n",
    "df_lightgbm1.replace(cleanup_descent,inplace=True)\n",
    "\n",
    "df_lightgbm1['Area ID'] = df_lightgbm1['Area ID'].astype(np.int)\n",
    "\n",
    "df['IsMale'] = df['Sex Code']=='M' \n",
    "df.IsMale = df.IsMale.astype(np.int)\n",
    "\n",
    "df_lightgbm1['Hour'] = df_lightgbm1['Hour'].astype(np.int)\n",
    "df_lightgbm1['arrest_month'] = df_lightgbm1['arrest_month'].astype(np.int)\n",
    "\n",
    "cleanup_dow = {\"arrest_day_of_week\": {\"Sunday\": 1, \"Monday\": 2, \"Tuesday\":3, \"Wednesday\": 4, \"Thursday\":5, \"Friday\":6, \"Saturday\":7}}\n",
    "df_lightgbm1.replace(cleanup_dow,inplace=True)\n",
    "\n",
    "#df_lightgbm1['Charge Group Code'] = df_lightgbm1['Charge Group Code'].astype(np.int)\n",
    "\n",
    "#df_lightgbm1.drop(['Reporting District'], axis=1, inplace=True)\n",
    "df_lightgbm1.drop(['Sex Code'], axis=1, inplace=True)\n",
    "\n",
    "df_lightgbm1.info()\n",
    "#train_data = lgb.Dataset(data, label=label, feature_name=['c1', 'c2', 'c3'], categorical_feature=['c3'])\n"
   ]
  },
  {
   "cell_type": "markdown",
   "metadata": {},
   "source": [
    "<a id = 'Section_4'></a>"
   ]
  },
  {
   "cell_type": "markdown",
   "metadata": {},
   "source": [
    "## 4. Data Preparation Part 2\n",
    "\n",
    "*(5 points)*\n",
    "\n",
    "*Describe the final dataset that is used for classification/regression (include a description of any newly formed variables you created).*"
   ]
  },
  {
   "cell_type": "markdown",
   "metadata": {},
   "source": [
    "#### Table 1: Description of Final Dataset\n",
    "\n",
    "| Dataset | Target/Explanatory| Variable Prefix | Variable Suffix Range | Description |\n",
    "| :-- | :-- | :-- | :-- | :-- |\n",
    "| Arrest | Target| Arrest Type Code | NA | Felony=0, Misdemeanor=1, Infraction=2, Other=3 |  \n",
    "| Descent | Target| Descent Code | NA | Black=0, Hispanic=1, White=2, Other=3 | \n",
    "| Both | Explanatory| age_range | NA | Age bins: 16-25=0, 25-35=1, 35-45=2, 45-55=3, 55-65=4, 65-75=5, 75+=6|\n",
    "| Both | Explanatory| IsMale | NA | 0=Female, 1=Male|\n",
    "| Both | Explanatory| DOW | Saturday-Thursday | Value of 1 indicates the DOW the incident occurred on. DOW_Friday is the comparison and was dropped from the dataset.|\n",
    "| Both | Explanatory| Area | 2-21 | Value of 1 indicates the Area the incident occurred in. Area_1 is the comparison and was dropped from the dataset.|\n",
    "| Both | Explanatory| Charge | 2-29, 99, nan | Value of 1 indicates the Charge relating to the incident. Charge_1 is the comparison and was dropped from the dataset.|\n",
    "| Both | Explanatory| Hour | 1-23 | Value of 1 indicates the Hour the incident occurred. Hour_0 (00:00-00:59 on the 24-hour clock) is the comparison and was dropped from the dataset.|\n",
    "| Both | Explanatory| Month | 2-12 | Value of 1 indicates the month the incident occurred. Month_1 (January) is the comparison and was dropped from the dataset.|\n",
    "| Arrest | Explanatory| Descent | H,W,O | Value of 1 indicates the descent of the individual. Descent_H: Hispanic, Descent_W: White and Descent_O: Other. Descent_B (Black) is the comparison and was dropped from the dataset.|\n",
    "| Descent | Explanatory| Arrest | 1-3 | Value of 1 indicates the type of arrest made. Arrest_1: Misdemeanor, Arrest2: Infraction and Arrest_3: Other. Arrest_0 (Felony) is the comparison and was dropped from the dataset.|"
   ]
  },
  {
   "cell_type": "markdown",
   "metadata": {},
   "source": [
    "<a id = 'Section_5'></a>"
   ]
  },
  {
   "cell_type": "markdown",
   "metadata": {},
   "source": [
    "## 5. Modeling and Evaluation 1\n",
    "\n",
    "*(10 points)*\n",
    "\n",
    "*Choose and explain your evaluation metrics that you will use (i.e., accuracy, precision, recall, F-measure, or any metric we have discussed). Why are the measure(s) appropriate for analyzing the results of your modeling? Give a detailed explanation backing up any assertions.*"
   ]
  },
  {
   "cell_type": "markdown",
   "metadata": {},
   "source": [
    "The metric used for this project is the area under the receiver operating characteristic curve (AUC). The receiver operating characteristic curve (ROC) graphs the performance of a classification model at all classification thresholds; it plots the true positive rate (TPR) against the false positive rate (FPR) as shown in Figure 1.\n",
    "\n",
    "<h4 align=\"center\">Figure 1: Area Under the Reciever Operating Curve</h4> \n",
    "<img src=\"https://marlin-prod.literatumonline.com/cms/attachment/34661288-1f8f-459e-b8b4-936efc49e9bc/fx1_lrg.jpg\" style=\"width:350px;height:300px\"/>\n",
    "\n",
    "Source: [Journal of Thoracic and Cardiovascular Surgery](https://www.jtcvs.org/article/S0022-5223(18)32875-7/fulltext)\n",
    "\n",
    "Each curve represents the graph of a single model. Movement along the curve indicates changing the threshold used for classifying a positive instance. The area under the ROC curve measures the two-dimensional area under the ROC curve and is given by the integral of the curve, or the area under the curve (AUC): $$AUC = \\int_{0}^{1}TPR(x)dx = \\int_{0}^{1}P(A>\\tau (x))dx$$\n",
    "\n",
    "where $x$ is the false positive rate and $A$ is the distribution of scores the model produces for data points that are actually in the positive class.\n",
    "\n",
    "This metric is measured between 0 and 1. A higher score indicates a better model. Visually, a superior model will graph as a curve above and to the left of another curve. A straight diagonal line beginning at 0 on the bottom left and ending at 1 on the top right indicates a naive model (random guessing). Other metrics such as accuracy are not the best metric for data with imbalanced classes. The Los Angeles City Arrest dataset is imbalanced. \n",
    "\n",
    "A model with a high ROC AUC will also have a high accuracy, therefore, the AUC score will be the metric employed in this analysis.\n"
   ]
  },
  {
   "cell_type": "markdown",
   "metadata": {},
   "source": [
    "<a id = 'Section_6'></a>"
   ]
  },
  {
   "cell_type": "markdown",
   "metadata": {},
   "source": [
    "## 6. Modeling and Evaluation 2\n",
    "\n",
    "*(10 points)*\n",
    "\n",
    "*Choose the method you will use for dividing your data into training and testing splits (i.e., are you using Stratified 10-fold cross validation? Why?). Explain why your chosen method is appropriate or use more than one method as appropriate. For example, if you are using time series data then you should be using continuous training and testing sets across time.*"
   ]
  },
  {
   "cell_type": "markdown",
   "metadata": {},
   "source": [
    "<a id = 'Section_7'></a>"
   ]
  },
  {
   "cell_type": "markdown",
   "metadata": {},
   "source": [
    "## 7. Modeling and Evaluation 3\n",
    "\n",
    "*(20 points)*\n",
    "\n",
    "*Create three different classification/regression models for each task (e.g., random forest, KNN, and SVM for task one and the same or different algorithms for task two). Two modeling techniques must be new (but the third could be SVM or logistic regression). Adjust parameters as appropriate to increase generalization performance using your chosen metric. You must investigate different parameters of the algorithms!*"
   ]
  },
  {
   "cell_type": "code",
   "execution_count": 11,
   "metadata": {},
   "outputs": [
    {
     "name": "stdout",
     "output_type": "stream",
     "text": [
      "The sample has 12,788 rows and 88 columns\n"
     ]
    }
   ],
   "source": [
    "df_model1 = df_arrest\n",
    "df_model1 = df_model1.sample(n = int(len(df_model1) * SUB_SAMPLE_SIZE))\n",
    "\n",
    "print(\"The sample has {:,} rows and {:,} columns\".format(*df_model1.shape))"
   ]
  },
  {
   "cell_type": "code",
   "execution_count": 12,
   "metadata": {},
   "outputs": [],
   "source": [
    "from sklearn.model_selection import StratifiedKFold\n",
    "from sklearn.preprocessing import StandardScaler\n",
    "import numpy as np\n",
    "from sklearn import metrics as mt\n",
    "\n",
    "\n",
    "# create variables we are more familiar with\n",
    "if 'Arrest Type Code' in df_model1:\n",
    "    y = df_model1['Arrest Type Code'].values # get the labels we want\n",
    "    del df_model1['Arrest Type Code'] # get rid of the class label\n",
    "    X = df_model1.values # use everything else to predict!\n",
    "    \n",
    "yhat = np.zeros(y.shape) # we will fill this with predictions\n",
    "\n",
    "scl = StandardScaler()\n",
    "X = scl.fit_transform(X)\n",
    "\n",
    "# create cross validation iterator\n",
    "cv = StratifiedKFold(n_splits=10, random_state=1234)"
   ]
  },
  {
   "cell_type": "code",
   "execution_count": 13,
   "metadata": {},
   "outputs": [],
   "source": [
    "def per_class_accuracy(ytrue,yhat):\n",
    "    conf = mt.confusion_matrix(ytrue,yhat)\n",
    "    norm_conf = conf.astype('float') / conf.sum(axis=1)[:, np.newaxis]\n",
    "    return np.diag(norm_conf)\n",
    "\n",
    "def plot_class_acc(ytrue,yhat, title=''):\n",
    "    acc_list = per_class_accuracy(ytrue,yhat)\n",
    "    plt.bar(range(len(acc_list)), acc_list)\n",
    "    plt.xlabel('0-Felony, 1-Misdemeanor, 2-Infraction, 3-Other')\n",
    "    plt.ylabel('Accuracy within class')\n",
    "    plt.title(title+\", Total Acc=%.1f\"%(100*mt.accuracy_score(ytrue,yhat)))\n",
    "    plt.grid()\n",
    "    plt.ylim([0,1])\n",
    "    plt.show()"
   ]
  },
  {
   "cell_type": "code",
   "execution_count": 14,
   "metadata": {},
   "outputs": [
    {
     "name": "stdout",
     "output_type": "stream",
     "text": [
      "XGBoost accuracy 0.7980137629027213\n"
     ]
    },
    {
     "data": {
      "image/png": "[encoded data removed]",
      "text/plain": [
       "<Figure size 432x288 with 1 Axes>"
      ]
     },
     "metadata": {
      "needs_background": "light"
     },
     "output_type": "display_data"
    },
    {
     "name": "stdout",
     "output_type": "stream",
     "text": [
      "Wall time: 1min 41s\n"
     ]
    }
   ],
   "source": [
    "%%time\n",
    "\n",
    "#KGBoost\n",
    "import pickle\n",
    "import xgboost as xgb\n",
    "\n",
    "import numpy as np\n",
    "from sklearn.model_selection import KFold, train_test_split, GridSearchCV\n",
    "from sklearn.metrics import confusion_matrix, mean_squared_error\n",
    "\n",
    "for train, test in cv.split(X,y):\n",
    "    xgb_model = xgb.XGBClassifier().fit(X[train], y[train])\n",
    "    yhat[test] = xgb_model.predict(X[test])\n",
    "\n",
    "total_accuracy = mt.accuracy_score(y, yhat)\n",
    "print ('XGBoost accuracy', total_accuracy)\n",
    "\n",
    "plot_class_acc(y,yhat,title=\"XGBoost\")"
   ]
  },
  {
   "cell_type": "code",
   "execution_count": 15,
   "metadata": {},
   "outputs": [
    {
     "name": "stdout",
     "output_type": "stream",
     "text": [
      "KNN accuracy 0.7172349077259931\n"
     ]
    },
    {
     "data": {
      "image/png": "[encoded data removed]",
      "text/plain": [
       "<Figure size 432x288 with 1 Axes>"
      ]
     },
     "metadata": {
      "needs_background": "light"
     },
     "output_type": "display_data"
    },
    {
     "name": "stdout",
     "output_type": "stream",
     "text": [
      "Wall time: 34.5 s\n"
     ]
    }
   ],
   "source": [
    "%%time\n",
    "#KNN for Arrest Type Code\n",
    "\n",
    "from sklearn.neighbors import KNeighborsClassifier\n",
    "\n",
    "# get a handle to the classifier object, which defines the type\n",
    "clf = KNeighborsClassifier(n_neighbors=3)\n",
    "\n",
    "# now iterate through and get predictions, saved to the correct row in yhat\n",
    "# NOTE: you can parallelize this using the cross_val_predict method\n",
    "for train, test in cv.split(X,y):\n",
    "    clf.fit(X[train],y[train])\n",
    "    yhat[test] = clf.predict(X[test])\n",
    "\n",
    "total_accuracy = mt.accuracy_score(y, yhat)\n",
    "print ('KNN accuracy', total_accuracy)\n",
    "\n",
    "plot_class_acc(y,yhat,title=\"KNN\")"
   ]
  },
  {
   "cell_type": "code",
   "execution_count": 16,
   "metadata": {},
   "outputs": [
    {
     "name": "stdout",
     "output_type": "stream",
     "text": [
      "KNN, pipeline accuracy 0.7120738192055052\n"
     ]
    },
    {
     "data": {
      "image/png": "[encoded data removed]",
      "text/plain": [
       "<Figure size 432x288 with 1 Axes>"
      ]
     },
     "metadata": {
      "needs_background": "light"
     },
     "output_type": "display_data"
    },
    {
     "name": "stdout",
     "output_type": "stream",
     "text": [
      "Wall time: 38.3 s\n"
     ]
    }
   ],
   "source": [
    "%%time\n",
    "\n",
    "# PCA and KNN for Arrest Type Code\n",
    "\n",
    "from sklearn.decomposition import PCA \n",
    "from sklearn.pipeline import Pipeline\n",
    "\n",
    "# setup pipeline to take PCA, then fit a KNN classifier\n",
    "clf_pipe = Pipeline(\n",
    "    [('PCA_1',PCA(n_components=50,svd_solver='randomized')),\n",
    "     ('CLF_1',KNeighborsClassifier(n_neighbors=3))]\n",
    ")\n",
    "\n",
    "# now iterate through and get predictions, saved to the correct row in yhat\n",
    "for train, test in cv.split(X,y):\n",
    "    clf_pipe.fit(X[train],y[train])\n",
    "    yhat[test] = clf_pipe.predict(X[test])\n",
    "\n",
    "total_accuracy = mt.accuracy_score(y, yhat)\n",
    "print ('KNN, pipeline accuracy', total_accuracy)\n",
    "\n",
    "plot_class_acc(y,yhat,title=\"PCA & KNN\")"
   ]
  },
  {
   "cell_type": "code",
   "execution_count": 17,
   "metadata": {},
   "outputs": [
    {
     "data": {
      "image/png": "[encoded data removed]",
      "text/plain": [
       "<Figure size 432x288 with 1 Axes>"
      ]
     },
     "metadata": {
      "needs_background": "light"
     },
     "output_type": "display_data"
    },
    {
     "data": {
      "image/png": "[encoded data removed]",
      "text/plain": [
       "<Figure size 432x288 with 1 Axes>"
      ]
     },
     "metadata": {
      "needs_background": "light"
     },
     "output_type": "display_data"
    },
    {
     "data": {
      "image/png": "[encoded data removed]",
      "text/plain": [
       "<Figure size 432x288 with 1 Axes>"
      ]
     },
     "metadata": {
      "needs_background": "light"
     },
     "output_type": "display_data"
    },
    {
     "name": "stdout",
     "output_type": "stream",
     "text": [
      "Best accuracy is  0.77713481388802  with  100  estimators in a random forest with PCA\n",
      "              precision    recall  f1-score   support\n",
      "\n",
      "           0      0.789     0.671     0.725      4154\n",
      "           1      0.777     0.899     0.834      7806\n",
      "           2      0.642     0.228     0.336       545\n",
      "           3      0.265     0.032     0.057       283\n",
      "\n",
      "    accuracy                          0.777     12788\n",
      "   macro avg      0.618     0.457     0.488     12788\n",
      "weighted avg      0.764     0.777     0.760     12788\n",
      "\n"
     ]
    },
    {
     "data": {
      "image/png": "[encoded data removed]",
      "text/plain": [
       "<Figure size 432x288 with 1 Axes>"
      ]
     },
     "metadata": {
      "needs_background": "light"
     },
     "output_type": "display_data"
    },
    {
     "name": "stdout",
     "output_type": "stream",
     "text": [
      "Wall time: 4min 14s\n"
     ]
    }
   ],
   "source": [
    "%%time\n",
    "from sklearn.ensemble import RandomForestClassifier\n",
    "\n",
    "maxAccPCARF = 0\n",
    "optimalEstimatorsPCARF = 0\n",
    "optimalYPCARF = []\n",
    "optimalYhatPCARF = []\n",
    "clReport = ''\n",
    "\n",
    "for i in range(100, 201, 50):\n",
    "    clf_pipe = Pipeline(\n",
    "        [('PCA',PCA(n_components=50, svd_solver='randomized')),\n",
    "         ('CLF',RandomForestClassifier(n_estimators=i, n_jobs=-1))]\n",
    "    )\n",
    "\n",
    "    # now iterate through and get predictions, saved to the correct row in yhat\n",
    "    for train, test in cv.split(X,y):\n",
    "        clf_pipe.fit(X[train],y[train])\n",
    "        yhat[test] = clf_pipe.predict(X[test])\n",
    "\n",
    "    plt.title('Confusion Matrix for {0} Estimators'.format(i), fontsize = 20)\n",
    "    plt.imshow(mt.confusion_matrix(y, yhat),cmap=plt.get_cmap('Greens'),aspect='auto')\n",
    "    plt.grid(False)\n",
    "    plt.show()\n",
    "        \n",
    "    total_accuracy = mt.accuracy_score(y, yhat)\n",
    "    if total_accuracy > maxAccPCARF:\n",
    "        maxAccPCARF = total_accuracy\n",
    "        optimalEstimatorsPCARF = i\n",
    "        optimalYPCARF = y\n",
    "        optimalYhatPCARF = yhat\n",
    "        clReport = mt.classification_report(y,yhat,digits=3)\n",
    "\n",
    "print ('Best accuracy is ', maxAccPCARF, ' with ', optimalEstimatorsPCARF, ' estimators in a random forest with PCA')\n",
    "print(clReport)\n",
    "plot_class_acc(optimalYPCARF,optimalYhatPCARF,title=\"Random Forest + PCA\")"
   ]
  },
  {
   "cell_type": "code",
   "execution_count": 18,
   "metadata": {},
   "outputs": [
    {
     "data": {
      "image/png": "[encoded data removed]",
      "text/plain": [
       "<Figure size 432x288 with 1 Axes>"
      ]
     },
     "metadata": {
      "needs_background": "light"
     },
     "output_type": "display_data"
    },
    {
     "data": {
      "image/png": "[encoded data removed]",
      "text/plain": [
       "<Figure size 432x288 with 1 Axes>"
      ]
     },
     "metadata": {
      "needs_background": "light"
     },
     "output_type": "display_data"
    },
    {
     "data": {
      "image/png": "[encoded data removed]",
      "text/plain": [
       "<Figure size 432x288 with 1 Axes>"
      ]
     },
     "metadata": {
      "needs_background": "light"
     },
     "output_type": "display_data"
    },
    {
     "name": "stdout",
     "output_type": "stream",
     "text": [
      "Best accuracy is  0.7861276196434157  with  200  Estimators in a Raw Random Forest\n",
      "              precision    recall  f1-score   support\n",
      "\n",
      "           0      0.765     0.721     0.743      4154\n",
      "           1      0.806     0.873     0.838      7806\n",
      "           2      0.652     0.409     0.503       545\n",
      "           3      0.229     0.057     0.091       283\n",
      "\n",
      "    accuracy                          0.786     12788\n",
      "   macro avg      0.613     0.515     0.544     12788\n",
      "weighted avg      0.773     0.786     0.776     12788\n",
      "\n"
     ]
    },
    {
     "data": {
      "image/png": "[encoded data removed]",
      "text/plain": [
       "<Figure size 432x288 with 1 Axes>"
      ]
     },
     "metadata": {
      "needs_background": "light"
     },
     "output_type": "display_data"
    },
    {
     "name": "stdout",
     "output_type": "stream",
     "text": [
      "Wall time: 1min 52s\n"
     ]
    }
   ],
   "source": [
    "%%time\n",
    "from sklearn.ensemble import RandomForestClassifier\n",
    "maxAccRF = 0\n",
    "optimalEstimatorsRF = 0\n",
    "clReport = ''\n",
    "\n",
    "for i in range(100, 201, 50):\n",
    "    clf = RandomForestClassifier(n_estimators=i, n_jobs=-1, oob_score=True)\n",
    "\n",
    "    # now iterate through and get predictions, saved to the correct row in yhat\n",
    "    for train, test in cv.split(X,y):\n",
    "        clf.fit(X[train],y[train])\n",
    "        yhat[test] = clf.predict(X[test])\n",
    "        \n",
    "    total_accuracy = mt.accuracy_score(y, yhat)\n",
    "    \n",
    "    plt.title('Confusion Matrix for {0} estimators'.format(i), fontsize = 20)\n",
    "    plt.imshow(mt.confusion_matrix(y, yhat),cmap=plt.get_cmap('Greens'),aspect='auto')\n",
    "    plt.grid(False)\n",
    "    plt.show()\n",
    "\n",
    "    if total_accuracy > maxAccRF:\n",
    "        maxAccRF = total_accuracy\n",
    "        optimalEstimatorsRF = i\n",
    "        optimalYRF = y\n",
    "        optimalYhatRF = yhat\n",
    "        clReport = mt.classification_report(y,yhat,digits=3)\n",
    "        \n",
    "#roc_auc_score(y_true, y_scores)\n",
    "\n",
    "\n",
    "print ('Best accuracy is ', maxAccRF, ' with ', optimalEstimatorsRF, ' Estimators in a Raw Random Forest')\n",
    "print(clReport)\n",
    "plot_class_acc(optimalYRF,optimalYhatRF,title=\"Random Forest, Raw\")"
   ]
  },
  {
   "cell_type": "code",
   "execution_count": 24,
   "metadata": {},
   "outputs": [
    {
     "name": "stdout",
     "output_type": "stream",
     "text": [
      "Stump 0.6708630668241665\n",
      "Tree 0.7245850318854273\n",
      "Random Trees 0.7851892678623579\n",
      "Extra Random Trees 0.7693929764767712\n",
      "Boosted Tree 0.7980138338176955\n",
      "Wall time: 34.6 s\n"
     ]
    }
   ],
   "source": [
    "%%time\n",
    "from sklearn.tree import DecisionTreeClassifier\n",
    "from sklearn.ensemble import RandomForestClassifier\n",
    "from sklearn.ensemble import ExtraTreesClassifier\n",
    "from sklearn.ensemble import GradientBoostingClassifier\n",
    "\n",
    "from sklearn.model_selection import cross_val_score\n",
    "\n",
    "num_estimators = 50\n",
    "# lets train some trees\n",
    "clf_array = [\n",
    "    ('Stump',              DecisionTreeClassifier(max_depth=1, min_samples_leaf=1)),\n",
    "    ('Tree',               DecisionTreeClassifier()),\n",
    "    ('Random Trees',       RandomForestClassifier(n_estimators=optimalEstimatorsRF)),\n",
    "    ('Extra Random Trees', ExtraTreesClassifier(n_estimators=num_estimators,min_samples_split=2)),\n",
    "    ('Boosted Tree',       GradientBoostingClassifier(n_estimators=num_estimators)), #takes a long time\n",
    "    ]\n",
    "\n",
    "for clf in clf_array:\n",
    "    acc = cross_val_score(clf[1],X,y,cv=3)\n",
    "    print (clf[0], acc.mean())"
   ]
  },
  {
   "cell_type": "code",
   "execution_count": 20,
   "metadata": {},
   "outputs": [
    {
     "name": "stdout",
     "output_type": "stream",
     "text": [
      "Pipeline accuracy 0.6520175164216453\n"
     ]
    },
    {
     "data": {
      "image/png": "[encoded data removed]",
      "text/plain": [
       "<Figure size 432x288 with 1 Axes>"
      ]
     },
     "metadata": {
      "needs_background": "light"
     },
     "output_type": "display_data"
    }
   ],
   "source": [
    "# from sklearn.svm import SVC\n",
    "# from sklearn.linear_model import LogisticRegression\n",
    "# from sklearn.linear_model import SGDClassifier\n",
    "from sklearn.naive_bayes import GaussianNB\n",
    "\n",
    "\n",
    "# setup pipeline to take PCA, then fit a different classifier\n",
    "clf_pipe = Pipeline(\n",
    "    [('PCA',PCA(n_components=50,svd_solver='randomized')),\n",
    "     ('CLF',GaussianNB())]\n",
    ")\n",
    "\n",
    "# now iterate through and get predictions, saved to the correct row in yhat\n",
    "for train, test in cv.split(X,y):\n",
    "    clf_pipe.fit(X[train],y[train])\n",
    "    yhat[test] = clf_pipe.predict(X[test])\n",
    "\n",
    "total_accuracy = mt.accuracy_score(y, yhat)\n",
    "print ('Pipeline accuracy', total_accuracy)\n",
    "plot_class_acc(y,yhat,title=\"Naive Bayes + PCA\")"
   ]
  },
  {
   "cell_type": "code",
   "execution_count": 21,
   "metadata": {},
   "outputs": [
    {
     "name": "stdout",
     "output_type": "stream",
     "text": [
      "Total Accuracy: 0.6520175164216453\n",
      "Infractions & Other (Infrequent): 2 with average recall of: 0.6731675689694299\n",
      "Felony & Misdemeanor (Frequent): 2 with average precision of: 0.7364493506493507\n"
     ]
    }
   ],
   "source": [
    "from sklearn import metrics as mt\n",
    "\n",
    "freq_infreq_threshold = 3197\n",
    "\n",
    "# get various measures of performance\n",
    "total_accuracy = mt.accuracy_score(y, yhat)\n",
    "per_class_acc_list = per_class_accuracy(y,yhat)\n",
    "\n",
    "prec_for_freq_classes = []\n",
    "recall_for_infreq_classes = []\n",
    "rec_tot = []\n",
    "prec_tot = []\n",
    "\n",
    "for cls in np.unique(y):\n",
    "    idx = (y==cls) # get classes\n",
    "    ytmp_actual = np.zeros(y.shape) # make binary class problem\n",
    "    ytmp_actual[idx] = 1 # set the instances for this specific class\n",
    "    \n",
    "    ytmp_predicted = np.zeros(y.shape) # binary prediction array\n",
    "    ytmp_predicted[yhat==cls] = 1\n",
    "    \n",
    "    num_in_class = sum(idx)\n",
    "    \n",
    "    rec = mt.recall_score(ytmp_actual, ytmp_predicted)\n",
    "    prec = mt.precision_score(ytmp_actual, ytmp_predicted)\n",
    "    rec_tot.append(rec)\n",
    "    prec_tot.append(prec)\n",
    "    \n",
    "    if num_in_class < freq_infreq_threshold:\n",
    "        recall_for_infreq_classes.append(rec)\n",
    "    elif num_in_class >= freq_infreq_threshold:\n",
    "        prec_for_freq_classes.append(prec)\n",
    "        \n",
    "print ('Total Accuracy:',total_accuracy)\n",
    "print ('Infractions & Other (Infrequent):',len(recall_for_infreq_classes), \n",
    "       'with average recall of:', np.mean(recall_for_infreq_classes))\n",
    "print ('Felony & Misdemeanor (Frequent):',len(prec_for_freq_classes), \n",
    "       'with average precision of:',np.mean(prec_for_freq_classes))"
   ]
  },
  {
   "cell_type": "code",
   "execution_count": 22,
   "metadata": {},
   "outputs": [
    {
     "data": {
      "image/png": "[encoded data removed]",
      "text/plain": [
       "<Figure size 1080x360 with 1 Axes>"
      ]
     },
     "metadata": {
      "needs_background": "light"
     },
     "output_type": "display_data"
    }
   ],
   "source": [
    "import seaborn as sns\n",
    "sns.set_palette(\"dark\")\n",
    "plt.figure(figsize=(15,5))\n",
    "plt.boxplot([ rec_tot, prec_tot, recall_for_infreq_classes,prec_for_freq_classes],\n",
    "            labels=['Recall, all Arrest Types','Precision, all Arrest Types','Recall Infractions & Other','Prec Felony & Misdemeanor'])\n",
    "plt.ylim([0,1])\n",
    "plt.show()"
   ]
  },
  {
   "cell_type": "code",
   "execution_count": 23,
   "metadata": {},
   "outputs": [
    {
     "ename": "IndexError",
     "evalue": "too many indices for array",
     "output_type": "error",
     "traceback": [
      "\u001b[1;31m---------------------------------------------------------------------------\u001b[0m",
      "\u001b[1;31mIndexError\u001b[0m                                Traceback (most recent call last)",
      "\u001b[1;32m<ipython-input-23-c1a773de3681>\u001b[0m in \u001b[0;36m<module>\u001b[1;34m\u001b[0m\n\u001b[0;32m     11\u001b[0m \u001b[0mroc_auc\u001b[0m \u001b[1;33m=\u001b[0m \u001b[0mdict\u001b[0m\u001b[1;33m(\u001b[0m\u001b[1;33m)\u001b[0m\u001b[1;33m\u001b[0m\u001b[1;33m\u001b[0m\u001b[0m\n\u001b[0;32m     12\u001b[0m \u001b[1;32mfor\u001b[0m \u001b[0mi\u001b[0m \u001b[1;32min\u001b[0m \u001b[1;33m[\u001b[0m\u001b[1;36m0\u001b[0m\u001b[1;33m,\u001b[0m\u001b[1;36m1\u001b[0m\u001b[1;33m,\u001b[0m\u001b[1;36m2\u001b[0m\u001b[1;33m,\u001b[0m\u001b[1;36m3\u001b[0m\u001b[1;33m]\u001b[0m\u001b[1;33m:\u001b[0m\u001b[1;33m\u001b[0m\u001b[1;33m\u001b[0m\u001b[0m\n\u001b[1;32m---> 13\u001b[1;33m     \u001b[0mfpr\u001b[0m\u001b[1;33m[\u001b[0m\u001b[0mi\u001b[0m\u001b[1;33m]\u001b[0m\u001b[1;33m,\u001b[0m \u001b[0mtpr\u001b[0m\u001b[1;33m[\u001b[0m\u001b[0mi\u001b[0m\u001b[1;33m]\u001b[0m\u001b[1;33m,\u001b[0m \u001b[0m_\u001b[0m \u001b[1;33m=\u001b[0m \u001b[0mmt\u001b[0m\u001b[1;33m.\u001b[0m\u001b[0mroc_curve\u001b[0m\u001b[1;33m(\u001b[0m\u001b[0my\u001b[0m\u001b[1;33m,\u001b[0m \u001b[0myhat\u001b[0m\u001b[1;33m[\u001b[0m\u001b[1;33m:\u001b[0m\u001b[1;33m,\u001b[0m \u001b[0mi\u001b[0m\u001b[1;33m]\u001b[0m\u001b[1;33m,\u001b[0m \u001b[0mpos_label\u001b[0m\u001b[1;33m=\u001b[0m\u001b[0mi\u001b[0m\u001b[1;33m)\u001b[0m\u001b[1;33m\u001b[0m\u001b[1;33m\u001b[0m\u001b[0m\n\u001b[0m\u001b[0;32m     14\u001b[0m     \u001b[0mroc_auc\u001b[0m\u001b[1;33m[\u001b[0m\u001b[0mi\u001b[0m\u001b[1;33m]\u001b[0m \u001b[1;33m=\u001b[0m \u001b[0mmt\u001b[0m\u001b[1;33m.\u001b[0m\u001b[0mauc\u001b[0m\u001b[1;33m(\u001b[0m\u001b[0mfpr\u001b[0m\u001b[1;33m[\u001b[0m\u001b[0mi\u001b[0m\u001b[1;33m]\u001b[0m\u001b[1;33m,\u001b[0m \u001b[0mtpr\u001b[0m\u001b[1;33m[\u001b[0m\u001b[0mi\u001b[0m\u001b[1;33m]\u001b[0m\u001b[1;33m)\u001b[0m\u001b[1;33m\u001b[0m\u001b[1;33m\u001b[0m\u001b[0m\n\u001b[0;32m     15\u001b[0m \u001b[1;33m\u001b[0m\u001b[0m\n",
      "\u001b[1;31mIndexError\u001b[0m: too many indices for array"
     ]
    }
   ],
   "source": [
    "#can't get this to work\n",
    "\n",
    "import seaborn as sns\n",
    "sns.set_palette(\"dark\")\n",
    "# code manipulated from http://scikit-learn.org/stable/auto_examples/plot_roc.html\n",
    "from sklearn.preprocessing import label_binarize\n",
    "\n",
    "# Compute ROC curve for a subset of interesting classes\n",
    "fpr = dict()\n",
    "tpr = dict()\n",
    "roc_auc = dict()\n",
    "for i in [0,1,2,3]:\n",
    "    fpr[i], tpr[i], _ = mt.roc_curve(y, yhat[:, i], pos_label=i)\n",
    "    roc_auc[i] = mt.auc(fpr[i], tpr[i])\n",
    "\n",
    "for i in np.random.permutation(4)[0:4]:\n",
    "    plt.plot(fpr[i], tpr[i], label='class {0} with {1} instances (area = {2:0.2f})'\n",
    "                                   ''.format(i, sum(y==i), roc_auc[i]))\n",
    "\n",
    "plt.legend(loc=\"lower right\")  \n",
    "plt.xlabel('False Positive Rate')\n",
    "plt.ylabel('True Positive Rate')\n",
    "plt.show()"
   ]
  },
  {
   "cell_type": "markdown",
   "metadata": {},
   "source": [
    "<a id = 'Section_8'></a>"
   ]
  },
  {
   "cell_type": "markdown",
   "metadata": {},
   "source": [
    "## 8. Modeling and Evaluation 4\n",
    "\n",
    "*(10 points)*\n",
    "\n",
    "*Analyze the results using your chosen method of evaluation. Use visualizations of the results to bolster the analysis. Explain any visuals and analyze why they are interesting to someone that might use this model.*"
   ]
  },
  {
   "cell_type": "markdown",
   "metadata": {},
   "source": [
    "<a id = 'Section_9'></a>"
   ]
  },
  {
   "cell_type": "markdown",
   "metadata": {},
   "source": [
    "## 9. Modeling and Evaluation 5\n",
    "\n",
    "*(10 points)*\n",
    "\n",
    "*Discuss the advantages of each model for each classification task, if any. If there are not advantages, explain why. Is any model better than another? Is the difference significant with 95% confidence? Use proper statistical comparison methods. You must use statistical comparison techniques—be sure they are appropriate for your chosen method of validation as discussed in unit 7 of the course.*"
   ]
  },
  {
   "cell_type": "markdown",
   "metadata": {},
   "source": [
    "<a id = 'Section_10'></a>"
   ]
  },
  {
   "cell_type": "markdown",
   "metadata": {},
   "source": [
    "## 10. Modeling and Evaluation 6\n",
    "\n",
    "*(10 points)*\n",
    "\n",
    "*Which attributes from your analysis are most important? Use proper methods discussed in class to evaluate the importance of different attributes. Discuss the results and hypothesize about why certain attributes are more important than others for a given classification task.*"
   ]
  },
  {
   "cell_type": "markdown",
   "metadata": {},
   "source": [
    "<a id = 'Section_11'></a>"
   ]
  },
  {
   "cell_type": "markdown",
   "metadata": {},
   "source": [
    "## 11. Deployment\n",
    "\n",
    "*(5 points)*\n",
    "\n",
    "*How useful is your model for interested parties (i.e., the companies or organizations that might want to use it for prediction)? How would you measure the model's value if it was used by these parties? How would your deploy your model for interested parties? What other data should be collected? How often would the model need to be updated, etc.?*"
   ]
  },
  {
   "cell_type": "markdown",
   "metadata": {},
   "source": [
    "<a id = 'Section_12'></a>"
   ]
  },
  {
   "cell_type": "markdown",
   "metadata": {},
   "source": [
    "## 12. Exceptional Work\n",
    "\n",
    "*(10 points)*\n",
    "\n",
    "*You have free reign to provide additional analyses. One idea: grid search parameters in a parallelized fashion and visualize the performances across attributes. Which parameters are most significant for making a good model for each classification algorithm?*"
   ]
  },
  {
   "cell_type": "markdown",
   "metadata": {},
   "source": []
  },
  {
   "cell_type": "markdown",
   "metadata": {},
   "source": []
  },
  {
   "cell_type": "markdown",
   "metadata": {},
   "source": [
    "# code from minilab"
   ]
  },
  {
   "cell_type": "markdown",
   "metadata": {},
   "source": [
    "### a. Futher Data Preparation for Logistic Regression and SVM"
   ]
  },
  {
   "cell_type": "markdown",
   "metadata": {},
   "source": [
    "All categorical variables need to be dummy encoded. For example, if a variable has n different categories, we need to split this out to n-1 different variables. The code below does this for the categorical variables used in the model. The target variable `Arrest Type Code` is transformed to range from 0-3 instead of alphabetical letters representing the arrest type. Also, `Age` was bucketed into 10 year increments."
   ]
  },
  {
   "cell_type": "code",
   "execution_count": null,
   "metadata": {},
   "outputs": [],
   "source": [
    "# Encode Arrest Type Code as Categorical\n",
    "cleanup_arrest = {\"Arrest Type Code\": {\"F\": 0, \"M\": 1, \"I\": 2, \"O\":3}}\n",
    "df.replace(cleanup_arrest,inplace=True)\n",
    "\n",
    "# Create buckets for Age\n",
    "df['age_range'] = pd.cut(df.Age,[16,25,35,45,55,65,75,1e6],4,labels=[0,1,2,3,4,5,6]) # this creates a new variable\n",
    "df['age_range'] = df.age_range.astype(np.int)\n",
    "\n",
    "# Perform one-hot encoding of the categorical data \"Descent Code\"\n",
    "tmp_df = pd.get_dummies(df['Descent Code'],prefix='Descent',drop_first=True)\n",
    "df = pd.concat((df,tmp_df),axis=1) # add back into the dataframe\n",
    "\n",
    "# Replace the current Sex atribute with something slightly more intuitive and readable\n",
    "df['IsMale'] = df['Sex Code']=='M' \n",
    "df.IsMale = df.IsMale.astype(np.int)\n",
    "\n",
    "# Perform one-hot encoding of the categorical data \"DOW\"\n",
    "tmp_df = pd.get_dummies(df['arrest_day_of_week'],prefix='DOW',drop_first=True)\n",
    "df = pd.concat((df,tmp_df),axis=1) # add back into the dataframe\n",
    "\n",
    "# Perform one-hot encoding of the categorical data \"Area ID\"\n",
    "tmp_df = pd.get_dummies(df['Area ID'],prefix='Area',drop_first=True)\n",
    "df = pd.concat((df,tmp_df),axis=1) # add back into the dataframe\n",
    "\n",
    "# Perform one-hot encoding of the categorical data \"Charge Group Code\"\n",
    "tmp_df = pd.get_dummies(df['Charge Group Code'],prefix='Charge',drop_first=True)\n",
    "df = pd.concat((df,tmp_df),axis=1) # add back into the dataframe\n",
    "\n",
    "# Perform one-hot encoding of the categorical data \"Hour\"\n",
    "tmp_df = pd.get_dummies(df['Hour'],prefix='Hour',drop_first=True)\n",
    "df = pd.concat((df,tmp_df),axis=1) # add back into the dataframe\n",
    "\n",
    "# Perform one-hot encoding of the categorical data \"Month\"\n",
    "tmp_df = pd.get_dummies(df['arrest_month'],prefix='Month',drop_first=True)\n",
    "df = pd.concat((df,tmp_df),axis=1) # add back into the dataframe"
   ]
  },
  {
   "cell_type": "markdown",
   "metadata": {},
   "source": [
    "Next, we perform a check to see if there are any Charge Group Codes that have only one Arrest Type Code. For example, if the Charge Group Code referring to Murder is always associated with a Felony, we should not include these observations in the model. This would overinflate the model's accuracy."
   ]
  },
  {
   "cell_type": "code",
   "execution_count": null,
   "metadata": {},
   "outputs": [],
   "source": [
    "grps = df.groupby(['Charge Group Code','Arrest Type Code']).size()\n",
    "grps1 = grps.groupby('Charge Group Code').count()\n",
    "grps1[grps1 == 1]"
   ]
  },
  {
   "cell_type": "markdown",
   "metadata": {},
   "source": [
    "Below, we remove any observations with Charge Group Codes of 3 (Robbery - Felony), 25 (Federal Offenses - Felony) or 99 (no description was provided in the dataset - Felony) since these are always associated with the same Arrest Type Code. We also remove any observations where no Charge Group Code was specified. 107,942 observations were removed from the dataset by filtering out these Charge Group Codes. The resulting dataset has 1,169,234 observations."
   ]
  },
  {
   "cell_type": "code",
   "execution_count": null,
   "metadata": {},
   "outputs": [],
   "source": [
    "#create another dataset for binary classification & SVM later\n",
    "df_binary = df\n",
    "df_svm = df\n",
    "\n",
    "#filter charge group codes \n",
    "charge_codes_exclude= ['3.0','25.0','99.0','nan']\n",
    "df = df[~df['Charge Group Code'].isin(charge_codes_exclude) ]\n",
    "\n",
    "print(\"The filtered data set has {:,} rows and {:,} columns\".format(*df.shape))"
   ]
  },
  {
   "cell_type": "markdown",
   "metadata": {},
   "source": [
    "Now that the variables are all properly encoded, we remove the original variables from the dataset. We also remove `Reporting District` and `Location`. `Reporting District` has 1351 unique values and would be too cumbersome to include in our models. We instead use `Area ID`, where each Area ID is comprised of multiple Reporting Districts. We also remove `Location` which is GPS coordinates for the location of the incident, again in favor of `Area ID`.\n",
    "\n",
    "Information about the resulting dataframe is printed for verification and the first 5 records are printed out."
   ]
  },
  {
   "cell_type": "code",
   "execution_count": null,
   "metadata": {},
   "outputs": [],
   "source": [
    "df.drop(['Sex Code','Descent Code','arrest_day_of_week','Area ID','Reporting District','Charge Group Code',\n",
    "         'Location','arrest_year','Age','Hour','arrest_month'], axis=1, inplace=True)\n",
    "df_logreg = df\n",
    "df_logreg.info()"
   ]
  },
  {
   "cell_type": "code",
   "execution_count": null,
   "metadata": {},
   "outputs": [],
   "source": [
    "df.head()"
   ]
  },
  {
   "cell_type": "markdown",
   "metadata": {},
   "source": [
    "#### Correlation Matrix\n",
    "Next we look at the correlation matrix for our encoded features. Two explanatory variables with high correlation between each other should not both be included in the model. In the plot below, axis labels have been omitted for clarity, but it does not hurt the visualization because there is very low correlation between the many encoded features.  The yellow line down the diagonal represents where each feature is compared to itself, so, of course, those correlations are 1 (and can be ignored because they are between the same variable). We do not see the need to remove any variables for multicollinearity reasons."
   ]
  },
  {
   "cell_type": "code",
   "execution_count": null,
   "metadata": {},
   "outputs": [],
   "source": [
    "# Take a look at the correlations between the many features in the data set\n",
    "f = plt.figure(figsize=(19, 15))\n",
    "plt.matshow(df.corr(), fignum=f.number)\n",
    "cb = plt.colorbar()\n",
    "plt.title('Arrest Data Correlation Matrix', fontsize=16);"
   ]
  },
  {
   "cell_type": "markdown",
   "metadata": {},
   "source": [
    "<a id = 'Section_3_b'></a>"
   ]
  },
  {
   "cell_type": "markdown",
   "metadata": {},
   "source": [
    "### b. Logistic Regression\n",
    "\n",
    "The section of code below sets up the frame for the logistic regression model. The target `Arrest Type Code` is identified as `y` and all other variables are assigned as explanatory variables `X`. We will be running multi-nomial Logistic Regression models since we have 4 Arrest Type Codes that we are trying to predict: Felony, Misdemeanor, Infraction, and Other."
   ]
  },
  {
   "cell_type": "code",
   "execution_count": null,
   "metadata": {},
   "outputs": [],
   "source": [
    "# we want to predict the X and y data as follows:\n",
    "if 'Arrest Type Code' in df_logreg:\n",
    "    y = df_logreg['Arrest Type Code'].values # get the labels we want\n",
    "    del df_logreg['Arrest Type Code'] # get rid of the class label\n",
    "    X = df_logreg.values # use everything else to predict!"
   ]
  },
  {
   "cell_type": "markdown",
   "metadata": {},
   "source": [
    "We will use 3 different cross validation techniques to split the data and compare performance.\n",
    "1. ShuffleSplit - use an 80%/20% training/test split. 3 iterations will be run. \n",
    "2. StratifiedShuffleSplit - use an 80%/20% training/test split. 3 iterations will be run. Here, the splits maintain the same percentages of each Arrest Type Code as the original dataset.\n",
    "3. StratifiedKFold - dataset is split into 10 different groups and one group is left out each time. The splits maintain the same percentages of each Arrest Type Code as the original dataset."
   ]
  },
  {
   "cell_type": "code",
   "execution_count": null,
   "metadata": {},
   "outputs": [],
   "source": [
    "#Create the cross validation objects to be used in models\n",
    "num_cv_iterations = 3\n",
    "num_instances = len(y)\n",
    "cv_object = ShuffleSplit(n_splits=num_cv_iterations,test_size  = 0.2,random_state=1234)\n",
    "cv_object1 = StratifiedShuffleSplit(n_splits=num_cv_iterations, test_size=0.2, random_state=1234)\n",
    "cv_object2 = StratifiedKFold(n_splits=10, random_state=1234)\n",
    "                         \n",
    "print(cv_object)\n",
    "print(cv_object1)\n",
    "print(cv_object2)"
   ]
  },
  {
   "cell_type": "markdown",
   "metadata": {},
   "source": [
    "The code below creates a function to run the ShuffleSplit and the StratifiedShuffleSplit models to streamline testing multiple instances of each. The dataset is first split into train and test, then the explanatory variables are scaled. We do the scaling after the split so that we are not influencing scaling on observations in the test set. Finally, we fit the model with the training set and predict with the test set."
   ]
  },
  {
   "cell_type": "code",
   "execution_count": null,
   "metadata": {},
   "outputs": [],
   "source": [
    "def shufflesplits(estimator, cross_val_object):\n",
    "    iter_num=0\n",
    "    # the indices are the rows used for training and testing in each iteration\n",
    "    for train_indices, test_indices in cross_val_object.split(X,y): \n",
    "        X_train = X[train_indices]\n",
    "        y_train = y[train_indices]\n",
    "\n",
    "        X_test = X[test_indices]\n",
    "        y_test = y[test_indices]\n",
    "\n",
    "        scl_obj = StandardScaler()\n",
    "        scl_obj.fit(X_train)\n",
    "\n",
    "        X_train_scaled = scl_obj.transform(X_train) # apply to training\n",
    "        X_test_scaled = scl_obj.transform(X_test)\n",
    "\n",
    "        # train the reusable logisitc regression model on the training data\n",
    "        estimator.fit(X_train_scaled,y_train)  # train object\n",
    "        y_hat = estimator.predict(X_test_scaled) # get test set precitions\n",
    "\n",
    "        # now let's get the accuracy and confusion matrix for this iterations of training/testing\n",
    "        print(\"====Iteration\",iter_num,\" ====\")\n",
    "        print(\"accuracy\", mt.accuracy_score(y_test,y_hat))\n",
    "        print(\"precision\", mt.precision_score(y_test,y_hat,average='weighted')) \n",
    "        print(\"recall\", mt.recall_score(y_test,y_hat,average='weighted')) \n",
    "        print(\"confusion matrix\\n\",mt.confusion_matrix(y_test,y_hat))\n",
    "        iter_num+=1"
   ]
  },
  {
   "cell_type": "markdown",
   "metadata": {},
   "source": [
    "#### ShuffleSplit\n",
    "First, we run the ShuffleSplit cross validation. We are using 2 options that are important for multi-nomial logistic regression: multi-class='multinomial' and class_weight='balanced'. Our data is not balanced between values of `Arrest Type Code`. 33.01% of the data are Felonies, 62.55% are Misdemeanors, 2.23% are Infractions and 2.22% are Other. Using class-weight='balanced' adjusts the weights to correspond to the occurrence of values of `Arrest Type Code` such that more emphasis will be placed on values of `Arrest Type Code` that occur most frequently. Here, more emphasis will be placed on Misdemeanor than Felony, and more emphasis will be placed on Felony than Infraction and Other.\n",
    "\n",
    "Accuracy, precision, recall and the confusion matrix are printed out for each iteration of the model. Accuracy averages out to 64.43% over these 3 iterations. The most important incidents to correctly identify are Felonies. It is concerning here the large number of misclassifications of Felonies, especially those misclassified to Other.\n",
    "\n",
    "For all models, the confusion matrices print in this order: Felony, Misdemeanor, Infraction, Other."
   ]
  },
  {
   "cell_type": "code",
   "execution_count": null,
   "metadata": {},
   "outputs": [],
   "source": [
    "%%time\n",
    "lr_clf = LogisticRegression(multi_class='multinomial', solver='newton-cg',random_state=1234, class_weight='balanced')\n",
    "shufflesplits(lr_clf,cv_object)"
   ]
  },
  {
   "cell_type": "markdown",
   "metadata": {},
   "source": [
    "#### StratifiedShuffleSplit\n",
    "Next, we run the StratifiedShuffleSplit cross validation using the same logistic regression model as before. Accuracy averages out to 64.49% over these 3 iterations, which is slightly higher than the ShuffleSplit cross validation."
   ]
  },
  {
   "cell_type": "code",
   "execution_count": null,
   "metadata": {},
   "outputs": [],
   "source": [
    "%%time\n",
    "shufflesplits(lr_clf,cv_object1)"
   ]
  },
  {
   "cell_type": "markdown",
   "metadata": {},
   "source": [
    "#### StratifiedKFold\n",
    "For StratifiedKFold cross validation we create a separate function, which is slightly condensed. The function still splits the data into train and test datasets, and scales the explanatory variables after the split has been made. "
   ]
  },
  {
   "cell_type": "code",
   "execution_count": null,
   "metadata": {},
   "outputs": [],
   "source": [
    "def log_reg(estimator,cross_val_object):\n",
    "    yhat=np.zeros(y.shape)\n",
    "    std_scl = StandardScaler()\n",
    "\n",
    "    # create the pipline\n",
    "    piped_object = Pipeline([('scale', std_scl), ('logit_model', estimator)])\n",
    "\n",
    "    # run the pipline corssvalidated\n",
    "    for train, test in cross_val_object.split(X,y):\n",
    "        piped_object.fit(X[train],y[train])  # train object\n",
    "        yhat[test] = piped_object.predict(X[test])\n",
    "\n",
    "    # it is a little odd getting trained objects from a  pipeline:\n",
    "    trained_model_from_pipeline = piped_object.named_steps['logit_model']\n",
    "    print(\"confusion matrix\\n\",mt.confusion_matrix(y,yhat))\n",
    "    print(\"accuracy\", mt.accuracy_score(y,yhat))\n",
    "    print(\"precision\", mt.precision_score(y,yhat,average='weighted'))\n",
    "    print(\"recall\", mt.recall_score(y,yhat,average='weighted'))"
   ]
  },
  {
   "cell_type": "markdown",
   "metadata": {},
   "source": [
    "#### StratifiedKFold: solver='newton-cg'\n",
    "For the first model of StratifiedKFold cross validation, we use the same model as before. Here we specify the penalty of 'l2' (which is the default). We will adjust various model parameters to see how they affect accuracy."
   ]
  },
  {
   "cell_type": "code",
   "execution_count": null,
   "metadata": {},
   "outputs": [],
   "source": [
    "%%time\n",
    "lr_clf = LogisticRegression(multi_class='multinomial', penalty='l2', solver='newton-cg',random_state=1234, class_weight='balanced')\n",
    "log_reg(lr_clf,cv_object2)"
   ]
  },
  {
   "cell_type": "markdown",
   "metadata": {},
   "source": [
    "Below, we switch the penalty to 'none'. There are no other penalty options to choose from because solver 'newton-cg' only supports penalty 'l2' or 'none'. Accuracy is practically identical for both options of solver 'newton-cg'. It is interesting to note that the compute time increases by approximately 26 minutes."
   ]
  },
  {
   "cell_type": "code",
   "execution_count": null,
   "metadata": {},
   "outputs": [],
   "source": [
    "%%time\n",
    "lr_clf = LogisticRegression(multi_class='multinomial', penalty='none', solver='newton-cg',random_state=1234, class_weight='balanced')\n",
    "log_reg(lr_clf,cv_object2)"
   ]
  },
  {
   "cell_type": "markdown",
   "metadata": {},
   "source": [
    "#### StratifiedKFold: solver='lbfgs'\n",
    "Now we change solver to 'lbfgs'. We first run the model with penalty='l2'."
   ]
  },
  {
   "cell_type": "code",
   "execution_count": null,
   "metadata": {},
   "outputs": [],
   "source": [
    "%%time\n",
    "lr_clf = LogisticRegression(multi_class='multinomial', penalty='l2', solver='lbfgs',random_state=1234, class_weight='balanced')\n",
    "log_reg(lr_clf,cv_object2)"
   ]
  },
  {
   "cell_type": "markdown",
   "metadata": {},
   "source": [
    "Here we again use solver='lbfgs', but we switch the penalty to 'none'. Solver 'lbfgs' only supports penalty 'l2' or 'none'. Accuracy is again practically the same for both penalty options of solver 'lbfgs'. Using solver 'lbfgs' does reduce the compute time by over an hour and twenty-two minutes as compared to the previous two models."
   ]
  },
  {
   "cell_type": "code",
   "execution_count": null,
   "metadata": {},
   "outputs": [],
   "source": [
    "%%time\n",
    "lr_clf = LogisticRegression(multi_class='multinomial', penalty='none', solver='lbfgs',random_state=1234, class_weight='balanced')\n",
    "log_reg(lr_clf,cv_object2)"
   ]
  },
  {
   "cell_type": "markdown",
   "metadata": {},
   "source": [
    "#### StratifiedKFold: solver='sag'\n",
    "Now we change the solver to 'sag'. Using a penalty of 'l2' reduces the accuracy to 63.05%, compared to the 63.08% we have seen with other models."
   ]
  },
  {
   "cell_type": "code",
   "execution_count": null,
   "metadata": {},
   "outputs": [],
   "source": [
    "%%time\n",
    "lr_clf = LogisticRegression(multi_class='multinomial', penalty='l2', solver='sag',random_state=1234, class_weight='balanced')\n",
    "log_reg(lr_clf,cv_object2)"
   ]
  },
  {
   "cell_type": "markdown",
   "metadata": {},
   "source": [
    "Changing the penalty to 'none' increases the accuracy of the model to 63.09%, and it decreases the time from 44 minutes to 39 minutes."
   ]
  },
  {
   "cell_type": "code",
   "execution_count": null,
   "metadata": {},
   "outputs": [],
   "source": [
    "%%time\n",
    "lr_clf = LogisticRegression(multi_class='multinomial', penalty='none', solver='sag',random_state=1234, class_weight='balanced')\n",
    "log_reg(lr_clf,cv_object2)"
   ]
  },
  {
   "cell_type": "markdown",
   "metadata": {},
   "source": [
    "#### StratifiedKFold: solver='saga'\n",
    "Below we try out 3 models for solver='saga'. These models test different options for penalty: 'l2', 'l1', and 'elasticnet'. We use l1_ratio=.5 for penalty='elasticnet', which signifies a combination of L1 and L2. Again, we see that changing the solver and penalty, does not significantly change the accuracy performance of the model. The only thing that does change significantly is the compute time."
   ]
  },
  {
   "cell_type": "code",
   "execution_count": null,
   "metadata": {},
   "outputs": [],
   "source": [
    "%%time\n",
    "lr_clf = LogisticRegression(multi_class='multinomial', penalty='l2', solver='saga',random_state=1234, class_weight='balanced')\n",
    "log_reg(lr_clf,cv_object2)"
   ]
  },
  {
   "cell_type": "code",
   "execution_count": null,
   "metadata": {},
   "outputs": [],
   "source": [
    "%%time\n",
    "lr_clf = LogisticRegression(multi_class='multinomial', penalty='none', solver='saga',random_state=1234, class_weight='balanced')\n",
    "log_reg(lr_clf,cv_object2)"
   ]
  },
  {
   "cell_type": "code",
   "execution_count": null,
   "metadata": {},
   "outputs": [],
   "source": [
    "%%time\n",
    "lr_clf = LogisticRegression(multi_class='multinomial', penalty='elasticnet', l1_ratio=.5, solver='saga',random_state=1234, class_weight='balanced')\n",
    "log_reg(lr_clf,cv_object2)"
   ]
  },
  {
   "cell_type": "markdown",
   "metadata": {},
   "source": [
    "#### StratifiedKFold: Changes in C\n",
    "The following two blocks of code test different values for C using the 'lbfgs' solver. We use 'lbfgs' since this solver has been the fastest to compute and since the models all have very similar accuracies. We noticed that decreasing the `C` parameter to 1.5 decreased our compute time from 13 minutes 15 seconds from the fastest version of the model to 10 minutes and 36 seconds."
   ]
  },
  {
   "cell_type": "code",
   "execution_count": null,
   "metadata": {},
   "outputs": [],
   "source": [
    "%%time\n",
    "lr_clf = LogisticRegression(multi_class='multinomial', C=.5, penalty='l2', solver='lbfgs',random_state=1234, class_weight='balanced')\n",
    "log_reg(lr_clf,cv_object2)"
   ]
  },
  {
   "cell_type": "code",
   "execution_count": null,
   "metadata": {},
   "outputs": [],
   "source": [
    "%%time\n",
    "lr_clf = LogisticRegression(multi_class='multinomial', C=1.5, penalty='l2', solver='lbfgs',random_state=1234, class_weight='balanced')\n",
    "log_reg(lr_clf,cv_object2)"
   ]
  },
  {
   "cell_type": "markdown",
   "metadata": {},
   "source": [
    "#### Logistic Regression Winning Model\n",
    "\n",
    "`Table 1` shows performance for each model run. We have chosen the StratifiedKFold model using solver='lbgfs', penalty='l2' and C='0.5' as the winning model. This is not the model with the highest accuracy. The increase in time from 11:05 to 35:45 of the model with the highest accuracy didn't seem worth the extra computing time, especially since the increase in accuracy was only 0.0047%.\n",
    "\n",
    "#### Table 1: Logistic Regression Model Performance\n",
    "\n",
    "| Cross Validation | Solver | Penalty | C | Time HH:MM:SS | Accuracy | Precision | Recall |\n",
    "| :-- | :-- |  :-- | :-- | :-- | :-- | :-- | :-- |\n",
    "| ShuffleSplit | newton-cg | l2 | 1 | 27:30 | 64.44% | 82.90% | 64.44% |\n",
    "| StratifiedShuffleSplit | newton-cd | l2 | 1 | 23:24 | 64.49% | 82.93% | 64.50% |\n",
    "| StratifiedKFold | newton-cg | l2 | 1 | 1:35:47 | 63.0815% | 82.3413% | 63.0815% |\n",
    "| StratifiedKFold | newton-cg | none | 1 | 1:56:53 | 63.0814% | 82.3412% | 63.0814% |\n",
    "| StratifiedKFold | lbfgs | l2 | 1 | 13:15 | 63.0824% | 82.3420% | 63.0824% |\n",
    "| **StratifiedKFold** | **lbfgs** | **l2** | **0.5** | **11:05** | **63.0842%** | **82.3426%** | **63.0842%** |\n",
    "| StratifiedKFold | lbfgs | l2 | 1.5 | 10:36 | 63.0817% | 82.3417% | 63.0817% |\n",
    "| StratifiedKFold | lbfgs | none | 1 | 13:19 | 63.0820% | 82.3416% | 63.0820% |\n",
    "| StratifiedKFold | sag | l2 | 1 | 43:45 | 63.0534% | 82.3439% | 63.0534% |\n",
    "| StratifiedKFold | sag | none | 1 | 35:45 | 63.0889% | 82.3441% | 63.0889% |\n",
    "| StratifiedKFold | saga | l2 | 1 | 47:01 | 63.0810% | 82.3411% | 63.0810% |\n",
    "| StratifiedKFold | saga | none | 1 | 44:37 | 63.0810% | 82.3411% | 63.0810% |\n",
    "| StratifiedKFold | saga | elasticnet | 1 | 1:11:51 | 63.0811% | 82.3412% | 63.0811% |"
   ]
  },
  {
   "cell_type": "markdown",
   "metadata": {},
   "source": [
    "#### Table 2: Confusion Matrix\n",
    "\n",
    "| Final Confusion Matrix | Predicted: Felony | Predicted: Misdemeanor | Predicted: Infraction | Predicted: Other |\n",
    "| :-- | :-- | :-- | :-- | :-- |\n",
    "| Actual: Felony | 286,161 | 40,424 | 2,781 |  56,563 |\n",
    "| Actual: Misdemeanor | 86,899 | 404,041 | 114,731 | 125,631| \n",
    "| Actual: Infraction | 1,141 | 2,518 | 21,867 | 490 | \n",
    "| Actual: Other | 6 | 447 | 1 | 25,533| "
   ]
  },
  {
   "cell_type": "markdown",
   "metadata": {},
   "source": [
    "`Table 2` shows approximately 75% accuracy categorizing Felonies, 55% on Misdemeanors, 84% on Infractions, and 98% on Other. The relative strength of the logistic regression on Infractions and Other indicates that they have different associations with the predicting variables compared to Felonies and Misdemeanors. The number of samples for Felonies and Misdemeanors make up far larger portions of the data, so it is possible the uncertainty in classifying them has to do with the relatively greater variance of those two categories.\n",
    "\n",
    "Felonies were about 33% of the total dataset, Misdemeanors 62%, Infractions and Other making up the remaining 5%. Higher accuracy on the categorization of the smaller populations may also be more accurate due to lack of overlap on charge codes. There are many charge codes, such as Charge_5 (Burglary), which are exclusively Felonies or Misdemeanors, with absolutely no Infractions or lesser charges. Only 9 of the possible 30 charges contain arrest labeled as Infractions, and those that do rarely also contain Felonies. Because of this, when using charge codes as an element of logistic regression, we can think of certain charge codes as highly indicative of an infraction or lesser charge because they exist in a fairly distinct space relative to the rest of the data that consists of arrests labeled as Felonies and Misdemeanors. This is further supported by the distribution of predictions for Felonies and Misdemeanors. In each column of the confusion matrix, most incorrect classifications for Felonies and Misdemeanors were Misdemeanors and Felonies, respectively. Compared to the small amount of either more serious arrest type that were classified as Infractions or Other, it seems that Felonies and Misdemeanors have more in common with each other than they do with the lesser charges.\n",
    "\n",
    "Without delving into the mechanics of exactly what are the legal/financial/severity thresholds that separate various identical charges like homicide, burglary, rape, or vehicular theft into Felonies and Misdemeanors, it is difficult to determine if the \"closeness\" of felony and misdemeanor arrests are due to how more serious crimes are viewed by society/the judicial system or if there are other mitigating factors involved."
   ]
  },
  {
   "cell_type": "markdown",
   "metadata": {},
   "source": [
    "#### Extra: Binomial Logistic Regression\n",
    "Before moving on to Support Vector Machines, we thought we would include some work we did with binomial logistic regression. We won't elaborate too much, but we were able to get significantly higher accuracy when only predicting Felonies and Misdemeanors. However, we choose to focus on multi-nomial models because this is more realistic. If our goal is to help prioritize calls a 911 dispatcher receives, it is not practical to only help predict some of the calls."
   ]
  },
  {
   "cell_type": "code",
   "execution_count": null,
   "metadata": {},
   "outputs": [],
   "source": [
    "#Exclude charge group codes that only appear with either Felony or Misdemeanor\n",
    "charge_codes_exclude= ['3.0','18.0','19.0','25.0','27.0','29.0','99.0','nan']\n",
    "df_binary = df_binary[~df_binary['Charge Group Code'].isin(charge_codes_exclude) ]\n",
    "df_binary.drop(df_binary[df_binary['Arrest Type Code'] == 2].index, inplace = True) \n",
    "df_binary.drop(df_binary[df_binary['Arrest Type Code'] == 3].index, inplace = True) \n",
    "\n",
    "df_binary.drop(['Sex Code','Descent Code','arrest_day_of_week','Area ID','Reporting District','Charge Group Code',\n",
    "         'Location','arrest_year','Age','Hour','arrest_month'], axis=1, inplace=True)\n",
    "\n",
    "print(\"The filtered data set has {:,} rows and {:,} columns\".format(*df_binary.shape))"
   ]
  },
  {
   "cell_type": "code",
   "execution_count": null,
   "metadata": {},
   "outputs": [],
   "source": [
    "if 'Arrest Type Code' in df_binary:\n",
    "    y = df_binary['Arrest Type Code'].values # get the labels we want\n",
    "    del df_binary['Arrest Type Code'] # get rid of the class label\n",
    "    X = df_binary.values # use everything else to predict!"
   ]
  },
  {
   "cell_type": "code",
   "execution_count": null,
   "metadata": {},
   "outputs": [],
   "source": [
    "%%time\n",
    "lr_clf = LogisticRegression(penalty='l2', solver='lbfgs',class_weight='balanced',random_state=1234) # get object\n",
    "log_reg(lr_clf,cv_object2)"
   ]
  },
  {
   "cell_type": "markdown",
   "metadata": {},
   "source": [
    "<a id = 'Section_3_c'></a>"
   ]
  },
  {
   "cell_type": "markdown",
   "metadata": {},
   "source": [
    "### c. Support Vector Machine"
   ]
  },
  {
   "cell_type": "markdown",
   "metadata": {},
   "source": [
    "In this section, we will explore support vector machines. First, a variety of SVM kernels are used, and we compare the results to see which ones are the most and least accurate. For the linear kernel, we can take the additional step of looking at the weights and plotting out the most meaningful.  Once we have the most accurate SVM model, which turns out to be RBF, we plot KDEs for all support vectors and compare that to their before state.  Finally, just for fun, we also look at a stochastic gradient descent (SGD) model. Interestingly, the SGD model performs about as well as the top models that don't use SGD.\n",
    "\n",
    "One thing that we noticed right away is just how long it takes to train SVM models. We found that the training time grew exponentially as the size of the dataset grew, and we simply did not have enough time, after days of waiting, to use the full dataset in this section.  As a result, we opted to use a much smaller version of the dataset, which was built by randomly sampling 15% of data in the original dataset.  This resulted in 160,477 observations, which is much more manageable."
   ]
  },
  {
   "cell_type": "markdown",
   "metadata": {},
   "source": [
    "#### SVM Data Preparation\n",
    "Now, we can take a few additional steps in the preparation of the data specifically for our analysis using SVM.  Certain charges are not helpful as data points and can be excluded.  Various categorical features should also be dropped since they have now all been one-hot encoded and so will be represented using their encoding for this part of the analysis.\n",
    "\n",
    "The arrest type code is our predicted variable, which will also be removed from the analysis. We will use the rest of the features to improve our model's performance.\n",
    "\n",
    "Out of the cross validation set, we split our data into train and test, as usual.  Then, we scale our predictors with a standard scalar before fitting the model.\n",
    "\n",
    "Once this step is complete, we are ready to apply SVM with actual kernels and compare the results."
   ]
  },
  {
   "cell_type": "code",
   "execution_count": null,
   "metadata": {},
   "outputs": [],
   "source": [
    "#subsample of dataframe for svm testing, 5% of data\n",
    "SUB_SAMPLE_SIZE = 0.15\n",
    "df_svm1 = df_svm.sample(n = int(len(df) * SUB_SAMPLE_SIZE))\n",
    "\n",
    "#filter charge group codes \n",
    "charge_codes_exclude= ['3.0','25.0','99.0','nan']\n",
    "df_svm1 = df_svm1[~df_svm1['Charge Group Code'].isin(charge_codes_exclude) ]\n",
    "\n",
    "df_svm1.drop(['Sex Code','Descent Code','arrest_day_of_week','Area ID','Reporting District','Charge Group Code',\n",
    "         'Location','arrest_year','Age','Hour','arrest_month'], axis=1, inplace=True)\n",
    "\n",
    "if 'Arrest Type Code' in df_svm1:\n",
    "    y = df_svm1['Arrest Type Code'].values # get the labels we want\n",
    "    del df_svm1['Arrest Type Code'] # get rid of the class label\n",
    "    X = df_svm1.values # use everything else to predict!\n",
    "\n",
    "for train_indices, test_indices in cv_object.split(X,y): \n",
    "    X_train = X[train_indices]\n",
    "    y_train = y[train_indices]\n",
    "\n",
    "    X_test = X[test_indices]\n",
    "    y_test = y[test_indices]\n",
    "\n",
    "# scale attributes by the training set\n",
    "scl_obj = StandardScaler()\n",
    "scl_obj.fit(X_train) \n",
    "X_train_scaled = scl_obj.transform(X_train) \n",
    "X_test_scaled = scl_obj.transform(X_test)"
   ]
  },
  {
   "cell_type": "code",
   "execution_count": null,
   "metadata": {},
   "outputs": [],
   "source": [
    "y.shape"
   ]
  },
  {
   "cell_type": "markdown",
   "metadata": {},
   "source": [
    "#### SVM Sigmoid Kernel\n",
    "Now, we can start our SVM analysis.  Here we train a model using a Sigmoid kernel.  The sigmoid is a special function that is guaranteed to have a y-value constrained between 0 and 1 and crosses the y-axis at x=0.  Accuracy was better than logistic regression, at 74.25%, but we can do better.  The confusion matrix shows our predicted results across the four arrest types - Felony, Misdemeanor, Infraction, and Other (in this order).  This gives us a 4x4 matrix with the accurately predicted counts along the main diagonal."
   ]
  },
  {
   "cell_type": "code",
   "execution_count": null,
   "metadata": {},
   "outputs": [],
   "source": [
    "%%time\n",
    "#sigmoid test\n",
    "svm_clf = SVC(C=0.5, kernel='sigmoid', degree=3, gamma='auto') # get object\n",
    "svm_clf.fit(X_train_scaled, y_train)  # train object\n",
    "\n",
    "y_hat = svm_clf.predict(X_test_scaled) # get test set precitions\n",
    "\n",
    "print('Sigmoid SVM Accuracy:', mt.accuracy_score(y_test,y_hat))\n",
    "print(\"precision\", mt.precision_score(y_test,y_hat,average='weighted'))\n",
    "print(\"recall\", mt.recall_score(y_test,y_hat,average='weighted'))\n",
    "print(mt.confusion_matrix(y_test,y_hat))"
   ]
  },
  {
   "cell_type": "markdown",
   "metadata": {},
   "source": [
    "#### SVM Linear Kernel\n",
    "\n",
    "Note that linear is the simplest model to use conceptually, as it really is as simple as drawing a line between clusters of data points (or a plane in three dimensions, a cube in four, and so on).  The result is an accuracy of 76.86%, the highest yet.  In addition to the usual confusion matrix, we have also printed out the support vectors themselves and their n-value to study their shape for this dataset."
   ]
  },
  {
   "cell_type": "code",
   "execution_count": null,
   "metadata": {},
   "outputs": [],
   "source": [
    "%%time\n",
    "# lets investigate SVMs on the data and play with the parameters and kernels\n",
    "\n",
    "# train the model with a linear kernal\n",
    "svm_clf = SVC(C=0.5, kernel='linear', degree=3, gamma='auto') # get object\n",
    "svm_clf.fit(X_train_scaled, y_train)  # train object\n",
    "\n",
    "y_hat = svm_clf.predict(X_test_scaled) # get test set precitions\n",
    "\n",
    "print('Linear SVM Accuracy:', mt.accuracy_score(y_test,y_hat))\n",
    "print(\"precision\", mt.precision_score(y_test,y_hat,average='weighted'))\n",
    "print(\"recall\", mt.recall_score(y_test,y_hat,average='weighted'))\n",
    "print(mt.confusion_matrix(y_test,y_hat))\n",
    "\n",
    "# look at the support vectors\n",
    "print(svm_clf.support_vectors_.shape)\n",
    "print(svm_clf.support_.shape)\n",
    "print(svm_clf.n_support_ )"
   ]
  },
  {
   "cell_type": "markdown",
   "metadata": {},
   "source": [
    "#### SVM Linear Weights\n",
    "Linear models also allow us to examine the weights, which would not make sense for non-linear models.  Here, we print out the weights and plot them.  In looking at the plot, it's obvious that many of these weights essentially contribute nothing to our model.  You can tell that, too, by looking at some of the weight matrices.  Many of the values are extremely small - on the order of e-5 or e-6, which is very close to zero.  As such, we will want to prune these down quite a bit to focus on the ones that provide value."
   ]
  },
  {
   "cell_type": "code",
   "execution_count": null,
   "metadata": {
    "scrolled": true
   },
   "outputs": [],
   "source": [
    "# Look at the weights for linear SVM\n",
    "print(svm_clf.coef_)\n",
    "weights = pd.Series(svm_clf.coef_[0],index=df.columns)\n",
    "weights.plot(kind='bar')"
   ]
  },
  {
   "cell_type": "code",
   "execution_count": null,
   "metadata": {},
   "outputs": [],
   "source": [
    "weights.sort_values()"
   ]
  },
  {
   "cell_type": "markdown",
   "metadata": {},
   "source": [
    "#### SVM Significant Linear Weights\n",
    "There are many categories that have practically no weight at all(absolute value less than 0.0001). Filtering out values with abs < .01 takes us from 93 weights to 15.  The plot below shows this graphically and shows visually which weights do carry the greatest impact.\n",
    "\n",
    "Only charge related categories remain after filtering for weights with an absolute value greater than 0.01, so we can infer that the excluded fields, hour, area, day of week, and even descent code, are all less useful than the charge type in finding the ideal separating hyperplane between the various types of arrests. However, this may be a reflection of the data, which contains significant overlap between certain charge types and arrest types. As an example, charge_4.0 is Aggravated Assault, which is almost always a Felony."
   ]
  },
  {
   "cell_type": "code",
   "execution_count": null,
   "metadata": {},
   "outputs": [],
   "source": [
    "#filter and regraph\n",
    "weights = pd.Series(svm_clf.coef_[0],index=df.columns)\n",
    "weights_filtered = weights[abs(weights) > 0.01]\n",
    "len(weights_filtered)\n",
    "weights_filtered.plot(kind='bar')"
   ]
  },
  {
   "cell_type": "markdown",
   "metadata": {},
   "source": [
    "#### SVM Polynomial Kernel\n",
    "Next, we use the polynomial kernel, which allows us to learn a non-linear model.  We can specify the degree (i.e. the highest number of exponents of the polynomial).  In this case, we chose to go with 3.  While higher order polynomials would result in better accuracy, they would likely overfit the model, thus making it a poor predictor.\n",
    "\n",
    "Once fit, we look at the test results and find that this model results in about 81% accuracy.  This is significantly better than the accuracy results from logistic regression."
   ]
  },
  {
   "cell_type": "code",
   "execution_count": null,
   "metadata": {},
   "outputs": [],
   "source": [
    "%%time\n",
    "#poly test\n",
    "svm_clf = SVC(C=0.5, kernel='poly', degree=3, gamma='auto') # get object\n",
    "svm_clf.fit(X_train_scaled, y_train)  # train object\n",
    "\n",
    "y_hat = svm_clf.predict(X_test_scaled) # get test set precitions\n",
    "\n",
    "print('Poly SVM Accuracy:', mt.accuracy_score(y_test,y_hat))\n",
    "print(\"precision\", mt.precision_score(y_test,y_hat,average='weighted'))\n",
    "print(\"recall\", mt.recall_score(y_test,y_hat,average='weighted'))\n",
    "print(mt.confusion_matrix(y_test,y_hat))"
   ]
  },
  {
   "cell_type": "markdown",
   "metadata": {},
   "source": [
    "#### Stochastic Gradient Descent\n",
    "Just to see what the differences might be, we also tried a model with SGD.  Much like SVM, this also involved the use of some scaling before getting the test set prediction.  The results and confusion matrix show that accuracy with this method was as good as with SVM using and RBF kernel.  While performance in this analysis was very similar for both models, using SGD could result in better performance since it doesn't explode exponentially the way that the SVM algorithm does."
   ]
  },
  {
   "cell_type": "code",
   "execution_count": null,
   "metadata": {},
   "outputs": [],
   "source": [
    "%%time\n",
    "# Linear SVM classifier with Stochastic Descent\n",
    "from sklearn.linear_model import SGDClassifier\n",
    "\n",
    "regularize_const = 0.1\n",
    "iterations = 5\n",
    "svm_sgd = SGDClassifier(alpha=regularize_const,\n",
    "        fit_intercept=True, l1_ratio=0.0, learning_rate='optimal',\n",
    "        loss='hinge', n_iter_no_change=iterations, n_jobs=-1, penalty='l2')\n",
    "\n",
    "scl = StandardScaler()\n",
    "\n",
    "svm_sgd.fit(scl.fit_transform(X_train_scaled),y_train)\n",
    "yhat = svm_sgd.predict(scl.transform(X_test_scaled))\n",
    "\n",
    "svm_clf = SVC(C=0.5, kernel='rbf', degree=3, gamma='auto') # get object\n",
    "svm_clf.fit(X_train_scaled, y_train)  # train object\n",
    "\n",
    "y_hat = svm_clf.predict(X_test_scaled) # get test set precitions\n",
    "\n",
    "print('SVM w/Stochastic Descent:', mt.accuracy_score(y_test,y_hat))\n",
    "print(\"precision\", mt.precision_score(y_test,y_hat,average='weighted'))\n",
    "print(\"recall\", mt.recall_score(y_test,y_hat,average='weighted'))\n",
    "print(mt.confusion_matrix(y_test,y_hat))\n",
    "\n",
    "# look at the support vectors\n",
    "print(svm_clf.support_vectors_.shape)\n",
    "print(svm_clf.support_.shape)\n",
    "print(svm_clf.n_support_ )"
   ]
  },
  {
   "cell_type": "markdown",
   "metadata": {},
   "source": [
    "#### SVM Radial Basis Function Kernel\n",
    "For our final SVM model, we use RBF, which, much like sigmoid, ranges between 0 and 1.  It measures the distance between points and the support vectors, and another useful property is that RBF decreases with distance.  The result is an accuracy 81.12%."
   ]
  },
  {
   "cell_type": "code",
   "execution_count": null,
   "metadata": {},
   "outputs": [],
   "source": [
    "%%time\n",
    "# train the model just as before with an rbf kernal\n",
    "svm_clf = SVC(C=0.5, kernel='rbf', degree=3, gamma='auto') # get object\n",
    "svm_clf.fit(X_train_scaled, y_train)  # train object\n",
    "\n",
    "y_hat = svm_clf.predict(X_test_scaled) # get test set precitions\n",
    "\n",
    "print('RBF SVM Accuracy:', mt.accuracy_score(y_test,y_hat))\n",
    "print(\"precision\", mt.precision_score(y_test,y_hat,average='weighted'))\n",
    "print(\"recall\", mt.recall_score(y_test,y_hat,average='weighted'))\n",
    "print(mt.confusion_matrix(y_test,y_hat))\n",
    "\n",
    "# look at the support vectors\n",
    "print(svm_clf.support_vectors_.shape)\n",
    "print(svm_clf.support_.shape)\n",
    "print(svm_clf.n_support_ )"
   ]
  },
  {
   "cell_type": "markdown",
   "metadata": {},
   "source": [
    "#### SVM Winning Model\n",
    "`Table 3` summarizes model performance for the SVM models we ran. About 81% accuracy for kernel types RBF and Poly. On this dataset, polynomial appears to take most time/computational resources with sigmoid the least. The RBF (gaussian) approach is slightly more accurate than the rest, which may indicate that the ideal separating hyperplane that can be used to categorize arrest type codes is nonlinear."
   ]
  },
  {
   "cell_type": "markdown",
   "metadata": {},
   "source": [
    "#### Table 3: SVM Model Performance\n",
    "\n",
    "| Model | Time HH:MM:SS | Accuracy | Precision | Recall |\n",
    "| :-- | :-- | :-- | :-- | :-- |\n",
    "| Stochastic Descent (rbf kernel) | 1:29:29 | 80.96% | 79.05% | 80.96% |\n",
    "| **Linear SVM (rbf kernel)** | 1:15:50 | **80.96%** | **79.05%** | **80.96%** |\n",
    "| Polynomial SVM | 1:19:25 | 80.95% | 78.95% | 80.95 | \n",
    "| Linear SVM | 1:06:26 | 80.49% | 76.86% | 80.49% |\n",
    "| Sigmoid SVM | 31:38 | 74.25% | 71.22% | 74.25% |"
   ]
  },
  {
   "cell_type": "markdown",
   "metadata": {},
   "source": [
    "<a id = 'Section_4'></a>"
   ]
  },
  {
   "cell_type": "markdown",
   "metadata": {},
   "source": [
    "## 4. Model Advantages\n",
    "\n",
    "*(10 points)*\n",
    "\n",
    "*Discuss the advantages of each model for each classification task. Does one type of model offer superior performance over another in terms of prediction accuracy? In terms of training time or efficiency? Explain in detail.*"
   ]
  },
  {
   "cell_type": "markdown",
   "metadata": {},
   "source": [
    "#### Logistic Regression\n",
    "\n",
    "- **Advantages**: Simple and interpretable model. Can classify and also give you probabilites. Computationally inexpensive. Good baseline to compare more complex models. Easy to regularize (shrink coeffiicent estimates to zero to avoid overfitting).  \n",
    "\n",
    "\n",
    "- **Disadvantages**: Performace suffers when there are multiple non-linear decision boundaries. \n",
    "\n",
    "For our dataset, the logistic regression model performed much worse than all SVM models. The logistic regression model was even built with more data than the SVM models. The computing time for our logistic regression models was significantly less than the SVM models."
   ]
  },
  {
   "cell_type": "markdown",
   "metadata": {},
   "source": [
    "#### Support Vector Machine\n",
    "\n",
    "- **Advantages**: Highly accurate. Can model non-linear decision boundaries. Can work well on smaller datasets (i.e., doesn't need millions of observations). Generalizes well. Tends to avoid overfitting and works well when identifying boundary regions.     \n",
    "\n",
    "\n",
    "- **Disadvantages**: Training time with SVMs can be high. Less effective on noisier datasets with overlapping classes. Requires selection of the kernel function parameters (i.e. you have to provide the true structure of the data as an input). Requires tuning the parameters for the kernels and the C parameter, which can be time consuming and decrease the performance if done improperly.  \n",
    "\n",
    "For our dataset, the computing time required for SVM models was an issue. We wanted to test a wide variety of models, but when some of them take hours to run (on just 15% of the data), we were limited in what we could actually acoomplish. We spent days trying to get the full dataset to run through an SVM model before we had to give up and sample the dataset. The advantage of the SVM models for our dataset was the huge gain in accuracy. The logistic regression models were not accurate enough, in our opinion, to actually be useful."
   ]
  },
  {
   "cell_type": "markdown",
   "metadata": {},
   "source": [
    "<a id = 'Section_5'></a>"
   ]
  },
  {
   "cell_type": "markdown",
   "metadata": {},
   "source": [
    "## 5. Interpret Feature Importance\n",
    "\n",
    "*(30 points)*\n",
    "\n",
    "*Use the weights from logistic regression to interpret the importance of different features for the classification task. Explain your interpretation in detail. Why do you think some variables are more important?*"
   ]
  },
  {
   "cell_type": "markdown",
   "metadata": {},
   "source": [
    "Below we re-run the winning logistic regression model."
   ]
  },
  {
   "cell_type": "code",
   "execution_count": null,
   "metadata": {},
   "outputs": [],
   "source": [
    "%%time\n",
    "\n",
    "lr_clf = LogisticRegression(multi_class='multinomial', C=.5, penalty='l2', solver='lbfgs',random_state=1234, class_weight='balanced')\n",
    "yhat=np.zeros(y.shape)\n",
    "std_scl = StandardScaler()\n",
    "\n",
    "# create the pipline\n",
    "piped_object = Pipeline([('scale', std_scl), ('logit_model', lr_clf)])\n",
    "\n",
    "# run the pipline crossvalidated\n",
    "for train, test in cv_object2.split(X,y):\n",
    "    piped_object.fit(X[train],y[train])  # train object\n",
    "    yhat[test] = piped_object.predict(X[test])\n",
    "\n",
    "# it is a little odd getting trained objects from a  pipeline:\n",
    "trained_model_from_pipeline = piped_object.named_steps['logit_model']\n",
    "print(\"confusion matrix\\n\",mt.confusion_matrix(y,yhat))\n",
    "print(\"accuracy\", mt.accuracy_score(y,yhat))\n",
    "print(\"precision\", mt.precision_score(y,yhat,average='weighted'))\n",
    "print(\"recall\", mt.recall_score(y,yhat,average='weighted'))"
   ]
  },
  {
   "cell_type": "markdown",
   "metadata": {},
   "source": [
    "Here we sort the weights by absolute value and print out the coefficients."
   ]
  },
  {
   "cell_type": "code",
   "execution_count": null,
   "metadata": {},
   "outputs": [],
   "source": [
    "# sort these attributes and spit them out\n",
    "zip_vars = zip(trained_model_from_pipeline.coef_[0],df_logreg.columns) # combine attributes\n",
    "zipped = list(zip_vars) \n",
    "zipped = sorted(zipped,key = lambda t: np.abs(t[0]), reverse=True)\n",
    "for coef, name in zipped:\n",
    "    print(name, 'has weight of', coef) # now print them out"
   ]
  },
  {
   "cell_type": "markdown",
   "metadata": {},
   "source": [
    "The plot below displays the most important features in the logistic regression model. We used a cut-off of .1 for the absolute value of the weights. This is due to the large number of explanatory variables, and the fact that the majority of them have weights very close to zero."
   ]
  },
  {
   "cell_type": "code",
   "execution_count": null,
   "metadata": {},
   "outputs": [],
   "source": [
    "# now let's make a pandas Series with the names and values, and plot them\n",
    "%matplotlib inline\n",
    "\n",
    "weights = pd.Series(trained_model_from_pipeline.coef_[0],index=df_logreg.columns)\n",
    "weights_filter = weights[weights.abs() >= 0.1]\n",
    "weights_final = weights_filter.iloc[weights_filter.abs().argsort()]\n",
    "\n",
    "x = weights_final.index\n",
    "y = weights_final.values\n",
    "\n",
    "fig, ax = plt.subplots(figsize=(10,10))\n",
    "ax.barh(x,y, color='blue')\n",
    "#ax.margins(0.05)\n",
    "ax.set_ylim(bottom=-2.5)"
   ]
  },
  {
   "cell_type": "markdown",
   "metadata": {},
   "source": [
    "Per the Logistic Regression Feature Importance chart above, we can see that the six most important features are Charge_18 (Drunkeness), Charge_24 (Misc Other Violations), Charge_17 (Liquor Laws), Charge_20 (Disorderly Conduct), Charge_4 (Aggravated Assault), and Charge_23 (Moving Traffic Violations). \n",
    "\n",
    "The only 2 original variables that show up in the top weights are related to `Charge Group Code` and `Area ID`. Surprisingly, we don't see any variables for gender, descent or age.\n",
    "\n",
    "Since all explanatory variables are continuous, we have only interpreted in detail 2 of the most important features (a negative and positive weight coefficient). All other weights would follow the same interpretation pattern.\n",
    "* The odds ratio of an incident being a felony when the charge group code is 18 (Drunkeness) relative to when it's not 18 is 0.03867. The odds of an incident being a Felony when the charge group code is 18 is 96.13% less than the odds when it isn't 18. Looking at the data, most of the incidents with charge group code of 18 are Misdemeanors.\n",
    "* The odds ratio of an incident being a felony when the charge group code is 4 (Aggravated Assault) relative to when it's not 4 is 0.70928. The odds of an incident being a Felony when the charge group code is 4 is 2.3 times higher than the odds when it isn't 4. Looking at the data, most of the incidents with charge group code of 4 are Felonies.\n",
    "\n",
    "Liquor related offenses were 70% misdemeanors and 30% infractions, with almost no felonies. Drunkeness related offenses were curiously seperate from liquor related ones, and consisted of 95% misdemeanors, 5% infractions, and no felonies. All of these charges correspond strongly to one or more arrest types, so it makes sense that these features are useful.\n",
    "\n",
    "This does bring up possible overlap issues between certain charge types and arrest types. Some charge groups are almost completely uniform, such as charge 21, gambling, which is 99.5% misdemeanors. However, such charge groups are also very small, making up only about .2% of the arrest data. While the uniformity of arrest types is not as absolute for the largest categories, it does lean strongly in certain directions. It's not quite a one to one/directly correlated variable to target classification variable, but it might be too close to be useful.  "
   ]
  },
  {
   "cell_type": "markdown",
   "metadata": {},
   "source": [
    "<a id = 'Section_6'></a>"
   ]
  },
  {
   "cell_type": "markdown",
   "metadata": {},
   "source": [
    "## 6. Interpret Support Vectors\n",
    "\n",
    "*(10 points)*\n",
    "\n",
    "*Look at the chosen support vectors for the classification task. Do these provide any insight into the data? Explain. If you used stochastic gradient descent (and therefore did not explicitly solve for support vectors), try subsampling your data to train the SVC model— then analyze the support vectors from the subsampled dataset.*"
   ]
  },
  {
   "cell_type": "markdown",
   "metadata": {},
   "source": [
    "To look at the support vectors for the winning RBF model, we need to first do some data prep by creating a fresh copy of the dataset and adding back in our arrest type code (the predicted variable).  This will allow us to perform some \"before\" and \"after\" comparisons on the support vectors and their base data."
   ]
  },
  {
   "cell_type": "code",
   "execution_count": null,
   "metadata": {},
   "outputs": [],
   "source": [
    "# Now let's do some different analysis with the SVM and look at the instances that were chosen as support vectors\n",
    "# make a dataframe of the training data\n",
    "df_tested_on = df_svm1.iloc[train_indices].copy() # saved from above, the indices chosen for training\n",
    "# now get the support vectors from the trained model\n",
    "df_support = df_tested_on.iloc[svm_clf.support_,:].copy()\n",
    "\n",
    "df_support['Arrest Type Code'] = y[svm_clf.support_] # add back in the 'Arrest Type Code' Column to the pandas dataframe\n",
    "df_svm1['Arrest Type Code'] = y # also add it back in for the original data"
   ]
  },
  {
   "cell_type": "markdown",
   "metadata": {},
   "source": [
    "With our model and prepared data in hand, we can now compare the original data with the support vectors that were chosen. We do this by plotting all of the plottable features in the dataset and excluding a few, like the predicted feature, age range, and charge codes that do not contribute anything to the model or our understanding."
   ]
  },
  {
   "cell_type": "code",
   "execution_count": null,
   "metadata": {},
   "outputs": [],
   "source": [
    "from pandas.plotting import boxplot\n",
    "\n",
    "# Group the original data and the support vectors\n",
    "df_grouped_support = df_support.groupby(['Arrest Type Code'])\n",
    "df_grouped = df_svm.groupby(['Arrest Type Code'])\n",
    "\n",
    "# Plot KDE of Different variables\n",
    "vars_to_plot = df_support.columns.tolist()\n",
    "vars_to_plot.pop()  # Drop last feature, arrest type code, it would make no sense to plot\n",
    "vars_to_plot.pop(0) # Drop first feature, age_range, which makes no sense in this plot\n",
    "vars_to_plot = list(filter(lambda item: ('Charge_' not in item) &  \n",
    "                                        ('Hour_5' not in item), vars_to_plot))\n",
    "for v in vars_to_plot:\n",
    "    try:\n",
    "        plt.figure(figsize=(10,4))\n",
    "        # plot support vector stats\n",
    "        plt.subplot(1,2,1)\n",
    "        ax = df_grouped_support[v].plot.kde() \n",
    "        plt.legend(['Felony','Misdemeanor','Infraction','Other'])\n",
    "        plt.title(v+' (Instances chosen as Support Vectors)')\n",
    "\n",
    "        # plot original distributions\n",
    "        plt.subplot(1,2,2)\n",
    "        ax = df_grouped[v].plot.kde() \n",
    "        plt.legend(['Felony','Misdemeanor','Infraction','Other'])\n",
    "        plt.title(v+' (Original)')\n",
    "    except:\n",
    "        continue  # If a feature isn't plottable, just ignore it and move on"
   ]
  },
  {
   "cell_type": "markdown",
   "metadata": {},
   "source": [
    "The support vectors show a generally reduced density and a flattening of the curve for each type of arrest code. Please note that the plot scales vary slightly; this can give the impression that some densities are greater when that is usually not the case.\n",
    "\n",
    "Another interesting thing to note is that the separation between the distributions in the support vectors is not as great as between the orignal data. This is because support vectors tend to be along the boundaries between clusters, and they can also be affected by outliers.\n",
    "\n",
    "The support vectors revealed that certain charge codes were highly predictive in determing what the arrest code would be.  This is what you might expect given that if someone is arrested for, say, murder, the resulting classification would, of course, be a felony.  Other features did not provide nearly as much insight, at least as far as the support vectors are concerned.  These include such things as the age, area, and various time-related features, which is a somewhat surprising result.\n",
    "\n",
    "Support vector and gradient descent resulted in very similar accuracy, which was also a surprise.  We thought that support vectors would beat gradient descent easily, but this was not the case here.  It may be true in other instances, however, so it would be best to always check both types as well as looking at the various types of SVM kernels to identify the most appropriate model to use.\n",
    "\n",
    "Similar to in the logistic regression model, there were several variables that we thought would be of more importance such as descent, gender and age. Instead we found that `Charge Group Code` and `Area ID` variables have the highest importance."
   ]
  }
 ],
 "metadata": {
  "kernelspec": {
   "display_name": "Python 3",
   "language": "python",
   "name": "python3"
  },
  "language_info": {
   "codemirror_mode": {
    "name": "ipython",
    "version": 3
   },
   "file_extension": ".py",
   "mimetype": "text/x-python",
   "name": "python",
   "nbconvert_exporter": "python",
   "pygments_lexer": "ipython3",
   "version": "3.7.4"
  }
 },
 "nbformat": 4,
 "nbformat_minor": 2
}
