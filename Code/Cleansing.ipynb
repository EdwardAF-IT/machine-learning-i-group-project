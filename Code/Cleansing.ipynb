{
 "cells": [
  {
   "cell_type": "markdown",
   "metadata": {},
   "source": [
    "***\n",
    "# Exploratory Data Analysis\n",
    "MSDS 7331-403, Lab 1  \n",
    "*Jenna Ford, Edward Fry, Christian Nava, and Jonathan Tan* \n",
    "***"
   ]
  },
  {
   "cell_type": "markdown",
   "metadata": {},
   "source": [
    "## Python Preparation and Dataset Loading"
   ]
  },
  {
   "cell_type": "code",
   "execution_count": 1,
   "metadata": {},
   "outputs": [],
   "source": [
    "# Data manipulation\n",
    "import numpy as np\n",
    "import pandas as pd\n",
    "\n",
    "# Plotting\n",
    "import seaborn as sns\n",
    "import matplotlib\n",
    "import matplotlib.pyplot as plt\n",
    "from plotly.offline import iplot_mpl\n",
    "\n",
    "# Preprocessing for dealing with categorical variables\n",
    "import sklearn\n",
    "from sklearn.preprocessing import LabelEncoder\n",
    "from sklearn.preprocessing import OneHotEncoder\n",
    "\n",
    "# Geospacial plotting\n",
    "import geopandas as gpd\n",
    "import json\n",
    "from bokeh.io import curdoc, output_notebook, show, output_file\n",
    "from bokeh.plotting import figure\n",
    "from bokeh.models import GeoJSONDataSource, LinearColorMapper, ColorBar, Slider, HoverTool\n",
    "from bokeh.palettes import brewer\n",
    "from bokeh.layouts import widgetbox, row, column\n",
    "\n",
    "# File system management\n",
    "import os.path\n",
    "\n",
    "# Supress Warnings\n",
    "import warnings\n",
    "warnings.filterwarnings('ignore')"
   ]
  },
  {
   "cell_type": "code",
   "execution_count": 2,
   "metadata": {},
   "outputs": [
    {
     "data": {
      "text/html": [
       "<style>\n",
       "  table {margin-left: 0 !important;}\n",
       "</style>\n"
      ],
      "text/plain": [
       "<IPython.core.display.HTML object>"
      ]
     },
     "metadata": {},
     "output_type": "display_data"
    }
   ],
   "source": [
    "%%html\n",
    "<style>\n",
    "  table {margin-left: 0 !important;}\n",
    "</style>"
   ]
  },
  {
   "cell_type": "code",
   "execution_count": 3,
   "metadata": {},
   "outputs": [],
   "source": [
    "# Constants\n",
    "DATA_SOURCE = '../Data/Arrest_Data_from_2010_to_Present.csv'\n",
    "\n",
    "# Options\n",
    "pd.set_option('float_format', '{:.2f}'.format)  # Reign in the scientific notation for reasonable values\n",
    "\n",
    "# Load data for analysis; only read if needed because the import can take a long time\n",
    "try:\n",
    "    if len(df.index) < 1:\n",
    "        df_raw = pd.read_csv(DATA_SOURCE) # If we get here, the dataframe was empty\n",
    "except:   \n",
    "    df_raw = pd.read_csv(DATA_SOURCE) # If we get here, the dataframe did not exist"
   ]
  },
  {
   "cell_type": "code",
   "execution_count": 5,
   "metadata": {},
   "outputs": [
    {
     "name": "stdout",
     "output_type": "stream",
     "text": [
      "The data set has 1,324,973 rows and 17 columns\n"
     ]
    }
   ],
   "source": [
    "# make copy of dataset\n",
    "df = df_raw\n",
    "print(\"The data set has {:,} rows and {:,} columns\".format(*df.shape))"
   ]
  },
  {
   "cell_type": "markdown",
   "metadata": {},
   "source": [
    "## Business Understanding\n",
    "*(10 points)*\n",
    "\n",
    "*Describe the purpose of the data set you selected (i.e., why was this data collected in the first place?). Describe how you would define and measure the outcomes from the dataset. That is, why is this data important and how do you know if you have mined useful knowledge from the dataset? How would you measure the effectiveness of a good prediction algorithm? Be specific.*\n",
    "\n",
    "Our group has chosen to use a dataset comprising of Los Angeles arrest incidents dating back to 2010. We obtained the data from the [City of Los Angeles open data](https://data.lacity.org/A-Safe-City/Arrest-Data-from-2010-to-Present/yru6-6re4). This datset contains information about the date, time and location of the incident, demographic data of the person arrested, and information about the type of incident.\n",
    "\n",
    "While the purpose of the dataset was not specified in the information available to us, we have chosen to classify the type of arrest (Felony, Misdemeanor, etc). We feel that being able to classify arrest type could help in prioritizing dispatch calls, especially when there are more calls than officers available to respond. We assume that arrest type is an indicator of the severity of the incident. It is also worth noting that most of the data available for the classification would be available to the dispatcher. For example, someone placing a call to 911 would most likely have a basic description of the offender such as gender, approximate age and ethnicity. The caller would also know the location of the incident. \n",
    "\n",
    "We will measure effectiveness of our classification model by looking at accuracy. Arrest type has 4 distinct values, indicating a 25% chance of picking the correct arrest type at random. A successful model ideally would exceed the ability of a dispatcher to correctly identify the arrest type. Since we do not have data available for this, we will use 25% as the cut-off for identifying if the model is successful."
   ]
  },
  {
   "cell_type": "markdown",
   "metadata": {},
   "source": [
    "## Data Understanding\n",
    "\n",
    "### Data Meaning Type\n",
    "*(10 points)*  \n",
    "*Describe the meaning and type of data (scale, values, etc.) for each\n",
    "attribute in the data file.*\n",
    "\n",
    "\n",
    "The arrest dataset consists of 17 attributes. Attribute descriptions are provided by the [City of Los Angeles open data](https://data.lacity.org/A-Safe-City/Arrest-Data-from-2010-to-Present/yru6-6re4) and [Kaggle](https://www.kaggle.com/cityofLA/los-angeles-crime-arrest-data). Descriptions are displayed in Table 1 below:\n",
    "\n",
    "**Table 1: Arrest Dataset - Attribute Descriptions**\n",
    "\n",
    "| Attribute | Description |\n",
    "| :--- | :--- |\n",
    "| **Report ID** | Unique ID for the arrest |\n",
    "| **Arrest Date** | Date in MM/DD/YYYY format |\n",
    "| **Time** | In 24-hour military time |\n",
    "| **Area ID** | The LAPD has 21 Community Police Stations referred to as Geographic Areas within the department. These Geographic Areas are sequentially numbered from 1-21. (Also called Precincts). |\n",
    "| **Area Name** | The 21 Geographic Areas or Patrol Divisions are also given a name designation that references a landmark or the surrounding community that it is responsible for. For example 77th Street Division is located at the intersection of South Broadway and 77th Street, serving neighborhoods in South Los Angeles. |\n",
    "| **Reporting District** | A four-digit code that represents a sub-area within a Geographic Area. All arrest records reference the \"RD\" that it occurred in for statistical comparisons. |\n",
    "| **Age** | Two character numeric.|\n",
    "| **Sex Code** | F - Female; M - Male|\n",
    "| **Descent Code** | Descent Code: A - Other Asian; B - Black; C - Chinese; D - Cambodian; F - Filipino; G - Guamanian; H - Hispanic/Latin/Mexican; I - American Indian/Alaskan Native; J - Japanese; K - Korean; L - Laotian; O - Other; P - Pacific Islander S - Samoan; U - Hawaiian; V - Vietnamese; W - White; X - Unknown; Z - Asian Indian |\n",
    "| **Charge Group Code** | Category of arrest charge. |\n",
    "| **Charge Group Description** | Defines the Charge Group Code provided. |\n",
    "| **Arrest Type Code** | A code to indicate the type of charge the individual was arrested for. D - Dependent; F - Felony; I - Infraction; M - Misdemeanor; O - Other |\n",
    "| **Charge** | The charge the individual was arrested for. |\n",
    "| **Charge Description** | Defines the Charge provided. |\n",
    "| **Address** | Street address of crime incident rounded to the nearest hundred block to maintain anonymity. |\n",
    "| **Cross Street** | Cross Street of rounded Address. |\n",
    "| **Location** | The location where the crime incident occurred. Actual address is omitted for confidentiality. XY coordinates reflect the nearest 100 block. |\n",
    "\n"
   ]
  },
  {
   "cell_type": "markdown",
   "metadata": {},
   "source": [
    "As part of our analysis we also use geospatial files for reporting districts. These files are provided by [LA City GeoHub](http://geohub.lacity.org/datasets/4398360b1a0242b78904f46b3786ae73_0). Several fields are available in these files, in addition to geometry. We join the datasets together using Reporting District as the key.\n",
    "\n",
    "**Table 2: Geospatial Datasets - Attribute Descriptions**\n",
    "\n",
    "| Attribute | Description |\n",
    "| :--- | :--- |\n",
    "| **BUREAU** | LAPD Bureau (collection of Precincts). |\n",
    "| **PREC** | 2-digit Precinct code (collection of Reporting Districts). |\n",
    "| **REPDIST** | 4-digit Reporting Ristrict code. |"
   ]
  },
  {
   "cell_type": "markdown",
   "metadata": {},
   "source": [
    "### Data Quality\n",
    "*(15 points)*  \n",
    "*Verify data quality: Explain any missing values, duplicate data, and outliers. Are those mistakes? How do you deal with these problems? Be specific.*\n",
    "\n",
    "Quality of the data is of concern for the arrest incident data because this data is transcribed from arrest reports. The source notes that there there are also fields with missing values. \n",
    "\n",
    "The table below quickly highlights a formatting issue with `Time`, missing data issues with `Charge Group Description`, `Charge Description` and `Cross Street`, and an issue with `Age` (value of 2 seen in first 5 rows). A detailed analysis of duplicate data, missing data and outliers follows. We also note how we handle issues that we find.\n"
   ]
  },
  {
   "cell_type": "code",
   "execution_count": 6,
   "metadata": {
    "scrolled": true
   },
   "outputs": [
    {
     "data": {
      "text/html": [
       "<div>\n",
       "<style scoped>\n",
       "    .dataframe tbody tr th:only-of-type {\n",
       "        vertical-align: middle;\n",
       "    }\n",
       "\n",
       "    .dataframe tbody tr th {\n",
       "        vertical-align: top;\n",
       "    }\n",
       "\n",
       "    .dataframe thead th {\n",
       "        text-align: right;\n",
       "    }\n",
       "</style>\n",
       "<table border=\"1\" class=\"dataframe\">\n",
       "  <thead>\n",
       "    <tr style=\"text-align: right;\">\n",
       "      <th></th>\n",
       "      <th>Report ID</th>\n",
       "      <th>Arrest Date</th>\n",
       "      <th>Time</th>\n",
       "      <th>Area ID</th>\n",
       "      <th>Area Name</th>\n",
       "      <th>Reporting District</th>\n",
       "      <th>Age</th>\n",
       "      <th>Sex Code</th>\n",
       "      <th>Descent Code</th>\n",
       "      <th>Charge Group Code</th>\n",
       "      <th>Charge Group Description</th>\n",
       "      <th>Arrest Type Code</th>\n",
       "      <th>Charge</th>\n",
       "      <th>Charge Description</th>\n",
       "      <th>Address</th>\n",
       "      <th>Cross Street</th>\n",
       "      <th>Location</th>\n",
       "    </tr>\n",
       "  </thead>\n",
       "  <tbody>\n",
       "    <tr>\n",
       "      <th>0</th>\n",
       "      <td>191811472</td>\n",
       "      <td>05/03/2019</td>\n",
       "      <td>1700.00</td>\n",
       "      <td>18</td>\n",
       "      <td>Southeast</td>\n",
       "      <td>1802</td>\n",
       "      <td>23</td>\n",
       "      <td>F</td>\n",
       "      <td>B</td>\n",
       "      <td>nan</td>\n",
       "      <td>NaN</td>\n",
       "      <td>M</td>\n",
       "      <td>653.22 PC</td>\n",
       "      <td>NaN</td>\n",
       "      <td>91ST</td>\n",
       "      <td>FIGUEROA</td>\n",
       "      <td>(33.9543, -118.2827)</td>\n",
       "    </tr>\n",
       "    <tr>\n",
       "      <th>1</th>\n",
       "      <td>5614161</td>\n",
       "      <td>04/29/2019</td>\n",
       "      <td>1040.00</td>\n",
       "      <td>8</td>\n",
       "      <td>West LA</td>\n",
       "      <td>842</td>\n",
       "      <td>41</td>\n",
       "      <td>M</td>\n",
       "      <td>H</td>\n",
       "      <td>3.00</td>\n",
       "      <td>Robbery</td>\n",
       "      <td>F</td>\n",
       "      <td>211PC</td>\n",
       "      <td>ROBBERY</td>\n",
       "      <td>11600    WILSHIRE                     BL</td>\n",
       "      <td>NaN</td>\n",
       "      <td>(34.0508, -118.4592)</td>\n",
       "    </tr>\n",
       "    <tr>\n",
       "      <th>2</th>\n",
       "      <td>5806609</td>\n",
       "      <td>11/23/2019</td>\n",
       "      <td>1830.00</td>\n",
       "      <td>4</td>\n",
       "      <td>Hollenbeck</td>\n",
       "      <td>457</td>\n",
       "      <td>23</td>\n",
       "      <td>F</td>\n",
       "      <td>H</td>\n",
       "      <td>3.00</td>\n",
       "      <td>Robbery</td>\n",
       "      <td>F</td>\n",
       "      <td>211PC</td>\n",
       "      <td>ROBBERY</td>\n",
       "      <td>FICKETT</td>\n",
       "      <td>CINCINNATI</td>\n",
       "      <td>(34.0477, -118.2047)</td>\n",
       "    </tr>\n",
       "    <tr>\n",
       "      <th>3</th>\n",
       "      <td>5615197</td>\n",
       "      <td>04/30/2019</td>\n",
       "      <td>615.00</td>\n",
       "      <td>6</td>\n",
       "      <td>Hollywood</td>\n",
       "      <td>663</td>\n",
       "      <td>27</td>\n",
       "      <td>M</td>\n",
       "      <td>O</td>\n",
       "      <td>5.00</td>\n",
       "      <td>Burglary</td>\n",
       "      <td>F</td>\n",
       "      <td>459PC</td>\n",
       "      <td>BURGLARY</td>\n",
       "      <td>LA BREA</td>\n",
       "      <td>LEXINGTON</td>\n",
       "      <td>(34.0907, -118.3384)</td>\n",
       "    </tr>\n",
       "    <tr>\n",
       "      <th>4</th>\n",
       "      <td>5615701</td>\n",
       "      <td>04/30/2019</td>\n",
       "      <td>1100.00</td>\n",
       "      <td>9</td>\n",
       "      <td>Van Nuys</td>\n",
       "      <td>901</td>\n",
       "      <td>2</td>\n",
       "      <td>F</td>\n",
       "      <td>H</td>\n",
       "      <td>nan</td>\n",
       "      <td>NaN</td>\n",
       "      <td>D</td>\n",
       "      <td>300(B)WIC</td>\n",
       "      <td>NaN</td>\n",
       "      <td>RAYMER</td>\n",
       "      <td>SEPULVEDA                    BL</td>\n",
       "      <td>(34.2149, -118.4674)</td>\n",
       "    </tr>\n",
       "  </tbody>\n",
       "</table>\n",
       "</div>"
      ],
      "text/plain": [
       "   Report ID Arrest Date    Time  Area ID   Area Name  Reporting District  \\\n",
       "0  191811472  05/03/2019 1700.00       18   Southeast                1802   \n",
       "1    5614161  04/29/2019 1040.00        8     West LA                 842   \n",
       "2    5806609  11/23/2019 1830.00        4  Hollenbeck                 457   \n",
       "3    5615197  04/30/2019  615.00        6   Hollywood                 663   \n",
       "4    5615701  04/30/2019 1100.00        9    Van Nuys                 901   \n",
       "\n",
       "   Age Sex Code Descent Code  Charge Group Code Charge Group Description  \\\n",
       "0   23        F            B                nan                      NaN   \n",
       "1   41        M            H               3.00                  Robbery   \n",
       "2   23        F            H               3.00                  Robbery   \n",
       "3   27        M            O               5.00                 Burglary   \n",
       "4    2        F            H                nan                      NaN   \n",
       "\n",
       "  Arrest Type Code     Charge Charge Description  \\\n",
       "0                M  653.22 PC                NaN   \n",
       "1                F      211PC            ROBBERY   \n",
       "2                F      211PC            ROBBERY   \n",
       "3                F      459PC           BURGLARY   \n",
       "4                D  300(B)WIC                NaN   \n",
       "\n",
       "                                    Address                     Cross Street  \\\n",
       "0                                      91ST                         FIGUEROA   \n",
       "1  11600    WILSHIRE                     BL                              NaN   \n",
       "2                                   FICKETT                       CINCINNATI   \n",
       "3                                   LA BREA                        LEXINGTON   \n",
       "4                                    RAYMER  SEPULVEDA                    BL   \n",
       "\n",
       "               Location  \n",
       "0  (33.9543, -118.2827)  \n",
       "1  (34.0508, -118.4592)  \n",
       "2  (34.0477, -118.2047)  \n",
       "3  (34.0907, -118.3384)  \n",
       "4  (34.2149, -118.4674)  "
      ]
     },
     "execution_count": 6,
     "metadata": {},
     "output_type": "execute_result"
    }
   ],
   "source": [
    "df.head()"
   ]
  },
  {
   "cell_type": "markdown",
   "metadata": {},
   "source": [
    "The information provided below shows the data type for each attribute, in addition to indicating if there are missing values. `Time` needs to be stored as a time value, instead of float64. `Area ID` and `Reporting District`, while comprised of numerical digits, are categorical variables and need to be stored as objects."
   ]
  },
  {
   "cell_type": "code",
   "execution_count": 7,
   "metadata": {},
   "outputs": [
    {
     "name": "stdout",
     "output_type": "stream",
     "text": [
      "<class 'pandas.core.frame.DataFrame'>\n",
      "RangeIndex: 1324973 entries, 0 to 1324972\n",
      "Data columns (total 17 columns):\n",
      "Report ID                   1324973 non-null int64\n",
      "Arrest Date                 1324973 non-null object\n",
      "Time                        1324777 non-null float64\n",
      "Area ID                     1324973 non-null int64\n",
      "Area Name                   1324973 non-null object\n",
      "Reporting District          1324973 non-null int64\n",
      "Age                         1324973 non-null int64\n",
      "Sex Code                    1324973 non-null object\n",
      "Descent Code                1324973 non-null object\n",
      "Charge Group Code           1235472 non-null float64\n",
      "Charge Group Description    1234943 non-null object\n",
      "Arrest Type Code            1324973 non-null object\n",
      "Charge                      1324973 non-null object\n",
      "Charge Description          1235581 non-null object\n",
      "Address                     1324973 non-null object\n",
      "Cross Street                754763 non-null object\n",
      "Location                    1324973 non-null object\n",
      "dtypes: float64(2), int64(4), object(11)\n",
      "memory usage: 171.8+ MB\n"
     ]
    }
   ],
   "source": [
    "df.info()"
   ]
  },
  {
   "cell_type": "markdown",
   "metadata": {},
   "source": [
    "#### Duplicate Data\n",
    "\n",
    "We want to make sure we have unique observations, i.e., no two records have the same values for all attributes. This will reduce the risk of biased estimates. In this dataset a duplicate record would lead to further inspection as it is unlikely two arrests were made in the exact same location, on the same date and time, for the same charge, for two individuals of the same age, gender, and ethnic descent. A check for duplicate records verifies our dataset contains unique obervations.  "
   ]
  },
  {
   "cell_type": "code",
   "execution_count": 8,
   "metadata": {},
   "outputs": [
    {
     "data": {
      "text/plain": [
       "0"
      ]
     },
     "execution_count": 8,
     "metadata": {},
     "output_type": "execute_result"
    }
   ],
   "source": [
    "# check for duplicate records\n",
    "df.duplicated().sum()"
   ]
  },
  {
   "cell_type": "markdown",
   "metadata": {},
   "source": [
    "#### Missing Values and Data Cleanup\n",
    "\n",
    "The table below shows how many observations have missing values and the percentage of values that are missing, by column."
   ]
  },
  {
   "cell_type": "code",
   "execution_count": 9,
   "metadata": {},
   "outputs": [],
   "source": [
    "def missing_data(data):\n",
    "    total = data.isnull().sum().sort_values(ascending = False)\n",
    "    percent = (data.isnull().sum()/data.isnull().count()*100).sort_values(ascending = False)\n",
    "    return pd.concat([total, percent], axis = 1, keys = ['Total', 'Percent'])"
   ]
  },
  {
   "cell_type": "code",
   "execution_count": 10,
   "metadata": {},
   "outputs": [
    {
     "data": {
      "text/html": [
       "<div>\n",
       "<style scoped>\n",
       "    .dataframe tbody tr th:only-of-type {\n",
       "        vertical-align: middle;\n",
       "    }\n",
       "\n",
       "    .dataframe tbody tr th {\n",
       "        vertical-align: top;\n",
       "    }\n",
       "\n",
       "    .dataframe thead th {\n",
       "        text-align: right;\n",
       "    }\n",
       "</style>\n",
       "<table border=\"1\" class=\"dataframe\">\n",
       "  <thead>\n",
       "    <tr style=\"text-align: right;\">\n",
       "      <th></th>\n",
       "      <th>Total</th>\n",
       "      <th>Percent</th>\n",
       "    </tr>\n",
       "  </thead>\n",
       "  <tbody>\n",
       "    <tr>\n",
       "      <th>Cross Street</th>\n",
       "      <td>570210</td>\n",
       "      <td>43.04</td>\n",
       "    </tr>\n",
       "    <tr>\n",
       "      <th>Charge Group Description</th>\n",
       "      <td>90030</td>\n",
       "      <td>6.79</td>\n",
       "    </tr>\n",
       "    <tr>\n",
       "      <th>Charge Group Code</th>\n",
       "      <td>89501</td>\n",
       "      <td>6.75</td>\n",
       "    </tr>\n",
       "    <tr>\n",
       "      <th>Charge Description</th>\n",
       "      <td>89392</td>\n",
       "      <td>6.75</td>\n",
       "    </tr>\n",
       "    <tr>\n",
       "      <th>Time</th>\n",
       "      <td>196</td>\n",
       "      <td>0.01</td>\n",
       "    </tr>\n",
       "    <tr>\n",
       "      <th>Location</th>\n",
       "      <td>0</td>\n",
       "      <td>0.00</td>\n",
       "    </tr>\n",
       "    <tr>\n",
       "      <th>Reporting District</th>\n",
       "      <td>0</td>\n",
       "      <td>0.00</td>\n",
       "    </tr>\n",
       "    <tr>\n",
       "      <th>Arrest Date</th>\n",
       "      <td>0</td>\n",
       "      <td>0.00</td>\n",
       "    </tr>\n",
       "    <tr>\n",
       "      <th>Area ID</th>\n",
       "      <td>0</td>\n",
       "      <td>0.00</td>\n",
       "    </tr>\n",
       "    <tr>\n",
       "      <th>Area Name</th>\n",
       "      <td>0</td>\n",
       "      <td>0.00</td>\n",
       "    </tr>\n",
       "    <tr>\n",
       "      <th>Descent Code</th>\n",
       "      <td>0</td>\n",
       "      <td>0.00</td>\n",
       "    </tr>\n",
       "    <tr>\n",
       "      <th>Age</th>\n",
       "      <td>0</td>\n",
       "      <td>0.00</td>\n",
       "    </tr>\n",
       "    <tr>\n",
       "      <th>Sex Code</th>\n",
       "      <td>0</td>\n",
       "      <td>0.00</td>\n",
       "    </tr>\n",
       "    <tr>\n",
       "      <th>Arrest Type Code</th>\n",
       "      <td>0</td>\n",
       "      <td>0.00</td>\n",
       "    </tr>\n",
       "    <tr>\n",
       "      <th>Charge</th>\n",
       "      <td>0</td>\n",
       "      <td>0.00</td>\n",
       "    </tr>\n",
       "    <tr>\n",
       "      <th>Address</th>\n",
       "      <td>0</td>\n",
       "      <td>0.00</td>\n",
       "    </tr>\n",
       "    <tr>\n",
       "      <th>Report ID</th>\n",
       "      <td>0</td>\n",
       "      <td>0.00</td>\n",
       "    </tr>\n",
       "  </tbody>\n",
       "</table>\n",
       "</div>"
      ],
      "text/plain": [
       "                           Total  Percent\n",
       "Cross Street              570210    43.04\n",
       "Charge Group Description   90030     6.79\n",
       "Charge Group Code          89501     6.75\n",
       "Charge Description         89392     6.75\n",
       "Time                         196     0.01\n",
       "Location                       0     0.00\n",
       "Reporting District             0     0.00\n",
       "Arrest Date                    0     0.00\n",
       "Area ID                        0     0.00\n",
       "Area Name                      0     0.00\n",
       "Descent Code                   0     0.00\n",
       "Age                            0     0.00\n",
       "Sex Code                       0     0.00\n",
       "Arrest Type Code               0     0.00\n",
       "Charge                         0     0.00\n",
       "Address                        0     0.00\n",
       "Report ID                      0     0.00"
      ]
     },
     "execution_count": 10,
     "metadata": {},
     "output_type": "execute_result"
    }
   ],
   "source": [
    "missing_data(df)"
   ]
  },
  {
   "cell_type": "markdown",
   "metadata": {},
   "source": [
    "##### Missing Values and Data Cleanup: Cross Street\n",
    "\n",
    "43% of observations have missing data for the `Cross Street` attribute. Due to the other location based data available (`Area ID` and `Reporting District`) and the percentage of missing values for `Cross Street`, we have decided to not use `Cross Street` and `Address` in our model."
   ]
  },
  {
   "cell_type": "markdown",
   "metadata": {},
   "source": [
    "##### Missing Values and Data Cleanup: Time\n",
    "\n",
    "196 observations are missing `Time`. The statistics provided below highlight another issue: the presence of 24:00. 24:00 is an issue because the 24 clock goes to 23:59 and then starts over at 0:00. The source notes that 0:00 may be filled in for missing data, so any records with 0:00 for `Time` are suspect. "
   ]
  },
  {
   "cell_type": "code",
   "execution_count": 11,
   "metadata": {},
   "outputs": [
    {
     "data": {
      "text/plain": [
       "count    1324777.0\n",
       "mean        1386.9\n",
       "std          662.9\n",
       "min            0.0\n",
       "25%          945.0\n",
       "50%         1510.0\n",
       "75%         1930.0\n",
       "max         2400.0\n",
       "Name: Time, dtype: object"
      ]
     },
     "execution_count": 11,
     "metadata": {},
     "output_type": "execute_result"
    }
   ],
   "source": [
    "df.Time.describe().apply(lambda x: '%.1f' % x) # suppresses scientific notation and formats to 1 decimal place"
   ]
  },
  {
   "cell_type": "markdown",
   "metadata": {},
   "source": [
    "Upon further inspection, we found there were three observations where the time is 0.0 and 102 where the time is 24.0."
   ]
  },
  {
   "cell_type": "code",
   "execution_count": 12,
   "metadata": {},
   "outputs": [
    {
     "data": {
      "text/plain": [
       "(3, 17)"
      ]
     },
     "execution_count": 12,
     "metadata": {},
     "output_type": "execute_result"
    }
   ],
   "source": [
    "# select rows where Time = 0\n",
    "df.loc[df['Time']== 0].shape"
   ]
  },
  {
   "cell_type": "code",
   "execution_count": 13,
   "metadata": {},
   "outputs": [
    {
     "data": {
      "text/plain": [
       "(102, 17)"
      ]
     },
     "execution_count": 13,
     "metadata": {},
     "output_type": "execute_result"
    }
   ],
   "source": [
    "# select rows where Time = 24\n",
    "df.loc[df['Time']== 24].shape"
   ]
  },
  {
   "cell_type": "markdown",
   "metadata": {},
   "source": [
    "We will treat 0.0 and missing values as missing. Due to the large number of records in the dataset we have chosen to filter these out of the data instead of inputing them to another value. We input 24:00 to 0:00 due to the reasonable assumption that these values are equal."
   ]
  },
  {
   "cell_type": "code",
   "execution_count": 14,
   "metadata": {},
   "outputs": [
    {
     "name": "stdout",
     "output_type": "stream",
     "text": [
      "The data set has 1,324,774 rows and 17 columns\n"
     ]
    }
   ],
   "source": [
    "#filter out 0 and missing\n",
    "df = df[df['Time'] != 0]\n",
    "df['Time'] = df['Time'].astype(str) \n",
    "df = df[df['Time'] != 'nan']\n",
    "\n",
    "# Convert float to string. Get rid of decimals. Replace missing or invalid values with '0000'.\n",
    "df['Time'] = df['Time'].astype(str).str.split(\".\", expand = True)[0].replace(to_replace = ['2400','nan'], value = '0000') \n",
    "\n",
    "# Fill time column with leading zeros to have 4 characters total\n",
    "df['Time'] = df['Time'].apply(lambda x: '{0:0>4}'.format(x))\n",
    "\n",
    "# Add colon to Time values by converting attribute to a datetime variable \n",
    "df['Time'] = pd.to_datetime(df['Time'], format = '%H%M').dt.time\n",
    "\n",
    "#Get hour\n",
    "df['Hour'] = pd.to_datetime(df['Time'], format='%H:%M:%S').dt.hour\n",
    "\n",
    "\n",
    "print(\"The data set has {:,} rows and {:,} columns after filtering on Time.\".format(*df.shape))"
   ]
  },
  {
   "cell_type": "markdown",
   "metadata": {},
   "source": [
    "#### Additional Attributes\n",
    "\n",
    "We would like to investigate whether day of the week, month and year have an impact on arrests and create individual columns for easier analysis. "
   ]
  },
  {
   "cell_type": "code",
   "execution_count": 15,
   "metadata": {},
   "outputs": [],
   "source": [
    "# Convert Arrest Date to datetime\n",
    "df['Arrest Date'] = pd.to_datetime(df['Arrest Date'])\n",
    "\n",
    "# Extract year, month, and day of week and add to dataframe as new attributes\n",
    "df['arrest_year']= df['Arrest Date'].dt.year\n",
    "df['arrest_month']= df['Arrest Date'].dt.month\n",
    "df['arrest_day_of_week'] = df['Arrest Date'].dt.weekday_name"
   ]
  },
  {
   "cell_type": "markdown",
   "metadata": {},
   "source": [
    "#### Remove Unecessary Attributes\n",
    "\n",
    "`Report ID` is a unique identifier for each arrest incident. As such, this attribute is not useful for our analysis and will be removed.\n",
    "\n",
    "For now we leave in groups of columns such as `Charge Group Description` and `Charge Group Code`. These groups of columns provide the same information and will not both be included in modeling. The description columns are useful while exploring the data."
   ]
  },
  {
   "cell_type": "code",
   "execution_count": null,
   "metadata": {},
   "outputs": [],
   "source": [
    "# remove Report ID column\n",
    "df.drop(['Report ID', 'Area ID'], axis=1, inplace=True)"
   ]
  },
  {
   "cell_type": "markdown",
   "metadata": {},
   "source": [
    "#### Correcting Data Types\n",
    "\n",
    "The data types displayed earlier still need some adjusting. `Age` needs to be an integer and `Reporting ID`, `Area ID` and `Charge Group Code` need to be categorical."
   ]
  },
  {
   "cell_type": "code",
   "execution_count": 23,
   "metadata": {},
   "outputs": [],
   "source": [
    "# Change data types\n",
    "df['Age'] = df['Age'].astype(np.int8)\n",
    "df['Reporting District'] = df['Reporting District'].astype(np.str)\n",
    "df['Area ID'] = df['Area ID'].astype(np.str)\n",
    "df['Charge Group Code'] = df['Charge Group Code'].astype(np.str)\n",
    "\n",
    "\n",
    "# Assign, clean up, and split out the classes of data\n",
    "ordinalFeatures = ['Arrest Date', 'Time', 'Age','Hour']\n",
    "categoricalFeatures = ['Area Name', 'Reporting District', 'Sex Code', 'Descent Code',\n",
    "                       'Charge Group Description', 'Arrest Type Code', 'Charge', 'Charge Description',\n",
    "                       'Address', 'Cross Street', 'Location']\n",
    "\n"
   ]
  },
  {
   "cell_type": "code",
   "execution_count": 24,
   "metadata": {},
   "outputs": [
    {
     "name": "stdout",
     "output_type": "stream",
     "text": [
      "<class 'pandas.core.frame.DataFrame'>\n",
      "Int64Index: 1324774 entries, 0 to 1324972\n",
      "Data columns (total 21 columns):\n",
      "Report ID                   1324774 non-null int64\n",
      "Arrest Date                 1324774 non-null datetime64[ns]\n",
      "Time                        1324774 non-null object\n",
      "Area ID                     1324774 non-null object\n",
      "Area Name                   1324774 non-null object\n",
      "Reporting District          1324774 non-null object\n",
      "Age                         1324774 non-null int8\n",
      "Sex Code                    1324774 non-null object\n",
      "Descent Code                1324774 non-null object\n",
      "Charge Group Code           1324774 non-null object\n",
      "Charge Group Description    1234800 non-null object\n",
      "Arrest Type Code            1324774 non-null object\n",
      "Charge                      1324774 non-null object\n",
      "Charge Description          1235438 non-null object\n",
      "Address                     1324774 non-null object\n",
      "Cross Street                754619 non-null object\n",
      "Location                    1324774 non-null object\n",
      "Hour                        1324774 non-null int64\n",
      "arrest_year                 1324774 non-null int64\n",
      "arrest_month                1324774 non-null int64\n",
      "arrest_day_of_week          1324774 non-null object\n",
      "dtypes: datetime64[ns](1), int64(4), int8(1), object(15)\n",
      "memory usage: 213.5+ MB\n"
     ]
    }
   ],
   "source": [
    "df.info()"
   ]
  },
  {
   "cell_type": "markdown",
   "metadata": {},
   "source": [
    "#### Clean Dataset\n",
    "\n",
    "The table below is the first 5 observations in the clean dataset. Note that for now we have not discussed reasonable ages found in the dataset. This will be addressed after visualizing interactions between attributes because we found interesting interactions we want to duscuss."
   ]
  },
  {
   "cell_type": "code",
   "execution_count": 18,
   "metadata": {},
   "outputs": [
    {
     "data": {
      "text/html": [
       "<div>\n",
       "<style scoped>\n",
       "    .dataframe tbody tr th:only-of-type {\n",
       "        vertical-align: middle;\n",
       "    }\n",
       "\n",
       "    .dataframe tbody tr th {\n",
       "        vertical-align: top;\n",
       "    }\n",
       "\n",
       "    .dataframe thead th {\n",
       "        text-align: right;\n",
       "    }\n",
       "</style>\n",
       "<table border=\"1\" class=\"dataframe\">\n",
       "  <thead>\n",
       "    <tr style=\"text-align: right;\">\n",
       "      <th></th>\n",
       "      <th>Report ID</th>\n",
       "      <th>Arrest Date</th>\n",
       "      <th>Time</th>\n",
       "      <th>Area ID</th>\n",
       "      <th>Area Name</th>\n",
       "      <th>Reporting District</th>\n",
       "      <th>Age</th>\n",
       "      <th>Sex Code</th>\n",
       "      <th>Descent Code</th>\n",
       "      <th>Charge Group Code</th>\n",
       "      <th>...</th>\n",
       "      <th>Arrest Type Code</th>\n",
       "      <th>Charge</th>\n",
       "      <th>Charge Description</th>\n",
       "      <th>Address</th>\n",
       "      <th>Cross Street</th>\n",
       "      <th>Location</th>\n",
       "      <th>Hour</th>\n",
       "      <th>arrest_year</th>\n",
       "      <th>arrest_month</th>\n",
       "      <th>arrest_day_of_week</th>\n",
       "    </tr>\n",
       "  </thead>\n",
       "  <tbody>\n",
       "    <tr>\n",
       "      <th>0</th>\n",
       "      <td>191811472</td>\n",
       "      <td>2019-05-03</td>\n",
       "      <td>17:00:00</td>\n",
       "      <td>18</td>\n",
       "      <td>Southeast</td>\n",
       "      <td>1802</td>\n",
       "      <td>23</td>\n",
       "      <td>F</td>\n",
       "      <td>B</td>\n",
       "      <td>nan</td>\n",
       "      <td>...</td>\n",
       "      <td>M</td>\n",
       "      <td>653.22 PC</td>\n",
       "      <td>NaN</td>\n",
       "      <td>91ST</td>\n",
       "      <td>FIGUEROA</td>\n",
       "      <td>(33.9543, -118.2827)</td>\n",
       "      <td>17</td>\n",
       "      <td>2019</td>\n",
       "      <td>5</td>\n",
       "      <td>Friday</td>\n",
       "    </tr>\n",
       "    <tr>\n",
       "      <th>1</th>\n",
       "      <td>5614161</td>\n",
       "      <td>2019-04-29</td>\n",
       "      <td>10:40:00</td>\n",
       "      <td>8</td>\n",
       "      <td>West LA</td>\n",
       "      <td>842</td>\n",
       "      <td>41</td>\n",
       "      <td>M</td>\n",
       "      <td>H</td>\n",
       "      <td>3.00</td>\n",
       "      <td>...</td>\n",
       "      <td>F</td>\n",
       "      <td>211PC</td>\n",
       "      <td>ROBBERY</td>\n",
       "      <td>11600    WILSHIRE                     BL</td>\n",
       "      <td>NaN</td>\n",
       "      <td>(34.0508, -118.4592)</td>\n",
       "      <td>10</td>\n",
       "      <td>2019</td>\n",
       "      <td>4</td>\n",
       "      <td>Monday</td>\n",
       "    </tr>\n",
       "    <tr>\n",
       "      <th>2</th>\n",
       "      <td>5806609</td>\n",
       "      <td>2019-11-23</td>\n",
       "      <td>18:30:00</td>\n",
       "      <td>4</td>\n",
       "      <td>Hollenbeck</td>\n",
       "      <td>457</td>\n",
       "      <td>23</td>\n",
       "      <td>F</td>\n",
       "      <td>H</td>\n",
       "      <td>3.00</td>\n",
       "      <td>...</td>\n",
       "      <td>F</td>\n",
       "      <td>211PC</td>\n",
       "      <td>ROBBERY</td>\n",
       "      <td>FICKETT</td>\n",
       "      <td>CINCINNATI</td>\n",
       "      <td>(34.0477, -118.2047)</td>\n",
       "      <td>18</td>\n",
       "      <td>2019</td>\n",
       "      <td>11</td>\n",
       "      <td>Saturday</td>\n",
       "    </tr>\n",
       "    <tr>\n",
       "      <th>3</th>\n",
       "      <td>5615197</td>\n",
       "      <td>2019-04-30</td>\n",
       "      <td>06:15:00</td>\n",
       "      <td>6</td>\n",
       "      <td>Hollywood</td>\n",
       "      <td>663</td>\n",
       "      <td>27</td>\n",
       "      <td>M</td>\n",
       "      <td>O</td>\n",
       "      <td>5.00</td>\n",
       "      <td>...</td>\n",
       "      <td>F</td>\n",
       "      <td>459PC</td>\n",
       "      <td>BURGLARY</td>\n",
       "      <td>LA BREA</td>\n",
       "      <td>LEXINGTON</td>\n",
       "      <td>(34.0907, -118.3384)</td>\n",
       "      <td>6</td>\n",
       "      <td>2019</td>\n",
       "      <td>4</td>\n",
       "      <td>Tuesday</td>\n",
       "    </tr>\n",
       "    <tr>\n",
       "      <th>4</th>\n",
       "      <td>5615701</td>\n",
       "      <td>2019-04-30</td>\n",
       "      <td>11:00:00</td>\n",
       "      <td>9</td>\n",
       "      <td>Van Nuys</td>\n",
       "      <td>901</td>\n",
       "      <td>2</td>\n",
       "      <td>F</td>\n",
       "      <td>H</td>\n",
       "      <td>nan</td>\n",
       "      <td>...</td>\n",
       "      <td>D</td>\n",
       "      <td>300(B)WIC</td>\n",
       "      <td>NaN</td>\n",
       "      <td>RAYMER</td>\n",
       "      <td>SEPULVEDA                    BL</td>\n",
       "      <td>(34.2149, -118.4674)</td>\n",
       "      <td>11</td>\n",
       "      <td>2019</td>\n",
       "      <td>4</td>\n",
       "      <td>Tuesday</td>\n",
       "    </tr>\n",
       "  </tbody>\n",
       "</table>\n",
       "<p>5 rows × 21 columns</p>\n",
       "</div>"
      ],
      "text/plain": [
       "   Report ID Arrest Date      Time  Area ID   Area Name Reporting District  \\\n",
       "0  191811472  2019-05-03  17:00:00       18   Southeast               1802   \n",
       "1    5614161  2019-04-29  10:40:00        8     West LA                842   \n",
       "2    5806609  2019-11-23  18:30:00        4  Hollenbeck                457   \n",
       "3    5615197  2019-04-30  06:15:00        6   Hollywood                663   \n",
       "4    5615701  2019-04-30  11:00:00        9    Van Nuys                901   \n",
       "\n",
       "   Age Sex Code Descent Code  Charge Group Code  ... Arrest Type Code  \\\n",
       "0   23        F            B                nan  ...                M   \n",
       "1   41        M            H               3.00  ...                F   \n",
       "2   23        F            H               3.00  ...                F   \n",
       "3   27        M            O               5.00  ...                F   \n",
       "4    2        F            H                nan  ...                D   \n",
       "\n",
       "      Charge Charge Description                                   Address  \\\n",
       "0  653.22 PC                NaN                                      91ST   \n",
       "1      211PC            ROBBERY  11600    WILSHIRE                     BL   \n",
       "2      211PC            ROBBERY                                   FICKETT   \n",
       "3      459PC           BURGLARY                                   LA BREA   \n",
       "4  300(B)WIC                NaN                                    RAYMER   \n",
       "\n",
       "                      Cross Street              Location Hour  arrest_year  \\\n",
       "0                         FIGUEROA  (33.9543, -118.2827)   17         2019   \n",
       "1                              NaN  (34.0508, -118.4592)   10         2019   \n",
       "2                       CINCINNATI  (34.0477, -118.2047)   18         2019   \n",
       "3                        LEXINGTON  (34.0907, -118.3384)    6         2019   \n",
       "4  SEPULVEDA                    BL  (34.2149, -118.4674)   11         2019   \n",
       "\n",
       "   arrest_month  arrest_day_of_week  \n",
       "0             5              Friday  \n",
       "1             4              Monday  \n",
       "2            11            Saturday  \n",
       "3             4             Tuesday  \n",
       "4             4             Tuesday  \n",
       "\n",
       "[5 rows x 21 columns]"
      ]
     },
     "execution_count": 18,
     "metadata": {},
     "output_type": "execute_result"
    }
   ],
   "source": [
    "df.head()"
   ]
  },
  {
   "cell_type": "markdown",
   "metadata": {},
   "source": [
    "### Simple Statistics\n",
    "*(10 points)*   \n",
    "*Give simple, appropriate statistics (range, mode, mean, median, variance,\n",
    "counts, etc.) for the most important attributes and describe what they mean or if you found something interesting. Note: You can also use data from other sources for comparison. Explain the significance of the statistics run and why they are meaningful.*  "
   ]
  },
  {
   "cell_type": "code",
   "execution_count": null,
   "metadata": {},
   "outputs": [],
   "source": [
    "df[categoricalFeatures].describe()"
   ]
  },
  {
   "cell_type": "code",
   "execution_count": null,
   "metadata": {},
   "outputs": [],
   "source": [
    "df['Age'].describe().apply(lambda x: '%.1f' % x)"
   ]
  },
  {
   "cell_type": "code",
   "execution_count": null,
   "metadata": {},
   "outputs": [],
   "source": [
    "df_grouped = df.groupby(by='Arrest Type Code')\n",
    "print (df_grouped['Arrest Type Code'].count())"
   ]
  },
  {
   "cell_type": "code",
   "execution_count": null,
   "metadata": {},
   "outputs": [],
   "source": [
    "df_grouped = df.groupby(by='Sex Code')\n",
    "print (df_grouped['Sex Code'].count())"
   ]
  },
  {
   "cell_type": "code",
   "execution_count": null,
   "metadata": {},
   "outputs": [],
   "source": [
    "df_grouped = df.groupby(by='arrest_day_of_week')\n",
    "print (df_grouped['arrest_day_of_week'].count())"
   ]
  },
  {
   "cell_type": "code",
   "execution_count": null,
   "metadata": {},
   "outputs": [],
   "source": [
    "df_grouped = df.groupby(by='Descent Code')\n",
    "print (df_grouped['Descent Code'].count())"
   ]
  },
  {
   "cell_type": "code",
   "execution_count": null,
   "metadata": {},
   "outputs": [],
   "source": [
    "df_grouped = df.groupby(by='Hour')\n",
    "print (df_grouped['Hour'].count())"
   ]
  },
  {
   "cell_type": "code",
   "execution_count": null,
   "metadata": {},
   "outputs": [],
   "source": [
    "df_grouped = df.groupby(by='arrest_month')\n",
    "print (df_grouped['arrest_month'].count())"
   ]
  },
  {
   "cell_type": "code",
   "execution_count": null,
   "metadata": {},
   "outputs": [],
   "source": [
    "df_grouped = df.groupby(by='arrest_year')\n",
    "print (df_grouped['arrest_year'].count())"
   ]
  },
  {
   "cell_type": "code",
   "execution_count": null,
   "metadata": {},
   "outputs": [],
   "source": [
    "df_grouped = df.groupby(by='Area Name')\n",
    "print (df_grouped['Area Name'].count())"
   ]
  },
  {
   "cell_type": "markdown",
   "metadata": {},
   "source": [
    "### Visualize Attributes\n",
    "*(15 points)*  \n",
    "*Visualize the most important attributes appropriately (at least 5 attributes). Important: Provide an interpretation for each chart. Explain for each attribute why the chosen visualization is appropriate.*"
   ]
  },
  {
   "cell_type": "markdown",
   "metadata": {},
   "source": [
    "#### Age\n",
    "\n",
    "We previously noted there is at least one observation with an age of zero. We will treat these as data entry errors."
   ]
  },
  {
   "cell_type": "code",
   "execution_count": null,
   "metadata": {},
   "outputs": [],
   "source": [
    "# select rows where Time = 0\n",
    "df.loc[df['Age']== 0].shape"
   ]
  },
  {
   "cell_type": "markdown",
   "metadata": {},
   "source": [
    "However, there are more ages that are of concern."
   ]
  },
  {
   "cell_type": "code",
   "execution_count": null,
   "metadata": {},
   "outputs": [],
   "source": [
    "df_grouped = df.groupby(by='Age')\n",
    "print (df_grouped['Age'].count())"
   ]
  },
  {
   "cell_type": "code",
   "execution_count": null,
   "metadata": {},
   "outputs": [],
   "source": [
    "# set plot style\n",
    "plt.style.use('fivethirtyeight')\n",
    "plt.figure(figsize = (8, 4))\n",
    "\n",
    "# distribution of age in years\n",
    "sns.distplot(df['Age'], bins = 25);\n",
    "plt.title('Age of Person Arrested'); plt.xlabel('Age in Years'); plt.ylabel('Count');"
   ]
  },
  {
   "cell_type": "markdown",
   "metadata": {},
   "source": [
    "We will treat the observations where age is less than 16 as possible data entry errors and will filter these records from the data. We have choosen to not impute the values since we have such a large dataset."
   ]
  },
  {
   "cell_type": "code",
   "execution_count": null,
   "metadata": {},
   "outputs": [],
   "source": [
    "# Drop the observations where Age is less than 16\n",
    "df.drop(df[df['Age'] < 16].index, inplace = True) "
   ]
  },
  {
   "cell_type": "markdown",
   "metadata": {},
   "source": [
    "#### Reporting District"
   ]
  },
  {
   "cell_type": "code",
   "execution_count": null,
   "metadata": {},
   "outputs": [],
   "source": [
    "gdf = gpd.read_file('C:/Users/b007224/Documents/masters_in_data_science/machine_learning/project/LAPD_Reporting_Districts.shp')\n",
    "\n",
    "#create counts to merge with polygon dataframe \n",
    "\n",
    "district_counts = df['Reporting District'].value_counts().reset_index().rename(columns={'index': 'Key'})\n",
    "district_counts.columns = ['Key', 'District Counts']\n",
    "\n",
    "male = df[df['Sex Code'] == 'M']\n",
    "male_counts = male['Reporting District'].value_counts().reset_index().rename(columns={'index': 'key'})\n",
    "male_counts.columns = ['Key','Male_Counts']\n",
    "\n",
    "female = df[df['Sex Code'] == 'F']\n",
    "female_counts = female['Reporting District'].value_counts().reset_index().rename(columns={'index': 'key'})\n",
    "female_counts.columns = ['Key','Female_Counts']\n",
    "\n",
    "year_counts = df.groupby(['Reporting District','arrest_year']).size().reset_index()\n",
    "year_counts.columns = ['Key','Year','Year_Dist_Counts']\n",
    "year_counts['Key']=year_counts['Key'].astype(int)\n",
    "\n",
    "merged1 = district_counts.merge(male_counts, left_on='Key', right_on='Key')\n",
    "merged2 = merged1.merge(female_counts,left_on='Key', right_on='Key')\n",
    "merged2['Key']=merged2['Key'].astype(int)\n",
    "\n",
    "#merge polygon dataframe with counts by reporting district\n",
    "gdf1 = gdf.merge(merged2, left_on='REPDIST', right_on='Key')\n",
    "gdf2 = gdf1.merge(year_counts, left_on='REPDIST',right_on='Key')"
   ]
  },
  {
   "cell_type": "code",
   "execution_count": null,
   "metadata": {
    "scrolled": false
   },
   "outputs": [],
   "source": [
    "%matplotlib inline\n",
    "gdf1.plot(column='District Counts', cmap='plasma', figsize=(10, 10),  legend=True)\n",
    "plt.title('Arrests by District')"
   ]
  },
  {
   "cell_type": "markdown",
   "metadata": {},
   "source": [
    "### Explore Joint Attributes\n",
    "*(15 points)*  \n",
    "*Explore relationships between attributes: Look at the attributes via scatter plots, correlation, cross-tabulation, group-wise averages, etc. as appropriate. Explain any interesting relationships.*  "
   ]
  },
  {
   "cell_type": "markdown",
   "metadata": {},
   "source": [
    "##### Age by Sex Code"
   ]
  },
  {
   "cell_type": "code",
   "execution_count": null,
   "metadata": {},
   "outputs": [],
   "source": [
    "plt.figure(figsize = (8, 4))\n",
    "\n",
    "# KDE Plot of males\n",
    "sns.kdeplot(df.loc[df['Sex Code'] == 'M', 'Age'], label = 'Males')\n",
    "\n",
    "# KDE plot of females                   \n",
    "sns.kdeplot(df.loc[df['Sex Code'] == 'F', 'Age'], label = 'Females')\n",
    "\n",
    "# Labels\n",
    "plt.xlabel('Age in years'); plt.ylabel('Density'); plt.title('Distribution of Ages');"
   ]
  },
  {
   "cell_type": "markdown",
   "metadata": {},
   "source": [
    "##### Age by Arrest Type Code"
   ]
  },
  {
   "cell_type": "code",
   "execution_count": null,
   "metadata": {},
   "outputs": [],
   "source": [
    "plt.figure(figsize = (15, 5))\n",
    "\n",
    "# KDE Plot of Dependent Arrest Code\n",
    "sns.kdeplot(df.loc[df['Arrest Type Code'] == 'D', 'Age'], label = 'Dependent')\n",
    "\n",
    "# KDE plot of Felony Arrest Code                   \n",
    "sns.kdeplot(df.loc[df['Arrest Type Code'] == 'F', 'Age'], label = 'Felony')\n",
    "\n",
    "# KDE plot of Infraction Arrest Code                   \n",
    "sns.kdeplot(df.loc[df['Arrest Type Code'] == 'I', 'Age'], label = 'Infraction')\n",
    "\n",
    "# KDE plot of Misdemeanor Arrest Code                   \n",
    "sns.kdeplot(df.loc[df['Arrest Type Code'] == 'M', 'Age'], label = 'Misdemeanor')\n",
    "\n",
    "# KDE plot of Other Arrest Code                   \n",
    "sns.kdeplot(df.loc[df['Arrest Type Code'] == 'O', 'Age'], label = 'Other')\n",
    "\n",
    "# Labels\n",
    "plt.xlabel('Age in years'); plt.ylabel('Density'); plt.title('Distribution of Ages by Arrest Type Code');"
   ]
  },
  {
   "cell_type": "markdown",
   "metadata": {},
   "source": [
    "#### Descent Code\n",
    "##### Kernel Density Estimate Plot of Age by Descent Code"
   ]
  },
  {
   "cell_type": "code",
   "execution_count": null,
   "metadata": {},
   "outputs": [],
   "source": [
    "plt.figure(figsize = (15, 5))\n",
    "\n",
    "# KDE Plots Age by Descent Code\n",
    "sns.kdeplot(df.loc[df['Descent Code'] == 'B', 'Age'], label = 'Black')\n",
    "sns.kdeplot(df.loc[df['Descent Code'] == 'H', 'Age'], label = 'Hispanic')\n",
    "sns.kdeplot(df.loc[df['Descent Code'] == 'W', 'Age'], label = 'White')\n",
    "sns.kdeplot(df.loc[df['Descent Code'] == 'I', 'Age'], label = 'American Indian/Alaskan Native')\n",
    "sns.kdeplot(df.loc[df['Descent Code'] == 'O', 'Age'], label = 'Other')\n",
    "\n",
    "# CN: Still working on these:\n",
    "#Asian = ['A', 'C', 'D', 'G', 'F', 'J', 'K', 'L', 'V', 'Z']\n",
    "#PacificIslander = ['G', 'S', 'P', 'U']\n",
    "\n",
    "#sns.kdeplot(df[df['Descent Code'].isin(Asian), 'Age'], label = 'Asian')\n",
    "#sns.kdeplot(df[df['Descent Code'].isin(PacificIslander), 'Age'], label = 'Pacific Islander')\n",
    "\n",
    "\n",
    "# Labels\n",
    "plt.xlabel('Age in years'); plt.ylabel('Density'); plt.title('Distribution of Ages by Descent Code');"
   ]
  },
  {
   "cell_type": "code",
   "execution_count": null,
   "metadata": {},
   "outputs": [],
   "source": [
    "plt.figure(figsize = (15, 5))\n",
    "\n",
    "# KDE Plots Age by Arrest Year\n",
    "sns.kdeplot(df.loc[df['arrest_year'] == 2010, 'Age'], label = '2010')\n",
    "sns.kdeplot(df.loc[df['arrest_year'] == 2011, 'Age'], label = '2011')\n",
    "sns.kdeplot(df.loc[df['arrest_year'] == 2012, 'Age'], label = '2012')\n",
    "sns.kdeplot(df.loc[df['arrest_year'] == 2013, 'Age'], label = '2013')\n",
    "sns.kdeplot(df.loc[df['arrest_year'] == 2014, 'Age'], label = '2014')\n",
    "sns.kdeplot(df.loc[df['arrest_year'] == 2015, 'Age'], label = '2015')\n",
    "sns.kdeplot(df.loc[df['arrest_year'] == 2016, 'Age'], label = '2016')\n",
    "sns.kdeplot(df.loc[df['arrest_year'] == 2017, 'Age'], label = '2017')\n",
    "sns.kdeplot(df.loc[df['arrest_year'] == 2018, 'Age'], label = '2018')\n",
    "sns.kdeplot(df.loc[df['arrest_year'] == 2019, 'Age'], label = '2019')\n",
    "\n",
    "# Labels\n",
    "plt.xlabel('Age in years'); plt.ylabel('Density'); plt.title('Distribution of Ages by Arrest Year');"
   ]
  },
  {
   "cell_type": "code",
   "execution_count": null,
   "metadata": {},
   "outputs": [],
   "source": [
    "# Sex plot\n",
    "arrests_by_code = df[\"Sex Code\"].value_counts()\n",
    "arrests_by_code.sort_values().plot(kind='barh')\n",
    "plt.title('Arrests by Sex')\n",
    "plt.ylabel('Sex')\n",
    "plt.xlabel('Arrests')"
   ]
  },
  {
   "cell_type": "code",
   "execution_count": null,
   "metadata": {},
   "outputs": [],
   "source": [
    "# cross tabulate example from http://nbviewer.ipython.org/gist/fonnesbeck/5850463# \n",
    "%matplotlib inline\n",
    "counts = pd.crosstab([df['Arrest Type Code']], df['Sex Code'])\n",
    "counts.plot(kind='bar', stacked=True)\n",
    "\n",
    "# divide the counts to get rates\n",
    "rate = counts.div(counts.sum(1).astype(float),axis=0)\n",
    "rate.plot(kind='barh', stacked=True)"
   ]
  },
  {
   "cell_type": "code",
   "execution_count": null,
   "metadata": {},
   "outputs": [],
   "source": [
    "# Descent code plot\n",
    "arrests_by_code = df[\"Descent Code\"].value_counts()\n",
    "arrests_by_code.sort_values().plot(kind='barh')\n",
    "plt.title('Arrests by Descent Code')\n",
    "plt.ylabel('Descent Code')\n",
    "plt.xlabel('Arrests')"
   ]
  },
  {
   "cell_type": "code",
   "execution_count": null,
   "metadata": {},
   "outputs": [],
   "source": [
    "# cross tabulate example from http://nbviewer.ipython.org/gist/fonnesbeck/5850463# \n",
    "%matplotlib inline\n",
    "counts = pd.crosstab(df['Descent Code'], df['Sex Code'])\n",
    "counts.plot(kind='bar', stacked=True)\n",
    "\n",
    "# divide the counts to get rates\n",
    "rate = counts.div(counts.sum(1).astype(float),axis=0)\n",
    "rate.plot(kind='barh', stacked=True)"
   ]
  },
  {
   "cell_type": "code",
   "execution_count": null,
   "metadata": {},
   "outputs": [],
   "source": [
    "%matplotlib inline\n",
    "descent = ['B','H','O','W']\n",
    "descent_code = df[df['Descent Code'].isin(descent)]\n",
    "descent_code.head()\n",
    "# cross tabulate example from http://nbviewer.ipython.org/gist/fonnesbeck/5850463# \n",
    "counts = pd.crosstab([descent_code['Descent Code'],descent_code['Arrest Type Code']], descent_code['Sex Code'])\n",
    "counts.plot(kind='bar', stacked=True)\n",
    "\n",
    "# divide the counts to get rates\n",
    "rate = counts.div(counts.sum(1).astype(float),axis=0)\n",
    "rate.plot(kind='barh', stacked=True)"
   ]
  },
  {
   "cell_type": "markdown",
   "metadata": {},
   "source": [
    "##### Arrests by Gender and Day of Week"
   ]
  },
  {
   "cell_type": "code",
   "execution_count": null,
   "metadata": {},
   "outputs": [],
   "source": [
    "# define colors\n",
    "coral = '#f88c8c'\n",
    "lightgreen = '#99ee98'"
   ]
  },
  {
   "cell_type": "code",
   "execution_count": null,
   "metadata": {},
   "outputs": [],
   "source": [
    "pd.crosstab(index=df['arrest_day_of_week'], columns=df['Sex Code']).style.format(\"{:,.0f}\").highlight_max(color=lightgreen).highlight_min(color=coral)"
   ]
  },
  {
   "cell_type": "code",
   "execution_count": null,
   "metadata": {},
   "outputs": [],
   "source": [
    "sns.set(rc={'figure.figsize':(20,35)})\n",
    "\n",
    "# Violin Plot\n",
    "sns.catplot(x = \"Age\",\n",
    "           y = \"arrest_day_of_week\",\n",
    "           hue = \"Sex Code\",\n",
    "           kind = \"violin\",\n",
    "           data = df,\n",
    "           height = 8);\n",
    "\n",
    "# Labels\n",
    "plt.xlabel('Age in years'); plt.ylabel('Day of Week'); plt.title('Distribution of Ages by Gender and Day of Week');"
   ]
  },
  {
   "cell_type": "code",
   "execution_count": null,
   "metadata": {},
   "outputs": [],
   "source": [
    "# cross tab of arrests by Gender, Arrest Type Code, and Day of Week\n",
    "pd.crosstab(index=df['arrest_day_of_week'], \n",
    "            columns=[df['Sex Code'], \n",
    "                     df['Arrest Type Code']], \n",
    "            colnames=['Sex Code','Arrest Type Code']).style.format(\"{:,.0f}\").highlight_max(color = lightgreen).highlight_min(color = coral)"
   ]
  },
  {
   "cell_type": "code",
   "execution_count": null,
   "metadata": {},
   "outputs": [],
   "source": [
    "# Violin plot\n",
    "sns.catplot(x = \"Age\",\n",
    "           y = \"Arrest Type Code\",\n",
    "           hue = \"Sex Code\",\n",
    "           kind = \"violin\",\n",
    "           data = df,\n",
    "           height = 8);\n",
    "\n",
    "# Labels\n",
    "plt.xlabel('Age in years'); plt.ylabel('Arrest Type Code'); plt.title('Distribution of Ages by Gender and Arrest Type Code');"
   ]
  },
  {
   "cell_type": "code",
   "execution_count": null,
   "metadata": {},
   "outputs": [],
   "source": [
    "#CN: Something is broken with this one. Need to keep working on it.\n",
    "#Violin Plot\n",
    "#sns.catplot(x = \"Age\",\n",
    "#           y = df[\"Descent Code\"],\n",
    "#           hue = \"Sex Code\",\n",
    "#           kind = \"violin\",\n",
    "#           data = df,\n",
    "#           height = 8);\n",
    "\n",
    "# Labels\n",
    "#plt.xlabel('Age in years'); plt.ylabel('Descent Code'); plt.title('Distribution of Ages by Gender and Descent Code');"
   ]
  },
  {
   "cell_type": "code",
   "execution_count": null,
   "metadata": {
    "scrolled": false
   },
   "outputs": [],
   "source": [
    "%matplotlib inline\n",
    "fig, axes = plt.subplots(ncols=2, figsize=(20,10))\n",
    "gdf1.plot(column='Male_Counts', ax=axes[0], cmap='plasma', legend=True)\n",
    "plt.title('Male Arrests by Distict')\n",
    "\n",
    "gdf1.plot(column='Female_Counts', ax=axes[1], cmap='plasma', legend=True)\n",
    "plt.title('Female Arrests by Distict')"
   ]
  },
  {
   "cell_type": "code",
   "execution_count": null,
   "metadata": {},
   "outputs": [],
   "source": [
    "#https://towardsdatascience.com/a-complete-guide-to-an-interactive-geographical-map-using-python-f4c5197e23e0\n",
    "#https://github.com/CrazyDaffodils/Interactive-Choropleth-Map-Using-Python\n",
    "\n",
    "#Read data to json\n",
    "merged_json = json.loads(gdf2.to_json())\n",
    "\n",
    "#Convert to str like object\n",
    "json_data = json.dumps(merged_json)"
   ]
  },
  {
   "cell_type": "code",
   "execution_count": null,
   "metadata": {},
   "outputs": [],
   "source": [
    "#Define function that returns json_data for year selected by user.\n",
    "    \n",
    "def json_data(selectedYear):\n",
    "    yr = selectedYear\n",
    "    df_yr = gdf2[gdf2['Year'] == yr]\n",
    "    #merged = gdf.merge(df_yr, left_on = 'country_code', right_on = 'code', how = 'left')\n",
    "    #merged.fillna('No data', inplace = True)\n",
    "    merged_json = json.loads(df_yr.to_json())\n",
    "    json_data = json.dumps(merged_json)\n",
    "    return json_data\n",
    "\n",
    "#Input GeoJSON source that contains features for plotting.\n",
    "geosource = GeoJSONDataSource(geojson = json_data(2010))\n",
    "\n",
    "#Define a sequential multi-hue color palette.\n",
    "palette = brewer['YlGnBu'][9]\n",
    "\n",
    "#Reverse color order so that dark blue is highest obesity.\n",
    "#palette = palette[::-1]\n",
    "\n",
    "#Instantiate LinearColorMapper that linearly maps numbers in a range, into a sequence of colors. Input nan_color.\n",
    "color_mapper = LinearColorMapper(palette = palette, low = 0, high = 2500)\n",
    "\n",
    "#Define custom tick labels for color bar.\n",
    "#tick_labels = {'0': '0%', '5': '5%', '10':'10%', '15':'15%', '20':'20%', '25':'25%', '30':'30%','35':'35%', '40': '>40%'}\n",
    "\n",
    "#Add hover tool\n",
    "hover = HoverTool(tooltips = [ ('Reporting District','@REPDIST'),('Arrests', '@Year_Dist_Counts')])\n",
    "\n",
    "\n",
    "#Create color bar. \n",
    "color_bar = ColorBar(color_mapper=color_mapper, label_standoff=8,width = 500, height = 20,\n",
    "                     border_line_color=None,location = (0,0), orientation = 'horizontal')\n",
    "\n",
    "\n",
    "#Create figure object.\n",
    "p = figure(title = 'Los Angeles Arrests by Reporting District', plot_height = 850 , plot_width = 600, toolbar_location = None, tools = [hover])\n",
    "p.xgrid.grid_line_color = None\n",
    "p.ygrid.grid_line_color = None\n",
    "\n",
    "#Add patch renderer to figure. \n",
    "p.patches('xs','ys', source = geosource,fill_color = {'field' :'Year_Dist_Counts', 'transform' : color_mapper},\n",
    "          line_color = 'black', line_width = 0.25, fill_alpha = 1)\n",
    "\n",
    "\n",
    "p.add_layout(color_bar, 'below')\n",
    "\n",
    "# Define the callback function: update_plot\n",
    "def update_plot(attr, old, new):\n",
    "    yr = slider.value\n",
    "    new_data = json_data(yr)\n",
    "    geosource.geojson = new_data\n",
    "    p.title.text = 'Arrest Counts' %yr\n",
    "    \n",
    "# Make a slider object: slider \n",
    "slider = Slider(title = 'Year',start = 2010, end = 2019, step = 1, value = 2010)\n",
    "slider.on_change('value', update_plot)\n",
    "\n",
    "# Make a column layout of widgetbox(slider) and plot, and add it to the current document\n",
    "layout = column(p,widgetbox(slider))\n",
    "curdoc().add_root(layout)\n",
    "\n",
    "#Display plot inline in Jupyter notebook\n",
    "output_notebook()\n",
    "\n",
    "#Display plot\n",
    "show(layout)"
   ]
  },
  {
   "cell_type": "markdown",
   "metadata": {},
   "source": [
    "### Explore Attributes and Class\n",
    "*(10 points)*  \n",
    "*Identify and explain interesting relationships between features and the class you are trying to predict (i.e., relationships with variables and the target classification).*"
   ]
  },
  {
   "cell_type": "markdown",
   "metadata": {},
   "source": [
    "### New Features\n",
    "*(5 points)*  \n",
    "*Are there other features that could be added to the data or created from\n",
    "existing features? Which ones?*"
   ]
  },
  {
   "cell_type": "markdown",
   "metadata": {},
   "source": [
    "## Exceptional Work\n",
    "*(10 points)*  \n",
    "• *You have free reign to provide additional analyses.  \n",
    "• One idea: implement dimensionality reduction, then visualize and interpret the results.*"
   ]
  },
  {
   "cell_type": "code",
   "execution_count": null,
   "metadata": {},
   "outputs": [],
   "source": []
  },
  {
   "cell_type": "markdown",
   "metadata": {},
   "source": [
    "Distribution of ethnicities from the arrest data compared to Los Angeles 2010 Census findings. The [U.S. Census Bureau](https://www.census.gov/quickfacts/fact/note/US/RHI425218) counts Hispanic origin separate from race, as the category may overlap with other listed demographics. Representation of each ethnicity appears to match with percent distribution national arrest rates from the [FBI](https://ucr.fbi.gov/crime-in-the-u.s/2010/crime-in-the-u.s.-2010/tables/table-43/10tbl43a.xls)\n",
    "\n",
    "Note: Federal level population data is not as complete as source data; many ethnicies are not listed\n",
    "\n",
    "**Table 2: Demographic Breakdown of Arrests from 2010-Present in Los Angeles County**\n",
    "\n",
    "|Descent Code|Ethnicity|Total Arrests|Percentage of Arrests|2010 Census Percentage of Population|2010 FBI Percentage of Arrests|\n",
    "|:---:|:---:|:---:|:---:|:---:|:---:|\n",
    "|A|Other Asian|5362|0.40%|1.2%|\n",
    "|B|Black|380922|28.75%|8.7%|28%|\n",
    "|C|Chinese|836|0.06%|\n",
    "|D|Cambodian|2|0.00%\n",
    "|F|Filipino|933|0.07%\n",
    "|G|Guamanian|53|0.00%\n",
    "|H|Hispanic/Latin/Mexican|618150|46.65%|47.5%\n",
    "|I|American Indian/Alaskan Native|284|0.02%|0.5%|1.4%\n",
    "|J|Japanese|168|0.01%\n",
    "|K|Korean|1114|0.08%\n",
    "|L|Laotian|6|0.00%\n",
    "|O|Other|68067|5.14%\n",
    "|P|Pacific Islander|179|0.01%\n",
    "|S|Samoan|11|0.00%\n",
    "|U|Hawaiian|7|0.00%\n",
    "|V|Vietnamese|18|0.00%\n",
    "|W|White|248742|18.77%|52.4%|69.4%\n",
    "|X|Unknown|112|0.01%\n",
    "|Z|Asian Indian|7|0.00%\n",
    "\n",
    "# From [Wikipedia](https://en.wikipedia.org/wiki/Demographics_of_Los_Angeles_County)   \n",
    "\n",
    "The demographics of Los Angeles County include a diverse people by race, ethnicity, and nationality. The 2010 United States Census reported that Los Angeles County had a population of 9,818,605. The racial makeup of Los Angeles County was 4,936,599 (50.3%) White, 856,874 (8.7%) African American, 72,828 (0.7%) Native American, 1,346,865 (13.7%) Asian (4.0% Chinese, 3.3% Filipino, 2.2% Korean, 1.0% Japanese, 0.9% Vietnamese, 0.8% Indian, 0.3% Cambodian, 0.3% Thai, 0.1% Pakistani), 26,094 (0.3%) Pacific Islander (0.1% Samoan), 2,140,632 (21.8%) from other races, and 438,713 (4.5%) from two or more races.\n",
    "\n",
    "Total 2010 Los Angeles County Population: 10,116,705"
   ]
  }
 ],
 "metadata": {
  "kernelspec": {
   "display_name": "Python 3",
   "language": "python",
   "name": "python3"
  },
  "language_info": {
   "codemirror_mode": {
    "name": "ipython",
    "version": 3
   },
   "file_extension": ".py",
   "mimetype": "text/x-python",
   "name": "python",
   "nbconvert_exporter": "python",
   "pygments_lexer": "ipython3",
   "version": "3.7.6"
  }
 },
 "nbformat": 4,
 "nbformat_minor": 2
}
