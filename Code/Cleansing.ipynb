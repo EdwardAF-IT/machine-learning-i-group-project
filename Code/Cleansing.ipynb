{
 "cells": [
  {
   "cell_type": "code",
   "execution_count": 1,
   "metadata": {},
   "outputs": [],
   "source": [
    "import pandas as pd\n",
    "import numpy as np\n",
    "import datetime\n",
    "from datetime import date\n",
    "import calendar\n",
    "\n",
    "df = pd.read_csv('Data\\Arrest_Data_from_2010_to_Present.csv') # read in the csv file"
   ]
  },
  {
   "cell_type": "code",
   "execution_count": 2,
   "metadata": {},
   "outputs": [],
   "source": [
    "#delete columns not relevant to analysis\n",
    "df.drop(['Report ID','Area ID','Charge Group Code','Location'],axis=1,inplace=True)"
   ]
  },
  {
   "cell_type": "code",
   "execution_count": 3,
   "metadata": {},
   "outputs": [],
   "source": [
    "# Assign, clean up, and split out the classes of data\n",
    "ordinalFeatures = ['Arrest Date', 'Time', 'Age']\n",
    "categoricalFeatures = ['Area Name', 'Reporting District', 'Sex Code', 'Descent Code',\n",
    "                       'Charge Group Description', 'Arrest Type Code', 'Charge', 'Charge Description',\n",
    "                       'Address', 'Cross Street', 'Location']\n",
    "df['Age'] = df['Age'].astype(np.int8)\n",
    "#df['Arrest Date'] = df['Arrest Date'].astype(np.datetime64)\n",
    "df['Reporting District'] = df['Reporting District'].astype(np.str)"
   ]
  },
  {
   "cell_type": "code",
   "execution_count": 4,
   "metadata": {},
   "outputs": [],
   "source": [
    "#need to cleanup the time field...it is stored like 645 instead of 06:45\n",
    "df_cleansed = df\n",
    "\n",
    "#convert float to string\n",
    "df_cleansed['Time'] = df_cleansed['Time'].astype(str) \n",
    "\n",
    "#get rid of decimals\n",
    "df_cleansed['Time'] = df_cleansed['Time'].str.split(\".\", expand=True)[0] \n",
    "\n",
    "#convert missing to 0000\n",
    "df_cleansed['Time'] = df_cleansed['Time'].replace(to_replace=\"nan\",value=\"0000\") \n",
    "\n",
    "#treat 0 as missing and convert to 0000\n",
    "df_cleansed['Time'] = df_cleansed['Time'].replace(to_replace=\"0\",value=\"0000\") \n",
    "\n",
    "#2400 is not a valid time, converting to 0001 so it isn't the same as missing\n",
    "df_cleansed['Time'] = df_cleansed['Time'].replace(to_replace=\"2400\",value=\"0001\") \n",
    "\n",
    "#split the time string to get the appropriate digits that correspond to hours and minutes\n",
    "df_cleansed['Hour'] = np.where(df_cleansed['Time'].str.len() == 4,df_cleansed['Time'].str[-4:2],np.where(df_cleansed['Time'].str.len() == 3,df_cleansed['Time'].str[-3:1],\"00\"))\n",
    "df_cleansed['Minute'] = df_cleansed['Time'].str[-2:4]\n",
    "\n",
    "#put hour and minute back together in time format\n",
    "df_cleansed['NewTime'] = pd.to_datetime(df_cleansed['Hour'] + ':' + df_cleansed['Minute'] + ':00',format='%H:%M:%S').dt.time"
   ]
  },
  {
   "cell_type": "code",
   "execution_count": 5,
   "metadata": {},
   "outputs": [],
   "source": [
    "#need to clean up cross street field\n",
    "\n",
    "#remove duplicate whitespaces\n",
    "df_cleansed['Cross Street'] = df_cleansed['Cross Street'].replace('\\s+',' ',regex=True)\n",
    "df_cleansed['Address'] = df_cleansed['Address'].replace('\\s+',' ',regex=True)\n",
    "\n",
    "#if all digits are numeric, nullify\n",
    "df_cleansed['Address New'] = np.where(df_cleansed[\"Address\"].str.isdigit() == True,np.nan, df_cleansed[\"Address\"])\n",
    "df_cleansed['Cross Street New'] = np.where(df_cleansed[\"Cross Street\"].str.isdigit() == True,np.nan, df_cleansed[\"Cross Street\"])\n",
    "\n",
    "df_cleansed['Address_first_word'] = df_cleansed['Address'].str.split(n=1).str[0]\n",
    "df_cleansed['Street'] = np.where(df_cleansed['Address_first_word'].str.isdigit() == True,df_cleansed['Address'].str.split(n=1).str[1],df_cleansed['Address'])\n",
    "\n",
    "df_cleansed['Cross_street_first_word'] = df_cleansed['Cross Street'].str.split(n=1).str[0]\n",
    "df_cleansed['CrossStreet'] = np.where(df_cleansed['Cross_street_first_word'].str.isdigit() == True,df_cleansed['Cross Street'].str.split(n=1).str[1],df_cleansed['Cross Street'])"
   ]
  },
  {
   "cell_type": "code",
   "execution_count": 6,
   "metadata": {},
   "outputs": [],
   "source": [
    "#delete columns not relevant to analysis\n",
    "df_cleansed.drop(['Time','Hour','Minute','Address','Cross Street','Address New','Cross Street New','Address_first_word','Cross_street_first_word'],axis=1,inplace=True)"
   ]
  },
  {
   "cell_type": "code",
   "execution_count": 7,
   "metadata": {},
   "outputs": [
    {
     "data": {
      "text/html": [
       "<div>\n",
       "<style scoped>\n",
       "    .dataframe tbody tr th:only-of-type {\n",
       "        vertical-align: middle;\n",
       "    }\n",
       "\n",
       "    .dataframe tbody tr th {\n",
       "        vertical-align: top;\n",
       "    }\n",
       "\n",
       "    .dataframe thead th {\n",
       "        text-align: right;\n",
       "    }\n",
       "</style>\n",
       "<table border=\"1\" class=\"dataframe\">\n",
       "  <thead>\n",
       "    <tr style=\"text-align: right;\">\n",
       "      <th></th>\n",
       "      <th>Age</th>\n",
       "    </tr>\n",
       "  </thead>\n",
       "  <tbody>\n",
       "    <tr>\n",
       "      <td>count</td>\n",
       "      <td>1.326626e+06</td>\n",
       "    </tr>\n",
       "    <tr>\n",
       "      <td>mean</td>\n",
       "      <td>3.422556e+01</td>\n",
       "    </tr>\n",
       "    <tr>\n",
       "      <td>std</td>\n",
       "      <td>1.360807e+01</td>\n",
       "    </tr>\n",
       "    <tr>\n",
       "      <td>min</td>\n",
       "      <td>0.000000e+00</td>\n",
       "    </tr>\n",
       "    <tr>\n",
       "      <td>25%</td>\n",
       "      <td>2.300000e+01</td>\n",
       "    </tr>\n",
       "    <tr>\n",
       "      <td>50%</td>\n",
       "      <td>3.200000e+01</td>\n",
       "    </tr>\n",
       "    <tr>\n",
       "      <td>75%</td>\n",
       "      <td>4.500000e+01</td>\n",
       "    </tr>\n",
       "    <tr>\n",
       "      <td>max</td>\n",
       "      <td>9.700000e+01</td>\n",
       "    </tr>\n",
       "  </tbody>\n",
       "</table>\n",
       "</div>"
      ],
      "text/plain": [
       "                Age\n",
       "count  1.326626e+06\n",
       "mean   3.422556e+01\n",
       "std    1.360807e+01\n",
       "min    0.000000e+00\n",
       "25%    2.300000e+01\n",
       "50%    3.200000e+01\n",
       "75%    4.500000e+01\n",
       "max    9.700000e+01"
      ]
     },
     "execution_count": 7,
     "metadata": {},
     "output_type": "execute_result"
    }
   ],
   "source": [
    "df_cleansed.describe()"
   ]
  },
  {
   "cell_type": "code",
   "execution_count": null,
   "metadata": {},
   "outputs": [],
   "source": [
    "#create year, month, day, day of week columns\n",
    "\n",
    "def findYear(date):\n",
    "    year = datetime.datetime.strptime(date, '%m/%d/%Y').year\n",
    "    return(year)\n",
    "\n",
    "df_cleansed['Year'] = df_cleansed['Arrest Date'].apply(findYear)\n",
    "\n",
    "def findMonth(date):\n",
    "    month = datetime.datetime.strptime(date, '%m/%d/%Y').month\n",
    "    return(month)\n",
    "\n",
    "df_cleansed['Month'] = df_cleansed['Arrest Date'].apply(findMonth)\n",
    "\n",
    "def findDay(date):\n",
    "    day = datetime.datetime.strptime(date, '%m/%d/%Y').day\n",
    "    return(day)\n",
    "\n",
    "df_cleansed['Day'] = df_cleansed['Arrest Date'].apply(findDay)\n",
    "\n",
    "def findDay(date): \n",
    "    day = datetime.datetime.strptime(date, '%m/%d/%Y').weekday() \n",
    "    return (calendar.day_name[day]) \n",
    "\n",
    "#df_cleansed['Day of Week'] = df_cleansed['Arrest Date'].apply(findDay)\n",
    "\n",
    "def findNDay(date): \n",
    "    day = datetime.datetime.strptime(date, '%m/%d/%Y').weekday() \n",
    "    return (day) \n",
    "\n",
    "df_cleansed['N Day of Week'] = df_cleansed['Arrest Date'].apply(findNDay)\n",
    "\n",
    "#check results\n",
    "df_cleansed\n",
    "df_cleansed.to_csv(r'Cleansed.csv')"
   ]
  },
  {
   "cell_type": "code",
   "execution_count": null,
   "metadata": {},
   "outputs": [],
   "source": []
  }
 ],
 "metadata": {
  "kernelspec": {
   "display_name": "Python 3",
   "language": "python",
   "name": "python3"
  },
  "language_info": {
   "codemirror_mode": {
    "name": "ipython",
    "version": 3
   },
   "file_extension": ".py",
   "mimetype": "text/x-python",
   "name": "python",
   "nbconvert_exporter": "python",
   "pygments_lexer": "ipython3",
   "version": "3.7.4"
  }
 },
 "nbformat": 4,
 "nbformat_minor": 2
}
