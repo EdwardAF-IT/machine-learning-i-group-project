{
 "cells": [
  {
   "cell_type": "code",
   "execution_count": 1,
   "metadata": {},
   "outputs": [],
   "source": [
    "import pandas as pd\n",
    "import numpy as np\n",
    "\n",
    "df = pd.read_csv('Arrest_Data_from_2010_to_Present.csv') # read in the csv file"
   ]
  },
  {
   "cell_type": "code",
   "execution_count": 2,
   "metadata": {},
   "outputs": [],
   "source": [
    "#delete columns not relevant to analysis\n",
    "df.drop(['Report ID','Area ID','Charge Group Code','Location'],axis=1,inplace=True)"
   ]
  },
  {
   "cell_type": "code",
   "execution_count": 3,
   "metadata": {},
   "outputs": [],
   "source": [
    "#need to cleanup the time field...it is stored like 645 instead of 06:45\n",
    "df_cleansed = df\n",
    "\n",
    "#convert float to string\n",
    "df_cleansed['Time'] = df_cleansed['Time'].astype(str) \n",
    "\n",
    "#get rid of decimals\n",
    "df_cleansed['Time'] = df_cleansed['Time'].str.split(\".\", expand=True)[0] \n",
    "\n",
    "#convert missing to 0000\n",
    "df_cleansed['Time'] = df_cleansed['Time'].replace(to_replace=\"nan\",value=\"0000\") \n",
    "\n",
    "#treat 0 as missing and convert to 0000\n",
    "df_cleansed['Time'] = df_cleansed['Time'].replace(to_replace=\"0\",value=\"0000\") \n",
    "\n",
    "#2400 is not a valid time, converting to 0001 so it isn't the same as missing\n",
    "df_cleansed['Time'] = df_cleansed['Time'].replace(to_replace=\"2400\",value=\"0001\") \n",
    "\n",
    "#split the time string to get the appropriate digits that correspond to hours and minutes\n",
    "df_cleansed['Hour'] = np.where(df_cleansed['Time'].str.len() == 4,df_cleansed['Time'].str[-4:2],np.where(df_cleansed['Time'].str.len() == 3,df_cleansed['Time'].str[-3:1],\"00\"))\n",
    "df_cleansed['Minute'] = df_cleansed['Time'].str[-2:4]\n",
    "\n",
    "#put hour and minute back together in time format\n",
    "df_cleansed['NewTime'] = pd.to_datetime(df_cleansed['Hour'] + ':' + df_cleansed['Minute'] + ':00',format='%H:%M:%S').dt.time"
   ]
  },
  {
   "cell_type": "code",
   "execution_count": 4,
   "metadata": {},
   "outputs": [],
   "source": [
    "#need to clean up cross street field\n",
    "\n",
    "#remove duplicate whitespaces\n",
    "df_cleansed['Cross Street'] = df_cleansed['Cross Street'].replace('\\s+',' ',regex=True)\n",
    "df_cleansed['Address'] = df_cleansed['Address'].replace('\\s+',' ',regex=True)\n",
    "\n",
    "#if all digits are numeric, nullify\n",
    "df_cleansed['Address New'] = np.where(df_cleansed[\"Address\"].str.isdigit() == True,np.nan, df_cleansed[\"Address\"])\n",
    "df_cleansed['Cross Street New'] = np.where(df_cleansed[\"Cross Street\"].str.isdigit() == True,np.nan, df_cleansed[\"Cross Street\"])\n",
    "\n",
    "df_cleansed['Address_first_word'] = df_cleansed['Address'].str.split(n=1).str[0]\n",
    "df_cleansed['Street'] = np.where(df_cleansed['Address_first_word'].str.isdigit() == True,df_cleansed['Address'].str.split(n=1).str[1],df_cleansed['Address'])\n",
    "\n",
    "df_cleansed['Cross_street_first_word'] = df_cleansed['Cross Street'].str.split(n=1).str[0]\n",
    "df_cleansed['CrossStreet'] = np.where(df_cleansed['Cross_street_first_word'].str.isdigit() == True,df_cleansed['Cross Street'].str.split(n=1).str[1],df_cleansed['Cross Street'])"
   ]
  },
  {
   "cell_type": "code",
   "execution_count": 5,
   "metadata": {},
   "outputs": [],
   "source": [
    "#delete columns not relevant to analysis\n",
    "df_cleansed.drop(['Time','Hour','Minute','Address','Cross Street','Address New','Cross Street New','Address_first_word','Cross_street_first_word'],axis=1,inplace=True)\n",
    "\n",
    "#add year column\n",
    "df_cleansed['Date'] = pd.to_datetime(df_cleansed['Arrest Date'])\n",
    "df_cleansed['Year'] = df_cleansed['Date'].dt.year"
   ]
  },
  {
   "cell_type": "code",
   "execution_count": 6,
   "metadata": {},
   "outputs": [],
   "source": [
    "df_cleansed.to_csv(r'Cleansed.csv')"
   ]
  }
 ],
 "metadata": {
  "kernelspec": {
   "display_name": "Python 3",
   "language": "python",
   "name": "python3"
  },
  "language_info": {
   "codemirror_mode": {
    "name": "ipython",
    "version": 3
   },
   "file_extension": ".py",
   "mimetype": "text/x-python",
   "name": "python",
   "nbconvert_exporter": "python",
   "pygments_lexer": "ipython3",
   "version": "3.7.6"
  }
 },
 "nbformat": 4,
 "nbformat_minor": 2
}
