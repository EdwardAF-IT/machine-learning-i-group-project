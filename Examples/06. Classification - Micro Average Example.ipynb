{
 "cells": [
  {
   "cell_type": "markdown",
   "metadata": {},
   "source": [
    "## Get a dataset to work with"
   ]
  },
  {
   "cell_type": "code",
   "execution_count": 10,
   "metadata": {},
   "outputs": [],
   "source": [
    "# fetch the images for the dataset\n",
    "# this will take a long time the first run because it needs to download\n",
    "# after the first time, the dataset will be save to your disk (in sklearn package somewhere) \n",
    "# if this does not run, you may need additional libraries installed on your system (you will need to figure out which ones!!)\n",
    "from sklearn.datasets import fetch_lfw_people\n",
    "\n",
    "# only load people that have N or more examples in the dataset\n",
    "lfw_people = fetch_lfw_people(min_faces_per_person=20, resize=0.4) "
   ]
  },
  {
   "cell_type": "code",
   "execution_count": 11,
   "metadata": {},
   "outputs": [
    {
     "name": "stdout",
     "output_type": "stream",
     "text": [
      "Size of the dataset: (2489, 1850)\n",
      "Number of unique classes: 43\n",
      "['George Robertson' 'George W Bush' 'Gerhard Schroeder'\n",
      " 'Gloria Macapagal Arroyo' 'Gray Davis' 'Hamid Karzai' 'Hans Blix'\n",
      " 'Hugo Chavez' 'Igor Ivanov' 'Jack Straw']\n"
     ]
    },
    {
     "data": {
      "image/png": "[encoded data removed]",
      "text/plain": [
       "<Figure size 432x288 with 1 Axes>"
      ]
     },
     "metadata": {
      "needs_background": "light"
     },
     "output_type": "display_data"
    }
   ],
   "source": [
    "print ('Size of the dataset:', lfw_people.data.shape)\n",
    "print ('Number of unique classes:', len(lfw_people.target_names))\n",
    "print (lfw_people.target_names[10:20])\n",
    "\n",
    "from matplotlib import pyplot as plt\n",
    "import numpy as np\n",
    "%matplotlib inline\n",
    "\n",
    "plt.hist(lfw_people.target, bins=len(lfw_people.target_names))\n",
    "plt.xlabel('Class value (one per face)')\n",
    "plt.ylabel('Class frequency')\n",
    "plt.show()"
   ]
  },
  {
   "cell_type": "markdown",
   "metadata": {},
   "source": [
    "## Set up data, X, Y, scale, and cv splits"
   ]
  },
  {
   "cell_type": "code",
   "execution_count": 133,
   "metadata": {},
   "outputs": [],
   "source": [
    "from sklearn.model_selection import StratifiedKFold\n",
    "from sklearn.preprocessing import StandardScaler\n",
    "import numpy as np\n",
    "import pandas as pd\n",
    "from sklearn import metrics as mt\n",
    "\n",
    "# create variables we are more familiar with\n",
    "X = lfw_people.data\n",
    "y = lfw_people.target\n",
    "yhat = np.zeros(y.shape) # we will fill this with predictions\n",
    "\n",
    "scl = StandardScaler()\n",
    "X = scl.fit_transform(X)\n",
    "\n",
    "# create cross validation iterator\n",
    "cv = StratifiedKFold(n_splits=10)"
   ]
  },
  {
   "cell_type": "markdown",
   "metadata": {},
   "source": [
    "## Create model using GaussianNB and test for accuracy "
   ]
  },
  {
   "cell_type": "code",
   "execution_count": 134,
   "metadata": {},
   "outputs": [
    {
     "name": "stdout",
     "output_type": "stream",
     "text": [
      "Pipeline accuracy 0.5893933306548815\n"
     ]
    }
   ],
   "source": [
    "from sklearn.decomposition import PCA \n",
    "from sklearn.pipeline import Pipeline\n",
    "from sklearn.naive_bayes import GaussianNB\n",
    "\n",
    "# setup pipeline to take PCA, then fit a different classifier\n",
    "clf_pipe = Pipeline(\n",
    "    [('PCA',PCA(n_components=100,svd_solver='randomized')),\n",
    "     ('CLF',GaussianNB())]\n",
    ")\n",
    "\n",
    "yhat_score = np.zeros((y.shape[0],len(lfw_people.target_names)))\n",
    "\n",
    "# now iterate through and get predictions, saved to the correct row in yhat\n",
    "for train, test in cv.split(X,y):\n",
    "    clf_pipe.fit(X[train],y[train])\n",
    "    yhat[test] = clf_pipe.predict(X[test])\n",
    "    yhat_score[test] = clf_pipe.predict_proba(X[test])\n",
    "\n",
    "total_accuracy = mt.accuracy_score(y, yhat)\n",
    "print ('Pipeline accuracy', total_accuracy)"
   ]
  },
  {
   "cell_type": "markdown",
   "metadata": {},
   "source": [
    "## Understanding what the outputs for Predicted Probabilities look like\n",
    "* Below we show the values for the variable yhat_score after it is populated by predict_proba()\n",
    "* The shape tells us that we have one set of predicted probabilities for each of the 2489 records in the test data X[test]\n",
    "* Since there are 43 classes, we have one predicted probability for each class. "
   ]
  },
  {
   "cell_type": "code",
   "execution_count": 185,
   "metadata": {},
   "outputs": [
    {
     "data": {
      "text/plain": [
       "(2489, 43)"
      ]
     },
     "execution_count": 185,
     "metadata": {},
     "output_type": "execute_result"
    }
   ],
   "source": [
    "yhat_score.shape"
   ]
  },
  {
   "cell_type": "markdown",
   "metadata": {},
   "source": [
    "**We will also look at the actual and predicted counts for class 0**"
   ]
  },
  {
   "cell_type": "code",
   "execution_count": 202,
   "metadata": {},
   "outputs": [
    {
     "data": {
      "text/plain": [
       "False    2450\n",
       "True       39\n",
       "dtype: int64"
      ]
     },
     "execution_count": 202,
     "metadata": {},
     "output_type": "execute_result"
    }
   ],
   "source": [
    "pd.value_counts(y == 0)"
   ]
  },
  {
   "cell_type": "code",
   "execution_count": 203,
   "metadata": {},
   "outputs": [
    {
     "data": {
      "text/plain": [
       "False    2462\n",
       "True       27\n",
       "dtype: int64"
      ]
     },
     "execution_count": 203,
     "metadata": {},
     "output_type": "execute_result"
    }
   ],
   "source": [
    "pd.value_counts(yhat == 0)"
   ]
  },
  {
   "cell_type": "markdown",
   "metadata": {},
   "source": [
    "### The confusion matrix shows us how we did on predicting the 39 class 0 records\n",
    "* We have 18 correctly predicted as class 0\n",
    "* and 21 incorrectly predicted as other classes"
   ]
  },
  {
   "cell_type": "code",
   "execution_count": 209,
   "metadata": {},
   "outputs": [
    {
     "data": {
      "text/plain": [
       "array([18,  0,  0,  2,  1,  0,  0,  4,  0,  0,  0,  5,  0,  0,  0,  0,  0,\n",
       "        0,  0,  1,  0,  1,  0,  1,  0,  1,  0,  0,  0,  0,  1,  1,  1,  0,\n",
       "        0,  0,  0,  0,  0,  0,  1,  0,  1], dtype=int64)"
      ]
     },
     "execution_count": 209,
     "metadata": {},
     "output_type": "execute_result"
    }
   ],
   "source": [
    "np.set_printoptions(threshold=np.inf,suppress=False,precision=8)\n",
    "cm = mt.confusion_matrix(y, yhat,np.unique(y))\n",
    "cm[:][0]"
   ]
  },
  {
   "cell_type": "code",
   "execution_count": 262,
   "metadata": {},
   "outputs": [
    {
     "data": {
      "text/plain": [
       "39"
      ]
     },
     "execution_count": 262,
     "metadata": {},
     "output_type": "execute_result"
    }
   ],
   "source": [
    "sum(cm[:][0])"
   ]
  },
  {
   "cell_type": "markdown",
   "metadata": {},
   "source": [
    "**The predicted probabilities for the first test record are displayed below**  "
   ]
  },
  {
   "cell_type": "code",
   "execution_count": 210,
   "metadata": {},
   "outputs": [
    {
     "name": "stdout",
     "output_type": "stream",
     "text": [
      "[4.14022125e-04 3.50954212e-08 4.58731368e-09 5.96899793e-10\n",
      " 9.76219007e-06 1.95894631e-11 7.81204618e-05 2.25781894e-02\n",
      " 4.43084575e-08 4.70380837e-05 1.91393724e-12 9.71686810e-01\n",
      " 1.07635460e-03 1.76567733e-11 1.01539536e-06 4.02664967e-07\n",
      " 1.59189551e-05 7.54370232e-07 2.21534217e-09 3.35115382e-08\n",
      " 1.11447672e-04 7.89152076e-06 4.31181008e-04 1.21900861e-05\n",
      " 6.93135902e-06 1.12629763e-08 3.54185491e-06 2.49214186e-07\n",
      " 4.01391468e-09 1.76742108e-08 1.04887327e-05 6.96197946e-10\n",
      " 9.35002460e-06 1.40400089e-09 7.81136311e-09 1.58290355e-09\n",
      " 2.77624243e-09 2.52861057e-07 4.42354204e-06 2.06643398e-08\n",
      " 7.89533810e-04 1.26251750e-10 2.70394142e-03]\n"
     ]
    }
   ],
   "source": [
    "print(yhat_score[:][0])"
   ]
  },
  {
   "cell_type": "markdown",
   "metadata": {},
   "source": [
    "**The the highest predicted probabilty for the first test record is 96.9%**"
   ]
  },
  {
   "cell_type": "code",
   "execution_count": 211,
   "metadata": {},
   "outputs": [
    {
     "name": "stdout",
     "output_type": "stream",
     "text": [
      "0.9716868102986519\n"
     ]
    }
   ],
   "source": [
    "print(max(yhat_score[:][0]))"
   ]
  },
  {
   "cell_type": "markdown",
   "metadata": {},
   "source": [
    "**The class with the highest predicted proability is class index 11 / class number 10** "
   ]
  },
  {
   "cell_type": "code",
   "execution_count": 212,
   "metadata": {},
   "outputs": [
    {
     "data": {
      "text/plain": [
       "0.9716868102986519"
      ]
     },
     "execution_count": 212,
     "metadata": {},
     "output_type": "execute_result"
    }
   ],
   "source": [
    "yhat_score[:][0,11]"
   ]
  },
  {
   "cell_type": "markdown",
   "metadata": {},
   "source": [
    "## Using the ROC Curve\n",
    "In the below example we can see how to graph the false negatives and false positives in an ROC curve for a given classifier. Please note that the \"scores\" from the classifier have already been populated using the code above. The scores can be interpretted as the the probability that a given class should be designated as positive. These scores are needed so that the ROC can change thresholds deciding if theclass is positive or negative. Once we have the scores, we can send each column of scores (i.e., the probability for that class being positive) into the ROC curve generator and it will give use the arrays of false positives and negatives for that class as the threshold is increased. \n",
    "\n",
    "We save the outputs into a dictionary of fpr and tpr (false positive and true positive rates). The keys to the dictionary are the class value. We can also compute the ROC treshold for all the classes by placing their probabilities into one giant vector and whether they should or should not be a value of one. Please note that this method of combining all classes into a single ROC is not considered a standard method--it has limited utility outside classifier comparison. If you understand the limitations it can be an effective tool. If not, then I would not recommend using it to compare models right away. "
   ]
  },
  {
   "cell_type": "code",
   "execution_count": 167,
   "metadata": {},
   "outputs": [
    {
     "data": {
      "image/png": "[encoded data removed]",
      "text/plain": [
       "<Figure size 432x288 with 1 Axes>"
      ]
     },
     "metadata": {
      "needs_background": "light"
     },
     "output_type": "display_data"
    }
   ],
   "source": [
    "import seaborn as sns\n",
    "sns.set_palette(\"dark\")\n",
    "# code manipulated from http://scikit-learn.org/stable/auto_examples/plot_roc.html\n",
    "from sklearn.preprocessing import label_binarize\n",
    "\n",
    "# Compute ROC curve for a subset of interesting classes\n",
    "fpr = dict()\n",
    "tpr = dict()\n",
    "roc_auc = dict()\n",
    "thresh = dict()\n",
    "for i in np.unique(y):\n",
    "    fpr[i], tpr[i], thresh[i] = mt.roc_curve(y, yhat_score[:, i], pos_label=i)\n",
    "    roc_auc[i] = mt.auc(fpr[i], tpr[i])\n",
    "\n",
    "\n",
    "plt.plot(fpr[0], tpr[0], label='class {0} with {1} instances (area = {2:0.2f})'\n",
    "''.format(0, sum(y==0), roc_auc[0]))\n",
    "\n",
    "plt.legend(loc=\"lower right\")  \n",
    "plt.xlabel('False Positive Rate')\n",
    "plt.ylabel('True Positive Rate')\n",
    "plt.show()"
   ]
  },
  {
   "cell_type": "markdown",
   "metadata": {},
   "source": [
    "## What goes into the ROC curve as Input?\n",
    "* Below we are specifically looking at the inputs for the above code: **mt.roc_curve(y, yhat_score[:, i], pos_label=i)**\n",
    "* The code above uses 2498 test records to calculate the ROC curve for all 43 classes\n",
    "* We are plotting the ROC curve for one class (class 0) above\n",
    "* There were only 39 out of 2489 test records which belong to class 0\n",
    "* The area under the curve for class 0 is 0.83 "
   ]
  },
  {
   "cell_type": "markdown",
   "metadata": {},
   "source": [
    "### y contains the class lables\n",
    "* Note there are 2489 correct responses for y\n",
    "* Each response is just the actual class number that a given test record belongs to."
   ]
  },
  {
   "cell_type": "code",
   "execution_count": 213,
   "metadata": {},
   "outputs": [
    {
     "name": "stdout",
     "output_type": "stream",
     "text": [
      "2489\n"
     ]
    }
   ],
   "source": [
    "#np.set_printoptions(threshold=np.inf)\n",
    "print(len(y))"
   ]
  },
  {
   "cell_type": "code",
   "execution_count": 214,
   "metadata": {},
   "outputs": [
    {
     "name": "stdout",
     "output_type": "stream",
     "text": [
      "[11  7 11 ... 11 12 11]\n"
     ]
    }
   ],
   "source": [
    "np.set_printoptions(threshold=1000)\n",
    "print(y)"
   ]
  },
  {
   "cell_type": "markdown",
   "metadata": {},
   "source": [
    "### yhat_score contains the predicted probabilities\n",
    "* Note that we have 2489 test records.\n",
    "* There are 43 predicted probabilities for each of the 2489 test records. \n",
    "* There are only 39 test records with a class label == 0."
   ]
  },
  {
   "cell_type": "code",
   "execution_count": 215,
   "metadata": {},
   "outputs": [
    {
     "name": "stdout",
     "output_type": "stream",
     "text": [
      "2489\n"
     ]
    }
   ],
   "source": [
    "print(len(yhat_score))"
   ]
  },
  {
   "cell_type": "code",
   "execution_count": 216,
   "metadata": {},
   "outputs": [
    {
     "name": "stdout",
     "output_type": "stream",
     "text": [
      "43\n"
     ]
    }
   ],
   "source": [
    "print(len(yhat_score[:][0]))"
   ]
  },
  {
   "cell_type": "code",
   "execution_count": 217,
   "metadata": {},
   "outputs": [
    {
     "data": {
      "text/plain": [
       "39"
      ]
     },
     "execution_count": 217,
     "metadata": {},
     "output_type": "execute_result"
    }
   ],
   "source": [
    "sum(y==0)"
   ]
  },
  {
   "cell_type": "markdown",
   "metadata": {},
   "source": [
    "### However, we only use part of yhat_score to calculate a single ROC curve for a single class.\n",
    "* For each ROC curve calculated, we only pass in a single column of data from yhat_score\n",
    "* For class 0, the roc_curve() function isolates the class 0 records using pos_label=0\n",
    "* The roc_curve() function then calculates the false and true positive rates at 56 different thresholds.\n",
    "* The area under the curve is 82.88% mt.auc()"
   ]
  },
  {
   "cell_type": "code",
   "execution_count": 218,
   "metadata": {},
   "outputs": [
    {
     "data": {
      "text/plain": [
       "(2489,)"
      ]
     },
     "execution_count": 218,
     "metadata": {},
     "output_type": "execute_result"
    }
   ],
   "source": [
    "yhat_score[:, 0].shape"
   ]
  },
  {
   "cell_type": "code",
   "execution_count": 219,
   "metadata": {},
   "outputs": [
    {
     "name": "stdout",
     "output_type": "stream",
     "text": [
      "56\n"
     ]
    }
   ],
   "source": [
    "print(len(fpr[0]))"
   ]
  },
  {
   "cell_type": "code",
   "execution_count": 220,
   "metadata": {
    "scrolled": true
   },
   "outputs": [
    {
     "name": "stdout",
     "output_type": "stream",
     "text": [
      "56\n"
     ]
    }
   ],
   "source": [
    "print(len(tpr[0]))"
   ]
  },
  {
   "cell_type": "code",
   "execution_count": 221,
   "metadata": {},
   "outputs": [
    {
     "name": "stdout",
     "output_type": "stream",
     "text": [
      "56\n"
     ]
    }
   ],
   "source": [
    "print(len(thresh[0]))"
   ]
  },
  {
   "cell_type": "code",
   "execution_count": 224,
   "metadata": {},
   "outputs": [
    {
     "data": {
      "text/plain": [
       "0.8288016745159602"
      ]
     },
     "execution_count": 224,
     "metadata": {},
     "output_type": "execute_result"
    }
   ],
   "source": [
    "mt.auc(fpr[0], tpr[0])"
   ]
  },
  {
   "cell_type": "markdown",
   "metadata": {},
   "source": [
    "## Micro Average ROC Curve Inputs Example"
   ]
  },
  {
   "cell_type": "code",
   "execution_count": 247,
   "metadata": {},
   "outputs": [
    {
     "data": {
      "text/plain": [
       "[<matplotlib.lines.Line2D at 0x1279544c898>]"
      ]
     },
     "execution_count": 247,
     "metadata": {},
     "output_type": "execute_result"
    },
    {
     "data": {
      "image/png": "[encoded data removed]",
      "text/plain": [
       "<Figure size 864x288 with 1 Axes>"
      ]
     },
     "metadata": {
      "needs_background": "light"
     },
     "output_type": "display_data"
    }
   ],
   "source": [
    "# combined ROC over all classes\n",
    "one_hot_class_encoding = label_binarize(y,np.unique(y))\n",
    "fpr[\"micro\"], tpr[\"micro\"], thresh[\"micro\"] = mt.roc_curve(one_hot_class_encoding.ravel(), yhat_score.ravel())\n",
    "roc_auc[\"micro\"] = mt.auc(fpr[\"micro\"], tpr[\"micro\"])\n",
    "\n",
    "plt.figure(figsize=(12,4))\n",
    "plt.plot(fpr[\"micro\"], tpr[\"micro\"],\n",
    "         label='micro-average ROC curve (area = {0:0.2f})'\n",
    "               ''.format(roc_auc[\"micro\"]))"
   ]
  },
  {
   "cell_type": "markdown",
   "metadata": {},
   "source": [
    "## What goes into the Micro Average ROC curve as Input?\n",
    "* Below we are specifically looking at the inputs for the above code: **mt.roc_curve(one_hot_class_encoding.ravel(), yhat_score.ravel())**\n",
    "* The variable one_hot_class_encoding is created using the label_binarize(y,np.unique(y)) function\n",
    "* label_binarize() creates a one hot encoded matrix using 2489 test lables from y and 43 unique classes (np.unique(y))\n",
    "* This results in a 2489 x 43 matrix that contains 107,027 intersections / values\n",
    "* The ravel function converts the matrix into an array with 107,027 values  "
   ]
  },
  {
   "cell_type": "code",
   "execution_count": 249,
   "metadata": {},
   "outputs": [
    {
     "data": {
      "text/plain": [
       "(2489, 43)"
      ]
     },
     "execution_count": 249,
     "metadata": {},
     "output_type": "execute_result"
    }
   ],
   "source": [
    "one_hot_class_encoding.shape"
   ]
  },
  {
   "cell_type": "code",
   "execution_count": 250,
   "metadata": {},
   "outputs": [
    {
     "data": {
      "text/plain": [
       "107027"
      ]
     },
     "execution_count": 250,
     "metadata": {},
     "output_type": "execute_result"
    }
   ],
   "source": [
    "2489 * 43"
   ]
  },
  {
   "cell_type": "code",
   "execution_count": 254,
   "metadata": {},
   "outputs": [
    {
     "data": {
      "text/plain": [
       "107027"
      ]
     },
     "execution_count": 254,
     "metadata": {},
     "output_type": "execute_result"
    }
   ],
   "source": [
    "len(one_hot_class_encoding.ravel())"
   ]
  },
  {
   "cell_type": "markdown",
   "metadata": {},
   "source": [
    "* yhat_score is also a 2489 x 43 matrix full of predicted probabilities\n",
    "* The ravel function converts the matrix into an array with 107,027 values  "
   ]
  },
  {
   "cell_type": "code",
   "execution_count": 261,
   "metadata": {},
   "outputs": [
    {
     "data": {
      "text/plain": [
       "(2489, 43)"
      ]
     },
     "execution_count": 261,
     "metadata": {},
     "output_type": "execute_result"
    }
   ],
   "source": [
    "yhat_score.shape"
   ]
  },
  {
   "cell_type": "code",
   "execution_count": 255,
   "metadata": {},
   "outputs": [
    {
     "data": {
      "text/plain": [
       "107027"
      ]
     },
     "execution_count": 255,
     "metadata": {},
     "output_type": "execute_result"
    }
   ],
   "source": [
    "len(yhat_score.ravel())"
   ]
  },
  {
   "cell_type": "markdown",
   "metadata": {},
   "source": [
    "* The roc_curve(one_hot_class_encoding.ravel(), yhat_score.ravel()) function takes both of the 107,027 value arrays as input.\n",
    "* It returns true and false positive rates for 2858 thresholds used to plot the micro average roc curve. "
   ]
  },
  {
   "cell_type": "code",
   "execution_count": 259,
   "metadata": {},
   "outputs": [
    {
     "name": "stdout",
     "output_type": "stream",
     "text": [
      "2858\n"
     ]
    }
   ],
   "source": [
    "print(len(tpr['micro']))"
   ]
  },
  {
   "cell_type": "code",
   "execution_count": 260,
   "metadata": {},
   "outputs": [
    {
     "name": "stdout",
     "output_type": "stream",
     "text": [
      "2858\n"
     ]
    }
   ],
   "source": [
    "print(len(fpr['micro']))"
   ]
  },
  {
   "cell_type": "code",
   "execution_count": 256,
   "metadata": {},
   "outputs": [
    {
     "name": "stdout",
     "output_type": "stream",
     "text": [
      "2858\n"
     ]
    }
   ],
   "source": [
    "print(len(thresh['micro']))"
   ]
  },
  {
   "cell_type": "markdown",
   "metadata": {},
   "source": [
    "## For Details on how ROC curves are calculated see:\n",
    "* https://stats.stackexchange.com/questions/145566/how-to-calculate-area-under-the-curve-auc-or-the-c-statistic-by-hand\n",
    "* https://stackoverflow.com/questions/50848163/manually-calculate-auc\n",
    "* https://github.com/scikit-learn/scikit-learn/blob/master/sklearn/metrics/_ranking.py"
   ]
  },
  {
   "cell_type": "code",
   "execution_count": null,
   "metadata": {},
   "outputs": [],
   "source": []
  }
 ],
 "metadata": {
  "anaconda-cloud": {},
  "kernelspec": {
   "display_name": "Python 3",
   "language": "python",
   "name": "python3"
  },
  "language_info": {
   "codemirror_mode": {
    "name": "ipython",
    "version": 3
   },
   "file_extension": ".py",
   "mimetype": "text/x-python",
   "name": "python",
   "nbconvert_exporter": "python",
   "pygments_lexer": "ipython3",
   "version": "3.7.1"
  }
 },
 "nbformat": 4,
 "nbformat_minor": 1
}
